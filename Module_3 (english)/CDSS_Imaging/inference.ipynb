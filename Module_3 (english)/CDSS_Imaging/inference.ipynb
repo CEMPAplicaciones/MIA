{
 "cells": [
  {
   "cell_type": "code",
   "id": "initial_id",
   "metadata": {
    "collapsed": true,
    "ExecuteTime": {
     "end_time": "2025-05-07T15:45:57.745593Z",
     "start_time": "2025-05-07T15:45:57.714649Z"
    }
   },
   "source": [
    "import numpy as np\n",
    "import pickle\n",
    "import nibabel as nib\n",
    "import pandas as pd\n",
    "\n",
    "#Load model\n",
    "model = pickle.load(open('pretrained.pkl','rb'))\n",
    "\n",
    "#Input image\n",
    "img_path = '/Users/jsilva/data/MIA/Autopsy/032_S_0978_I55264/swfdg_normhist.hdr'\n",
    "pat_data = nib.load(img_path).get_fdata()\n",
    "\n",
    "#Resources\n",
    "atlas_path = '/Users/jsilva/repositories/MIA/Module_3 (english)/CDSS_Imaging/cortex_Harvard_Oxford_orig_atlas.nii.gz'\n",
    "atlas_data = nib.load(atlas_path).get_fdata()\n",
    "rois = [14,24,47]\n",
    "\n",
    "features_to_extract = pd.DataFrame(columns=['Inferior_Temporal_Gyrus_anterior_division','Intracalcarine_Cortex','Supracalcarine_Cortex'])\n",
    "\n",
    "results =[]\n",
    "\n",
    "for roi in rois:\n",
    "\n",
    "    indx_ = np.where(atlas_data == roi)\n",
    "    mean_ = np.mean(pat_data[indx_])\n",
    "    results.append(mean_)\n",
    "\n",
    "features_to_extract.loc[0] = results\n",
    "\n",
    "y_pred = model.predict(features_to_extract)\n",
    "\n",
    "\n",
    "if y_pred[0] == 'pure-LB':\n",
    "    print('The hypometabolism presented by this subject is suggestive of Lewy body pathology')\n",
    "else:\n",
    "    print(\"The hypometabolism presented by this subject is suggestive of Alzheimer's Disease pathology\")\n",
    "\n"
   ],
   "outputs": [
    {
     "name": "stdout",
     "output_type": "stream",
     "text": [
      "The hypometabolism presented by this subject is suggestive of Alzheimer's Disease pathology\n"
     ]
    }
   ],
   "execution_count": 6
  },
  {
   "metadata": {},
   "cell_type": "code",
   "outputs": [],
   "execution_count": null,
   "source": "",
   "id": "315a61226f73aec0"
  }
 ],
 "metadata": {
  "kernelspec": {
   "display_name": "Python 3",
   "language": "python",
   "name": "python3"
  },
  "language_info": {
   "codemirror_mode": {
    "name": "ipython",
    "version": 2
   },
   "file_extension": ".py",
   "mimetype": "text/x-python",
   "name": "python",
   "nbconvert_exporter": "python",
   "pygments_lexer": "ipython2",
   "version": "2.7.6"
  }
 },
 "nbformat": 4,
 "nbformat_minor": 5
}
