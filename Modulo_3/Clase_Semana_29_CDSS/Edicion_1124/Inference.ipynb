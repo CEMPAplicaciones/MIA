{
 "cells": [
  {
   "cell_type": "code",
   "id": "initial_id",
   "metadata": {
    "collapsed": true,
    "ExecuteTime": {
     "end_time": "2025-07-04T15:52:11.352628Z",
     "start_time": "2025-07-04T15:52:11.313664Z"
    }
   },
   "source": [
    "import pickle\n",
    "\n",
    "import nibabel as nib\n",
    "import numpy as np\n",
    "import pandas as pd\n",
    "\n",
    "model = pickle.load(open('model_lrc.pkl', 'rb'))\n",
    "\n",
    "img_master_path = '/Users/jsilva/data/MIA/Autopsy/033_S_0723_I27555/swfdg_normhist.img'\n",
    "img_ = nib.load(img_master_path)\n",
    "data_ = img_.get_fdata()\n",
    "\n",
    "df = pd.DataFrame()\n",
    "\n",
    "img_atlas = nib.load(\n",
    "    '/Users/jsilva/repositories/MIA/Modulo_3/Clase_Semana_29_CDSS/cortex_Harvard_Oxford_orig_atlas.nii.gz')\n",
    "atlas_data = img_atlas.get_fdata()\n",
    "\n",
    "df_atlas = pd.read_csv(\"/Users/jsilva/repositories/MIA/Modulo_3/Clase_Semana_29_CDSS/Harvard_Oxford.csv\")\n",
    "\n",
    "for indx_atlas, row_atlas in df_atlas.iterrows():\n",
    "\n",
    "    roi_name = row_atlas[\"ROI_NAME\"]\n",
    "    roi_num = row_atlas[\"ROI_NUM\"]\n",
    "\n",
    "    if roi_name in [\"Inferior_Temporal_Gyrus_anterior_division\", \"Intracalcarine_Cortex\", \"Supracalcarine_Cortex\"]:\n",
    "        indx_roi = np.where(atlas_data == roi_num)\n",
    "        roi_val_subj = np.mean(data_[indx_roi])\n",
    "\n",
    "        df.loc[0, roi_name] = roi_val_subj\n",
    "\n",
    "result = model.predict(df)[0]\n",
    "\n",
    "print(f\"La imagen que has proporcionado tiene características compatibles con la enfermedad de {result}\")"
   ],
   "outputs": [
    {
     "name": "stdout",
     "output_type": "stream",
     "text": [
      "La imagen que has proporcionado tiene características compatibles con la enfermedad de LB\n"
     ]
    }
   ],
   "execution_count": 9
  }
 ],
 "metadata": {
  "kernelspec": {
   "display_name": "Python 3",
   "language": "python",
   "name": "python3"
  },
  "language_info": {
   "codemirror_mode": {
    "name": "ipython",
    "version": 2
   },
   "file_extension": ".py",
   "mimetype": "text/x-python",
   "name": "python",
   "nbconvert_exporter": "python",
   "pygments_lexer": "ipython2",
   "version": "2.7.6"
  }
 },
 "nbformat": 4,
 "nbformat_minor": 5
}
