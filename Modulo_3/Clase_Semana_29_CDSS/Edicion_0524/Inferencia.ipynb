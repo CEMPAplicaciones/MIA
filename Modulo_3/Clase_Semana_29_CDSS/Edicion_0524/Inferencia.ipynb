{
 "cells": [
  {
   "metadata": {
    "ExecuteTime": {
     "end_time": "2025-01-22T16:41:36.961072Z",
     "start_time": "2025-01-22T16:41:36.590636Z"
    }
   },
   "cell_type": "code",
   "source": [
    "import pickle\n",
    "import nibabel as nib\n",
    "import numpy as np\n",
    "import pandas as pd\n",
    "\n",
    "model = pickle.load(open('model_autopsy.pkl', 'rb'))\n",
    "\n",
    "input_img = '/Users/jsilva/data/MIA/Autopsia/005_S_0448_I226091/swfdg_normhist.hdr'\n",
    "img = nib.load(input_img)\n",
    "data = img.get_fdata()"
   ],
   "id": "6ef85c8c31ef9949",
   "outputs": [],
   "execution_count": 7
  },
  {
   "metadata": {
    "ExecuteTime": {
     "end_time": "2025-01-22T16:43:13.823491Z",
     "start_time": "2025-01-22T16:43:13.798993Z"
    }
   },
   "cell_type": "code",
   "source": [
    "atlas_path = '../cortex_Harvard_Oxford_orig_atlas.nii.gz'\n",
    "atlas_img = nib.load(atlas_path)\n",
    "atlas_data = atlas_img.get_fdata()\n",
    "\n",
    "ROIS = [14, 24, 47]\n",
    "means = []\n",
    "for roi in ROIS:\n",
    "    where_roi = np.where(atlas_data == roi)\n",
    "    mean_roi = data[where_roi].mean()\n",
    "    means.append(mean_roi)\n",
    "print(means)\n",
    "\n",
    "X = pd.DataFrame(columns = ['Inferior_Temporal_Gyrus_anterior_division',\n",
    "                            'Intracalcarine_Cortex', 'Supracalcarine_Cortex'])\n",
    "X.loc[0] = means\n",
    "\n",
    "y_pred = model.predict(X)[0]"
   ],
   "id": "a9c4d7c7ba8772b6",
   "outputs": [
    {
     "name": "stdout",
     "output_type": "stream",
     "text": [
      "[1.2518404016915163, 1.5623287472042355, 1.5824454284094749]\n"
     ]
    }
   ],
   "execution_count": 12
  },
  {
   "metadata": {
    "ExecuteTime": {
     "end_time": "2025-01-22T16:43:15.827311Z",
     "start_time": "2025-01-22T16:43:15.823610Z"
    }
   },
   "cell_type": "code",
   "source": [
    "if y_pred == 'pure-LB':\n",
    "    print(\"El patrón de FDG-PET de la imagen proporcionada es compatible con una enfermedad de cuerpos de Lewy\")\n",
    "elif y_pred == 'pure-AD':\n",
    "    print(\"El patrón de FDG-PET de la imagen proporcionada es compatible con una enfermedad de Alzheimer\")"
   ],
   "id": "958850225da9cc66",
   "outputs": [
    {
     "data": {
      "text/plain": [
       "'pure-LB'"
      ]
     },
     "execution_count": 13,
     "metadata": {},
     "output_type": "execute_result"
    }
   ],
   "execution_count": 13
  }
 ],
 "metadata": {
  "kernelspec": {
   "display_name": "Python 3",
   "language": "python",
   "name": "python3"
  },
  "language_info": {
   "codemirror_mode": {
    "name": "ipython",
    "version": 2
   },
   "file_extension": ".py",
   "mimetype": "text/x-python",
   "name": "python",
   "nbconvert_exporter": "python",
   "pygments_lexer": "ipython2",
   "version": "2.7.6"
  }
 },
 "nbformat": 4,
 "nbformat_minor": 5
}
