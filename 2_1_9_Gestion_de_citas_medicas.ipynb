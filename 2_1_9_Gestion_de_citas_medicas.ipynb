{
  "nbformat": 4,
  "nbformat_minor": 0,
  "metadata": {
    "colab": {
      "provenance": [],
      "authorship_tag": "ABX9TyMh6w9KuwPjaMO6qr6+u7Cs",
      "include_colab_link": true
    },
    "kernelspec": {
      "name": "python3",
      "display_name": "Python 3"
    },
    "language_info": {
      "name": "python"
    }
  },
  "cells": [
    {
      "cell_type": "markdown",
      "metadata": {
        "id": "view-in-github",
        "colab_type": "text"
      },
      "source": [
        "<a href=\"https://colab.research.google.com/github/CEMPAplicaciones/MIA/blob/main/2_1_9_Gestion_de_citas_medicas.ipynb\" target=\"_parent\"><img src=\"https://colab.research.google.com/assets/colab-badge.svg\" alt=\"Open In Colab\"/></a>"
      ]
    },
    {
      "cell_type": "markdown",
      "source": [
        "# 📋 Gestión de Citas Médicas\n",
        "\n",
        "## Descripción del Ejercicio\n",
        "Este programa permite gestionar las citas de una consulta médica. Incluye:\n",
        "- Gestión de datos del doctor y sala\n",
        "- Lista de pacientes con sus datos personales\n",
        "- Control de asistencia de pacientes\n",
        "- Cálculo de métricas de atención\n",
        "\n",
        "**Conceptos de Python que se practican:**\n",
        "- Variables y entrada/salida de datos\n",
        "- Diccionarios\n",
        "- Listas\n",
        "- Bucles for y while\n",
        "- Condicionales (if-elif-else)\n",
        "- Operadores"
      ],
      "metadata": {
        "id": "IdO0FFFeNt4X"
      }
    },
    {
      "cell_type": "markdown",
      "source": [
        "## 1. Variables y Entrada/Salida de Datos\n",
        "Creamos las variables principales del programa y solicitamos información al usuario."
      ],
      "metadata": {
        "id": "4qBxIpDURqqR"
      }
    },
    {
      "cell_type": "code",
      "execution_count": null,
      "metadata": {
        "colab": {
          "base_uri": "https://localhost:8080/"
        },
        "id": "-VKB5bFjNrhQ",
        "outputId": "d85f9970-6132-44e2-a561-91c2d9b5432f"
      },
      "outputs": [
        {
          "output_type": "stream",
          "name": "stdout",
          "text": [
            "=== SISTEMA DE GESTIÓN DE CITAS MÉDICAS ===\n",
            "Introduzca el nombre del doctor: Dr Pedro Pascal\n",
            "Introduzca la fecha de hoy (dd/mm/yyyy): 01/02/2023\n",
            "Introduzca el número de sala de consulta: 123\n",
            "Introduzca el número máximo de pacientes por día: 30\n",
            "\n",
            "==================================================\n",
            "Doctor: Dr Pedro Pascal\n",
            "Fecha: 01/02/2023\n",
            "Sala de consulta: 123\n",
            "Capacidad máxima: 30 pacientes\n",
            "==================================================\n"
          ]
        }
      ],
      "source": [
        "# Solicitar información al doctor\n",
        "print(\"=== SISTEMA DE GESTIÓN DE CITAS MÉDICAS ===\")\n",
        "\n",
        "\n",
        "doctor = input(\"Introduzca el nombre del doctor: \")\n",
        "fecha = input(\"Introduzca la fecha de hoy (dd/mm/yyyy): \")\n",
        "sala_consulta = input(\"Introduzca el número de sala de consulta: \")\n",
        "max_pacientes = int(input(\"Introduzca el número máximo de pacientes por día: \"))\n",
        "\n",
        "# Mostrar información del doctor y consulta\n",
        "print(\"\\n\" + \"=\"*50)\n",
        "print(\"Ficha del/a Dr./a\")\n",
        "print(f\"Doctor: {doctor}\")\n",
        "print(f\"Fecha: {fecha}\")\n",
        "print(f\"Sala de consulta: {sala_consulta}\")\n",
        "print(f\"Capacidad máxima: {max_pacientes} pacientes\")\n",
        "print(\"=\"*50)"
      ]
    },
    {
      "cell_type": "markdown",
      "source": [
        "## 2. Diccionarios - Datos de Pacientes\n",
        "Creamos diccionarios para cada paciente con sus datos personales y hora de cita."
      ],
      "metadata": {
        "id": "1QmUL5msR65W"
      }
    },
    {
      "cell_type": "code",
      "source": [
        "# Crear diccionarios para cada paciente\n",
        "paciente_1 = {\n",
        "    'nombre': 'María',\n",
        "    'apellidos': 'Lozano Pérez',\n",
        "    'edad': 48,\n",
        "    'hora': '09:00',\n",
        "    'atendido': False\n",
        "}\n",
        "\n",
        "paciente_2 = {\n",
        "    'nombre': 'Laura',\n",
        "    'apellidos': 'González López',\n",
        "    'edad': 56,\n",
        "    'hora': '10:00',\n",
        "    'atendido': False\n",
        "}\n",
        "\n",
        "paciente_3 = {\n",
        "    'nombre': 'Sofía',\n",
        "    'apellidos': 'Fernández Sierra',\n",
        "    'edad': 85,\n",
        "    'hora': '11:00',\n",
        "    'atendido': False\n",
        "}\n",
        "\n",
        "print(\"✅ Diccionarios de pacientes creados correctamente\")\n",
        "print(f\"Ejemplo - Paciente 1: {paciente_1['nombre']} {paciente_1['apellidos']}, {paciente_1['edad']} años\")"
      ],
      "metadata": {
        "colab": {
          "base_uri": "https://localhost:8080/"
        },
        "id": "ynlJpZR9R87P",
        "outputId": "13242280-99fe-491f-9aa6-abf2a2b25994"
      },
      "execution_count": null,
      "outputs": [
        {
          "output_type": "stream",
          "name": "stdout",
          "text": [
            "✅ Diccionarios de pacientes creados correctamente\n",
            "Ejemplo - Paciente 1: María Lozano Pérez, 48 años\n"
          ]
        }
      ]
    },
    {
      "cell_type": "markdown",
      "source": [
        "## 3. Listas - Gestión de Pacientes\n",
        "Creamos una lista con todos los pacientes y mostramos información básica."
      ],
      "metadata": {
        "id": "fbpsyrciSAbn"
      }
    },
    {
      "cell_type": "code",
      "source": [
        "# Crear lista de pacientes\n",
        "pacientes = [paciente_1, paciente_2, paciente_3]\n",
        "\n",
        "# Alternativa: crear lista vacía y añadir elementos\n",
        "# pacientes = []\n",
        "# pacientes.append(paciente_1)\n",
        "# pacientes.append(paciente_2)\n",
        "# pacientes.append(paciente_3)\n",
        "\n",
        "# Mostrar número total de pacientes\n",
        "print(f\"\\n📊 Número total de pacientes citados: {len(pacientes)}\")\n",
        "print(f\"Capacidad disponible: {max_pacientes - len(pacientes)} citas más\")"
      ],
      "metadata": {
        "colab": {
          "base_uri": "https://localhost:8080/"
        },
        "id": "XbKHnRi5SCY3",
        "outputId": "59304fcb-5579-416b-d8e1-9deb9bf95bcc"
      },
      "execution_count": null,
      "outputs": [
        {
          "output_type": "stream",
          "name": "stdout",
          "text": [
            "\n",
            "📊 Número total de pacientes citados: 3\n",
            "Capacidad disponible: 27 citas más\n"
          ]
        }
      ]
    },
    {
      "cell_type": "markdown",
      "source": [
        "## 4. Bucle For - Mostrar Lista de Citas\n",
        "Recorremos la lista de pacientes y mostramos sus datos."
      ],
      "metadata": {
        "id": "NbSVa0sZSEl5"
      }
    },
    {
      "cell_type": "code",
      "source": [
        "# Mostrar lista de citas del día\n",
        "print(\"\\n📅 CITAS PROGRAMADAS PARA HOY:\")\n",
        "print(\"-\" * 40)\n",
        "\n",
        "for paciente in pacientes:\n",
        "    nombre_completo = paciente['nombre'] + ' ' + paciente['apellidos']\n",
        "    hora_consulta = paciente['hora']\n",
        "    edad = paciente['edad']\n",
        "\n",
        "    print(f\"🕐 {hora_consulta}h - {nombre_completo} ({edad} años)\")\n",
        "\n",
        "print(\"-\" * 40)"
      ],
      "metadata": {
        "colab": {
          "base_uri": "https://localhost:8080/"
        },
        "id": "YeY6j83fSF-X",
        "outputId": "327a673e-6ebf-4caf-c9fb-8779975f6c74"
      },
      "execution_count": null,
      "outputs": [
        {
          "output_type": "stream",
          "name": "stdout",
          "text": [
            "\n",
            "📅 CITAS PROGRAMADAS PARA HOY:\n",
            "----------------------------------------\n",
            "🕐 09:00h - María Lozano Pérez (48 años)\n",
            "🕐 10:00h - Laura González López (56 años)\n",
            "🕐 11:00h - Sofía Fernández Sierra (85 años)\n",
            "----------------------------------------\n"
          ]
        }
      ]
    },
    {
      "cell_type": "markdown",
      "source": [
        "## 5. Bucles While y Condicionales - Control de Asistencia\n",
        "Implementamos el sistema para registrar si cada paciente ha sido atendido."
      ],
      "metadata": {
        "id": "YHvMrvzQSHxL"
      }
    },
    {
      "cell_type": "code",
      "source": [
        "print(\"\\n🏥 INICIO DE CONSULTAS\")\n",
        "print(\"=\" * 30)\n",
        "\n",
        "# Recorrer cada paciente\n",
        "for paciente in pacientes:\n",
        "    # Mostrar información del paciente actual\n",
        "    nombre_completo = paciente['nombre'] + ' ' + paciente['apellidos']\n",
        "    hora_consulta = paciente['hora']\n",
        "\n",
        "    print(f\"\\n👤 Siguiente paciente:\")\n",
        "    print(f\"   Nombre: {nombre_completo}\")\n",
        "    print(f\"   Hora: {hora_consulta}h\")\n",
        "    print(f\"   Edad: {paciente['edad']} años\")\n",
        "\n",
        "    # Control de consulta finalizada\n",
        "    consulta_finalizada = False\n",
        "\n",
        "    # Bucle while para validar respuesta\n",
        "    while not consulta_finalizada:\n",
        "        atendido = input(\"\\n❓ ¿El paciente ha sido atendido? (Si/No): \")\n",
        "\n",
        "        if atendido.lower() in ['si', 'sí', 's']:\n",
        "            paciente['atendido'] = True\n",
        "            consulta_finalizada = True\n",
        "            print(\"✅ Paciente marcado como ATENDIDO\")\n",
        "\n",
        "        elif atendido.lower() in ['no', 'n']:\n",
        "            paciente['atendido'] = False\n",
        "            consulta_finalizada = True\n",
        "            print(\"❌ Paciente marcado como NO ATENDIDO\")\n",
        "\n",
        "        else:\n",
        "            print(\"⚠️  Por favor, conteste 'Si' o 'No'\")\n",
        "\n",
        "print(\"\\n🏁 Todas las consultas han sido procesadas\")"
      ],
      "metadata": {
        "colab": {
          "base_uri": "https://localhost:8080/"
        },
        "id": "SJkoRpuTSJHL",
        "outputId": "5b9a8a79-f8f8-43a0-f3da-b10198b83419"
      },
      "execution_count": null,
      "outputs": [
        {
          "output_type": "stream",
          "name": "stdout",
          "text": [
            "\n",
            "🏥 INICIO DE CONSULTAS\n",
            "==============================\n",
            "\n",
            "👤 Siguiente paciente:\n",
            "   Nombre: María Lozano Pérez\n",
            "   Hora: 09:00h\n",
            "   Edad: 48 años\n"
          ]
        }
      ]
    },
    {
      "cell_type": "markdown",
      "source": [
        "## 6. Operadores - Cálculo de Métricas\n",
        "Calculamos estadísticas sobre la atención de pacientes."
      ],
      "metadata": {
        "id": "MIkyrgd4SLN7"
      }
    },
    {
      "cell_type": "code",
      "source": [
        "# Calcular número de pacientes atendidos\n",
        "pacientes_atendidos = 0\n",
        "\n",
        "for paciente in pacientes:\n",
        "    if paciente['atendido'] == True:\n",
        "        pacientes_atendidos += 1\n",
        "\n",
        "# Calcular número total de pacientes citados\n",
        "pacientes_totales = len(pacientes)\n",
        "\n",
        "# Calcular porcentaje de pacientes atendidos\n",
        "if pacientes_totales > 0:\n",
        "    porcentaje_atendidos = (pacientes_atendidos / pacientes_totales) * 100\n",
        "else:\n",
        "    porcentaje_atendidos = 0\n",
        "\n",
        "# Mostrar métricas\n",
        "print(\"\\n📊 MÉTRICAS DEL DÍA\")\n",
        "print(\"=\" * 25)\n",
        "print(f\"👥 Pacientes citados: {pacientes_totales}\")\n",
        "print(f\"✅ Pacientes atendidos: {pacientes_atendidos}\")\n",
        "print(f\"❌ Pacientes no atendidos: {pacientes_totales - pacientes_atendidos}\")\n",
        "print(f\"📈 Porcentaje de atención: {porcentaje_atendidos:.1f}%\")\n",
        "\n",
        "# Mostrar capacidad restante\n",
        "citas_disponibles = max_pacientes - pacientes_totales\n",
        "print(f\"🆓 Citas disponibles: {citas_disponibles}\")"
      ],
      "metadata": {
        "id": "7pUxWqeeSNGv"
      },
      "execution_count": null,
      "outputs": []
    },
    {
      "cell_type": "markdown",
      "source": [
        "## 7. Resumen Final - Estado de Pacientes\n",
        "Mostramos un resumen detallado del estado de cada paciente."
      ],
      "metadata": {
        "id": "B5fKDhbcSO2d"
      }
    },
    {
      "cell_type": "code",
      "source": [
        "print(\"\\n📋 RESUMEN DETALLADO\")\n",
        "print(\"=\" * 40)\n",
        "\n",
        "for i, paciente in enumerate(pacientes, 1):\n",
        "    nombre_completo = paciente['nombre'] + ' ' + paciente['apellidos']\n",
        "    estado = \"✅ ATENDIDO\" if paciente['atendido'] else \"❌ NO ATENDIDO\"\n",
        "\n",
        "    print(f\"{i}. {paciente['hora']}h - {nombre_completo}\")\n",
        "    print(f\"   Estado: {estado}\")\n",
        "    print()\n",
        "\n",
        "print(f\"Consulta del Dr./Dra. {doctor} - Sala {sala_consulta}\")\n",
        "print(f\"Fecha: {fecha}\")\n",
        "print(\"\\n🎉 ¡Programa ejecutado correctamente!\")"
      ],
      "metadata": {
        "id": "sgEjcyvtSQRs"
      },
      "execution_count": null,
      "outputs": []
    },
    {
      "cell_type": "markdown",
      "source": [
        "\n",
        "---\n",
        "\n",
        "## 🚀 Ejercicios Adicionales (Opcional)\n",
        "\n",
        "### Ejercicio 1: Añadir más pacientes\n",
        "Modifica el código para añadir 2 pacientes más a la lista.\n",
        "\n",
        "### Ejercicio 2: Validación de edad\n",
        "Añade validación para que la edad esté entre 0 y 120 años.\n",
        "\n",
        "### Ejercicio 3: Ordenar por hora\n",
        "Ordena la lista de pacientes por hora de cita.\n",
        "\n",
        "### Ejercicio 4: Buscar paciente\n",
        "Implementa una función para buscar un paciente por nombre."
      ],
      "metadata": {
        "id": "bzdV7G8LSSoR"
      }
    },
    {
      "cell_type": "code",
      "source": [
        "# Espacio para ejercicios adicionales\n",
        "# ¡Experimenta con el código aquí!\n",
        "\n",
        "# Ejemplo: Función para buscar paciente\n",
        "def buscar_paciente(lista_pacientes, nombre_buscar):\n",
        "    \"\"\"\n",
        "    Busca un paciente por nombre en la lista\n",
        "    \"\"\"\n",
        "    for paciente in lista_pacientes:\n",
        "        if nombre_buscar.lower() in paciente['nombre'].lower():\n",
        "            return paciente\n",
        "    return None\n",
        "\n",
        "# Prueba la función (descomenta para usar)\n",
        "# resultado = buscar_paciente(pacientes, \"María\")\n",
        "# if resultado:\n",
        "#     print(f\"Paciente encontrado: {resultado['nombre']} {resultado['apellidos']}\")\n",
        "# else:\n",
        "#     print(\"Paciente no encontrado\")"
      ],
      "metadata": {
        "id": "hboDZo97SUYH"
      },
      "execution_count": null,
      "outputs": []
    }
  ]
}