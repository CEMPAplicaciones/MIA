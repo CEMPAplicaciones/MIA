{
 "cells": [
  {
   "cell_type": "markdown",
   "metadata": {
    "colab_type": "text",
    "id": "view-in-github"
   },
   "source": [
    "<a href=\"https://colab.research.google.com/github/txusser/Master_IA_Sanidad/blob/main/Modulo_2/2_2_4_Entornos_virtuales.ipynb\" target=\"_parent\"><img src=\"https://colab.research.google.com/assets/colab-badge.svg\" alt=\"Open In Colab\"/></a>"
   ]
  },
  {
   "cell_type": "code",
   "execution_count": 2,
   "metadata": {
    "colab": {
     "base_uri": "https://localhost:8080/"
    },
    "id": "jYUBihgD2y3d",
    "outputId": "ef175820-cb04-4d33-cff9-586ff4f69f52"
   },
   "outputs": [
    {
     "name": "stdout",
     "output_type": "stream",
     "text": [
      "Collecting virtualenv\n",
      "  Downloading virtualenv-20.10.0-py2.py3-none-any.whl (5.6 MB)\n",
      "\u001b[K     |████████████████████████████████| 5.6 MB 5.1 MB/s \n",
      "\u001b[?25hCollecting distlib<1,>=0.3.1\n",
      "  Downloading distlib-0.3.3-py2.py3-none-any.whl (496 kB)\n",
      "\u001b[K     |████████████████████████████████| 496 kB 57.0 MB/s \n",
      "\u001b[?25hRequirement already satisfied: filelock<4,>=3.2 in /usr/local/lib/python3.7/dist-packages (from virtualenv) (3.4.0)\n",
      "Requirement already satisfied: importlib-metadata>=0.12 in /usr/local/lib/python3.7/dist-packages (from virtualenv) (4.8.2)\n",
      "Collecting backports.entry-points-selectable>=1.0.4\n",
      "  Downloading backports.entry_points_selectable-1.1.1-py2.py3-none-any.whl (6.2 kB)\n",
      "Requirement already satisfied: six<2,>=1.9.0 in /usr/local/lib/python3.7/dist-packages (from virtualenv) (1.15.0)\n",
      "Collecting platformdirs<3,>=2\n",
      "  Downloading platformdirs-2.4.0-py3-none-any.whl (14 kB)\n",
      "Requirement already satisfied: typing-extensions>=3.6.4 in /usr/local/lib/python3.7/dist-packages (from importlib-metadata>=0.12->virtualenv) (3.10.0.2)\n",
      "Requirement already satisfied: zipp>=0.5 in /usr/local/lib/python3.7/dist-packages (from importlib-metadata>=0.12->virtualenv) (3.6.0)\n",
      "Installing collected packages: platformdirs, distlib, backports.entry-points-selectable, virtualenv\n",
      "Successfully installed backports.entry-points-selectable-1.1.1 distlib-0.3.3 platformdirs-2.4.0 virtualenv-20.10.0\n"
     ]
    }
   ],
   "source": [
    "## Virtual Environments with virtualenv\n",
    "\n",
    "# Install virtualenv\n",
    "!pip3 install virtualenv"
   ]
  },
  {
   "cell_type": "code",
   "execution_count": 3,
   "metadata": {
    "colab": {
     "base_uri": "https://localhost:8080/"
    },
    "id": "unSDs49c35jh",
    "outputId": "adfff2a6-437d-4c93-e531-d0d51d3aee0c"
   },
   "outputs": [
    {
     "name": "stdout",
     "output_type": "stream",
     "text": [
      "created virtual environment CPython3.7.12.final.0-64 in 846ms\n",
      "  creator CPython3Posix(dest=/content/mi_entorno, clear=False, no_vcs_ignore=False, global=False)\n",
      "  seeder FromAppData(download=False, pip=bundle, setuptools=bundle, wheel=bundle, via=copy, app_data_dir=/root/.local/share/virtualenv)\n",
      "    added seed packages: pip==21.3.1, setuptools==58.3.0, wheel==0.37.0\n",
      "  activators BashActivator,CShellActivator,FishActivator,NushellActivator,PowerShellActivator,PythonActivator\n"
     ]
    }
   ],
   "source": [
    "# Creating a virtual environment with venv is as simple as running the following command:\n",
    "!virtualenv my_environment"
   ]
  },
  {
   "cell_type": "code",
   "execution_count": 4,
   "metadata": {
    "colab": {
     "base_uri": "https://localhost:8080/"
    },
    "id": "da52XLUq5UXp",
    "outputId": "ef3734fb-9655-4141-89df-95e1c3778637"
   },
   "outputs": [
    {
     "name": "stdout",
     "output_type": "stream",
     "text": [
      "Collecting numpy==1.20.3\n",
      "  Downloading numpy-1.20.3-cp37-cp37m-manylinux_2_12_x86_64.manylinux2010_x86_64.whl (15.3 MB)\n",
      "     |████████████████████████████████| 15.3 MB 179 kB/s            \n",
      "\u001b[?25hInstalling collected packages: numpy\n",
      "Successfully installed numpy-1.20.3\n",
      "Collecting scikit-learn==0.24.2\n",
      "  Downloading scikit_learn-0.24.2-cp37-cp37m-manylinux2010_x86_64.whl (22.3 MB)\n",
      "     |████████████████████████████████| 22.3 MB 1.6 MB/s            \n",
      "\u001b[?25hCollecting threadpoolctl>=2.0.0\n",
      "  Downloading threadpoolctl-3.0.0-py3-none-any.whl (14 kB)\n",
      "Collecting scipy>=0.19.1\n",
      "  Downloading scipy-1.7.2-cp37-cp37m-manylinux_2_12_x86_64.manylinux2010_x86_64.whl (38.2 MB)\n",
      "     |████████████████████████████████| 38.2 MB 25 kB/s              \n",
      "\u001b[?25hRequirement already satisfied: numpy>=1.13.3 in ./mi_entorno/lib/python3.7/site-packages (from scikit-learn==0.24.2) (1.20.3)\n",
      "Collecting joblib>=0.11\n",
      "  Downloading joblib-1.1.0-py2.py3-none-any.whl (306 kB)\n",
      "     |████████████████████████████████| 306 kB 50.9 MB/s            \n",
      "\u001b[?25hInstalling collected packages: threadpoolctl, scipy, joblib, scikit-learn\n",
      "Successfully installed joblib-1.1.0 scikit-learn-0.24.2 scipy-1.7.2 threadpoolctl-3.0.0\n"
     ]
    }
   ],
   "source": [
    "# We are going to install specific versions of numpy and scikit-learn in this environment\n",
    "!source /content/my_environment/bin/activate; pip3 install numpy==1.20.3\n",
    "!source /content/my_environment/bin/activate; pip3 install scikit-learn==0.24.2"
   ]
  },
  {
   "cell_type": "code",
   "execution_count": null,
   "metadata": {
    "colab": {
     "base_uri": "https://localhost:8080/"
    },
    "id": "K_N4NzUv7SjU",
    "outputId": "c7684e3e-85e0-4b42-e6cb-2def412c2efa"
   },
   "outputs": [
    {
     "name": "stdout",
     "output_type": "stream",
     "text": [
      "numpy version: 1.19.5\n",
      "Python 3.7.12 (default, Sep 10 2021, 00:21:48) \n",
      "[GCC 7.5.0] on linux\n",
      "Type \"help\", \"copyright\", \"credits\" or \"license\" for more information.\n",
      ">>> import numpy as np\n",
      ">>> print(\"version\", np.__version__)\n",
      "version 1.20.3\n",
      ">>> import sklearn\n",
      ">>> print(sklearn.__version__)\n",
      "0.24.2\n",
      ">>> "
     ]
    }
   ],
   "source": [
    "# Let's test the libraries we just activated\n",
    "import numpy as np\n",
    "print(\"numpy version:\", np.__version__)\n",
    "!source /content//my_environment/bin/activate; python"
   ]
  },
  {
   "cell_type": "code",
   "execution_count": null,
   "metadata": {
    "id": "QCmyQx2L8xoe"
   },
   "outputs": [],
   "source": [
    "# The truth is that Google Colab is not designed to work with virtual environments; Colab itself \n",
    "# is already an isolated environment. Try creating your environments in your local terminal."
   ]
  }
 ],
 "metadata": {
  "colab": {
   "authorship_tag": "ABX9TyPjp8iZJtqArLwBU7LXiY/j",
   "include_colab_link": true,
   "name": "2_2_4_Entornos_virtuales.ipynb",
   "provenance": []
  },
  "kernelspec": {
   "display_name": "Python 3 (ipykernel)",
   "language": "python",
   "name": "python3"
  },
  "language_info": {
   "codemirror_mode": {
    "name": "ipython",
    "version": 3
   },
   "file_extension": ".py",
   "mimetype": "text/x-python",
   "name": "python",
   "nbconvert_exporter": "python",
   "pygments_lexer": "ipython3",
   "version": "3.12.4"
  }
 },
 "nbformat": 4,
 "nbformat_minor": 4
}
