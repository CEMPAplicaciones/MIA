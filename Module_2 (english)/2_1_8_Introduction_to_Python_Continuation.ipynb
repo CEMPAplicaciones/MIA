{
 "cells": [
  {
   "cell_type": "markdown",
   "metadata": {
    "colab_type": "text",
    "id": "view-in-github"
   },
   "source": [
    "<a href=\"https://colab.research.google.com/github/txusser/Master_IA_Sanidad/blob/main/Modulo_2/2_1_8_Introducci%C3%B3n_Python_Continuacion.ipynb\" target=\"_parent\"><img src=\"https://colab.research.google.com/assets/colab-badge.svg\" alt=\"Open In Colab\"/></a>"
   ]
  },
  {
   "cell_type": "code",
   "execution_count": null,
   "metadata": {
    "id": "7WVtiUb5qEb4"
   },
   "outputs": [],
   "source": [
    "# We will use Rich to enhance the screen output\n",
    "import pandas as pd\n",
    "import numpy as np\n",
    "\n",
    "from rich import print\n",
    "from rich.console import Console\n",
    "from rich.panel import Panel\n",
    "from rich.syntax import Syntax\n",
    "\n",
    "# Rich Configuration\n",
    "console = Console()\n",
    "\n",
    "# Configuration to display more columns and rows\n",
    "pd.set_option('display.max_columns', None)\n",
    "pd.set_option('display.max_rows', 10)"
   ]
  },
  {
   "cell_type": "markdown",
   "metadata": {
    "id": "kmrPaVqLrRsC"
   },
   "source": [
    "## Data Loading\n"
   ]
  },
  {
   "cell_type": "code",
   "execution_count": null,
   "metadata": {
    "colab": {
     "base_uri": "https://localhost:8080/",
     "height": 623
    },
    "id": "s3InGJ4krUER",
    "outputId": "87cea5af-a117-45a3-f051-97411da62107"
   },
   "outputs": [],
   "source": [
    "console.rule(\"[bold]Data Loading in Colab (Pandas) [/bold]\")\n",
    "\n",
    "my_file = '/content/sample_data/california_housing_test.csv'\n",
    "print(\"my_file:\", my_file)\n",
    "\n",
    "df = pd.read_csv(my_file)\n",
    "print(df)"
   ]
  },
  {
   "cell_type": "code",
   "execution_count": null,
   "metadata": {
    "colab": {
     "base_uri": "https://localhost:8080/",
     "height": 622
    },
    "id": "OIdNJKXqq2X0",
    "outputId": "0fa8d772-42cc-45b6-fb40-0c3ba3793887"
   },
   "outputs": [],
   "source": [
    "from google.colab import files\n",
    "\n",
    "# Request the user to upload a CSV file\n",
    "console.print(\"Please select a CSV file to upload.\")\n",
    "uploaded = files.upload()\n",
    "\n",
    "# The uploaded file is stored in a dictionary\n",
    "# Retrieve the name of the first (and only) uploaded file\n",
    "file_name = list(uploaded.keys())[0]\n",
    "\n",
    "console.print(f\"[bold]Uploaded file:[/bold] {file_name}\")\n",
    "\n",
    "df_upload = pd.read_csv(file_name)\n",
    "\n",
    "df_upload"
   ]
  },
  {
   "cell_type": "code",
   "execution_count": null,
   "metadata": {
    "colab": {
     "base_uri": "https://localhost:8080/"
    },
    "id": "shSyKhYWxPzd",
    "outputId": "b4c0280f-078c-4023-e011-461a388537e7"
   },
   "outputs": [],
   "source": [
    "print(\"First rows of the DataFrame loaded from CSV:\")\n",
    "print(df.tail(10))"
   ]
  },
  {
   "cell_type": "code",
   "execution_count": null,
   "metadata": {
    "colab": {
     "base_uri": "https://localhost:8080/"
    },
    "id": "tN-GXp9Yxfzw",
    "outputId": "ac6bb2f8-a823-4ac3-df25-1818a40eaa79"
   },
   "outputs": [],
   "source": [
    "print(\"\\nDataFrame Information:\")\n",
    "print(df.info())"
   ]
  },
  {
   "cell_type": "code",
   "execution_count": null,
   "metadata": {
    "colab": {
     "base_uri": "https://localhost:8080/",
     "height": 372
    },
    "id": "uRV_SNJirISh",
    "outputId": "a5b4d86c-7230-4f83-a67d-353486487577"
   },
   "outputs": [],
   "source": [
    "# Function to print code with syntax highlighting\n",
    "def print_code(code, language=\"python\"):\n",
    "    syntax = Syntax(code, language, theme=\"monokai\", line_numbers=True)\n",
    "    console.print(syntax)\n",
    "\n",
    "# CSV Loading\n",
    "console.print(Panel(\"CSV File Loading\", style=\"cyan\"))\n",
    "csv_file = '/content/sample_data/california_housing_test.csv'\n",
    "print_code(f\"df_csv = pd.read_csv('{csv_file}')\")\n",
    "df_csv = pd.read_csv(csv_file)\n",
    "console.print(df_csv.head())"
   ]
  },
  {
   "cell_type": "code",
   "execution_count": null,
   "metadata": {
    "colab": {
     "base_uri": "https://localhost:8080/",
     "height": 169
    },
    "id": "aDQaI8NS6s3r",
    "outputId": "da6dd35d-ff17-4665-b895-8fe054c65f2b"
   },
   "outputs": [],
   "source": [
    "# Excel Data Loading\n",
    "console.rule(\"Excel Data Loading\")\n",
    "\n",
    "# Colab does not include example Excel files, so we will create one\n",
    "data = {\n",
    "    'Nombre': ['Ana', 'Juan', 'María'],\n",
    "    'Edad': [25, 30, 28],\n",
    "    'Ciudad': ['Madrid', 'Barcelona', 'Sevilla']\n",
    "}\n",
    "df = pd.DataFrame(data)\n",
    "\n",
    "# Save the DataFrame as an Excel file\n",
    "excel_path = '/content/sample_data/datos_excel.xlsx'\n",
    "df.to_excel(excel_path, index=False)\n",
    "\n",
    "# Now read the Excel file\n",
    "df_excel = pd.read_excel(excel_path)\n",
    "\n",
    "print(\"DataFrame loaded from Excel:\")\n",
    "print(df_excel)\n",
    "\n",
    "# Save the DataFrame as a CSV file for later use\n",
    "df.to_csv('/content/sample_data/datos_csv.csv')"
   ]
  },
  {
   "cell_type": "code",
   "execution_count": null,
   "metadata": {
    "colab": {
     "base_uri": "https://localhost:8080/",
     "height": 154
    },
    "id": "hellKwdP7VN-",
    "outputId": "624b9d4d-6079-400e-96b8-cb1ebb9b307d"
   },
   "outputs": [],
   "source": [
    "# JSON Data Loading\n",
    "console.rule(\"JSON Data Loading\")\n",
    "\n",
    "# Create a JSON example\n",
    "json_data = '''\n",
    "{\n",
    "  \"empleados\": [\n",
    "    {\"nombre\": \"Carlos\", \"edad\": 28, \"ciudad\": \"Valencia\"},\n",
    "    {\"nombre\": \"Lucía\", \"edad\": 32, \"ciudad\": \"Bilbao\"},\n",
    "    {\"nombre\": \"Pedro\", \"edad\": 35, \"ciudad\": \"Málaga\"}\n",
    "  ]\n",
    "}\n",
    "'''\n",
    "\n",
    "# Load the JSON\n",
    "df_json = pd.read_json(io.StringIO(json_data))\n",
    "\n",
    "print(\"DataFrame loaded from JSON:\")\n",
    "print(df_json)"
   ]
  },
  {
   "cell_type": "code",
   "execution_count": null,
   "metadata": {
    "colab": {
     "base_uri": "https://localhost:8080/",
     "height": 177
    },
    "id": "iD_KawIT7iwI",
    "outputId": "6af8040e-b592-4b69-87a0-e64022897bed"
   },
   "outputs": [],
   "source": [
    "# Data Loading from a Dictionary\n",
    "console.rule(\"Data Loading from Dictionary\")\n",
    "\n",
    "data_dict = {\n",
    "    'Producto': ['A', 'B', 'C', 'D'],\n",
    "    'Precio': [100, 200, 150, 300],\n",
    "    'Stock': [10, 20, 15, 5]\n",
    "}\n",
    "\n",
    "df_dict = pd.DataFrame(data_dict)\n",
    "\n",
    "print(\"DataFrame created from a dictionary:\")\n",
    "print(df_dict)"
   ]
  },
  {
   "cell_type": "code",
   "execution_count": null,
   "metadata": {
    "colab": {
     "base_uri": "https://localhost:8080/",
     "height": 200
    },
    "id": "R6fKMEYjrQRY",
    "outputId": "e0fd1cb6-b1b2-4024-bf7b-ab7dd9847f17"
   },
   "outputs": [],
   "source": [
    "# Data Loading from a URL (using the Iris dataset as an example)\n",
    "console.rule(\"7. Data Loading from URL\")\n",
    "\n",
    "url = \"https://archive.ics.uci.edu/ml/machine-learning-databases/iris/iris.data\"\n",
    "column_names = ['sepal_length', 'sepal_width', 'petal_length', 'petal_width', 'class']\n",
    "df_url = pd.read_csv(url, header=None, names=column_names)\n",
    "\n",
    "print(\"First rows of the DataFrame loaded from URL:\")\n",
    "print(df_url.head())"
   ]
  },
  {
   "cell_type": "markdown",
   "metadata": {
    "id": "Ztw_bMEkjCkS"
   },
   "source": [
    "# Exception Handling"
   ]
  },
  {
   "cell_type": "code",
   "execution_count": null,
   "metadata": {
    "colab": {
     "base_uri": "https://localhost:8080/",
     "height": 422
    },
    "id": "Dde71EzIjFzx",
    "outputId": "a82ed663-4f3c-425f-8d3a-88fc2449367b"
   },
   "outputs": [],
   "source": [
    "console.rule(\"[bold]Exceptions[/bold]\")\n",
    "\n",
    "def add_numbers(x: int, y: int):\n",
    "    try:\n",
    "        print(f\"Result: {x + y}\")\n",
    "    except TypeError as err:\n",
    "        print(\"You must add variables of the same data type (integers).\", err)\n",
    "\n",
    "# Correct usage\n",
    "add_numbers(7, 9)\n",
    "\n",
    "# Incorrect usage (commented)\n",
    "# add_numbers(7, 'add')"
   ]
  },
  {
   "cell_type": "code",
   "execution_count": null,
   "metadata": {
    "colab": {
     "base_uri": "https://localhost:8080/"
    },
    "id": "f_ye8vSHqqiu",
    "outputId": "7046ea9d-2898-4394-d8c5-35be37256c88"
   },
   "outputs": [],
   "source": [
    "def operation(x: int, y: int):\n",
    "    try:\n",
    "        return x + y\n",
    "    except TypeError:\n",
    "        print(\"Error! Check the arguments:\")\n",
    "        return None\n",
    "\n",
    "z = operation(7, 'la')\n",
    "print(f\"Operation: {z}\")"
   ]
  },
  {
   "cell_type": "code",
   "execution_count": null,
   "metadata": {
    "colab": {
     "base_uri": "https://localhost:8080/"
    },
    "id": "ORNIJ2VFtKzP",
    "outputId": "511babcd-91d9-4b5b-f10f-99ddfeb0274f"
   },
   "outputs": [],
   "source": [
    "def my_function(n: int = 3, greeting: str = 'hello'):\n",
    "    \"\"\"\n",
    "    This function repeats a greeting n times.\n",
    "\n",
    "    :param n: int - number of times to greet\n",
    "    :param greeting: str - the greeting to display\n",
    "    \"\"\"\n",
    "    print(n * greeting)\n",
    "\n",
    "my_function(greeting='goodbye\\n')"
   ]
  }
 ],
 "metadata": {
  "colab": {
   "authorship_tag": "ABX9TyPLyxElg2Lf7sbRDHt6teUF",
   "include_colab_link": true,
   "provenance": []
  },
  "kernelspec": {
   "display_name": "Python 3 (ipykernel)",
   "language": "python",
   "name": "python3"
  },
  "language_info": {
   "codemirror_mode": {
    "name": "ipython",
    "version": 3
   },
   "file_extension": ".py",
   "mimetype": "text/x-python",
   "name": "python",
   "nbconvert_exporter": "python",
   "pygments_lexer": "ipython3",
   "version": "3.12.4"
  }
 },
 "nbformat": 4,
 "nbformat_minor": 4
}
