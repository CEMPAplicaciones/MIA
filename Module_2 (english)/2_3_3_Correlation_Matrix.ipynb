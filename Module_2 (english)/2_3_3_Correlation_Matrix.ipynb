{
 "cells": [
  {
   "cell_type": "markdown",
   "metadata": {
    "colab_type": "text",
    "id": "view-in-github"
   },
   "source": [
    "<a href=\"https://colab.research.google.com/github/txusser/Master_IA_Sanidad/blob/main/Modulo_2/2_3_3_Matriz_de__correlacion.ipynb\" target=\"_parent\"><img src=\"https://colab.research.google.com/assets/colab-badge.svg\" alt=\"Open In Colab\"/></a>"
   ]
  },
  {
   "cell_type": "code",
   "execution_count": null,
   "metadata": {
    "colab": {
     "base_uri": "https://localhost:8080/"
    },
    "id": "kIq0hfpnuG2V",
    "outputId": "d9a7034f-8ac9-48c7-a7fc-68183d59eb28"
   },
   "outputs": [],
   "source": [
    "import pandas as pd\n",
    "\n",
    "# Load the data from our CSV file\n",
    "data_file = 'https://github.com/txusser/Master_IA_Sanidad/blob/main/Modulo_2/datos/heart.csv'\n",
    "data_file = 'https://github.com/txusser/Master_IA_Sanidad/raw/main/Modulo_2/datos/diabetic_data.csv'\n",
    "# An alternative option\n",
    "# !wget 'https://github.com/txusser/Master_IA_Sanidad/blob/main/Modulo_2/datos/heart.csv' .\n",
    "\n",
    "# df = pd.read_csv('heart.csv', error_bad_lines=False, sep=',', header=None)\n",
    "df = pd.read_csv(data_file, sep=',')\n",
    "print(df.head())"
   ]
  },
  {
   "cell_type": "code",
   "execution_count": null,
   "metadata": {
    "colab": {
     "base_uri": "https://localhost:8080/",
     "height": 1000
    },
    "id": "MbMAOwr662Uu",
    "outputId": "051be38f-f0a7-4c29-c532-9fbbb48e93e6"
   },
   "outputs": [],
   "source": [
    "from matplotlib import pyplot as plt\n",
    "import numpy as np\n",
    "\n",
    "# data = read_csv(Path, names = names)\n",
    "cols = df.columns\n",
    "\n",
    "print(\"First columns of the dataset:\")\n",
    "[print(\" -\", col) for col in cols[0:12]]\n",
    "\n",
    "correlations = df.corr()\n",
    "print(\"Correlation values:\\n\", correlations)\n",
    "\n",
    "fig = plt.figure(1, figsize=(20,20))\n",
    "ax = fig.add_subplot(111)\n",
    "cax = ax.matshow(correlations, vmin=-1, vmax=1, cmap='RdYlGn')\n",
    "fig.colorbar(cax)\n",
    "\n",
    "cols = [col[0:12] for col in cols[0:12]]\n",
    "\n",
    "ticks = np.arange(0, len(cols)+1, 1)\n",
    "ax.set_xticks(ticks)\n",
    "ax.set_yticks(ticks)\n",
    "ax.set_xticklabels(cols, rotation=45)\n",
    "ax.set_yticklabels(cols, rotation=45)\n",
    "fig.suptitle(\"Correlation Matrix of Variables\")\n",
    "\n",
    "plt.show()\n",
    "\n",
    "corr = df.corr()\n",
    "corr.style.background_gradient(cmap='coolwarm').set_precision(2)"
   ]
  }
 ],
 "metadata": {
  "colab": {
   "authorship_tag": "ABX9TyN0JpQTjk1xZcgkMe3rhjB0",
   "collapsed_sections": [],
   "include_colab_link": true,
   "name": "2.3.3_Matriz_de _correlacion.ipynb",
   "provenance": []
  },
  "kernelspec": {
   "display_name": "Python 3 (ipykernel)",
   "language": "python",
   "name": "python3"
  },
  "language_info": {
   "codemirror_mode": {
    "name": "ipython",
    "version": 3
   },
   "file_extension": ".py",
   "mimetype": "text/x-python",
   "name": "python",
   "nbconvert_exporter": "python",
   "pygments_lexer": "ipython3",
   "version": "3.12.4"
  }
 },
 "nbformat": 4,
 "nbformat_minor": 4
}
