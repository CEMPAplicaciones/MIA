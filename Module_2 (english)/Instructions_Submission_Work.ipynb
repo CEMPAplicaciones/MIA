{
 "cells": [
  {
   "cell_type": "markdown",
   "metadata": {
    "colab_type": "text",
    "id": "view-in-github"
   },
   "source": [
    "<a href=\"https://colab.research.google.com/github/txusser/Master_IA_Sanidad/blob/main/Modulo_2/Instrucciones_Entrega_Trabajo.ipynb\" target=\"_parent\"><img src=\"https://colab.research.google.com/assets/colab-badge.svg\" alt=\"Open In Colab\"/></a>"
   ]
  },
  {
   "cell_type": "markdown",
   "metadata": {
    "id": "pNhVyqh9JNM-"
   },
   "source": [
    "## Instructions for submitting the module 2 assignment\n",
    "\n",
    "We will generate a PDF file that includes our name or initials, the title of the assignment, and a link to the programming notebook where we solved the tasks.\n",
    "\n",
    "To do this, from the programming notebook we will use the \"Share\" option from the menu.\n",
    "\n",
    "We will select the \"Share with anyone with the link\" option in \"Viewer\" mode.\n",
    "\n",
    "We will then copy the link generated into a new Google Colab notebook. This new notebook will be the document we must export as a PDF to upload to the CEMP/Northius platform for assignment submission.\n",
    "\n",
    "The final process is explained in the following cell, which contains the only text we are required to submit as the assignment.\n"
   ]
  },
  {
   "cell_type": "markdown",
   "metadata": {
    "id": "iKyI_5mNN1NE"
   },
   "source": [
    "## Final Project of Module 2 - Master's in AI Applications in Healthcare\n",
    "\n",
    "### Student: FIRST NAME - LAST NAME\n",
    "\n",
    "* Link to the programming notebook:\n",
    "\n",
    "https://colab.research.google.com/drive/1ZgJXPjGxfEvLQgj8YUaM0CPUtIuR0aEV?usp=sharing\n"
   ]
  },
  {
   "cell_type": "markdown",
   "metadata": {
    "id": "2hUi8broJVGf"
   },
   "source": [
    "We will use the menu: \"File\" => \"Print\" => Save as PDF\n",
    "This will generate the PDF file that we will upload to the platform.\n",
    "\n",
    "That's it!\n"
   ]
  }
 ],
 "metadata": {
  "colab": {
   "authorship_tag": "ABX9TyOxW6OWOMqmyKdCYdp9+y9n",
   "include_colab_link": true,
   "provenance": []
  },
  "kernelspec": {
   "display_name": "Python 3 (ipykernel)",
   "language": "python",
   "name": "python3"
  },
  "language_info": {
   "codemirror_mode": {
    "name": "ipython",
    "version": 3
   },
   "file_extension": ".py",
   "mimetype": "text/x-python",
   "name": "python",
   "nbconvert_exporter": "python",
   "pygments_lexer": "ipython3",
   "version": "3.12.4"
  }
 },
 "nbformat": 4,
 "nbformat_minor": 4
}
