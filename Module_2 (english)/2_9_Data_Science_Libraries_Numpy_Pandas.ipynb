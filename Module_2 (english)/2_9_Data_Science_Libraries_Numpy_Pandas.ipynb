{
 "cells": [
  {
   "cell_type": "markdown",
   "metadata": {
    "colab_type": "text",
    "id": "view-in-github"
   },
   "source": [
    "<a href=\"https://colab.research.google.com/github/txusser/Master_IA_Sanidad/blob/main/Modulo_2/2_9_Librerias_Ciencia_Datos_Numpy_Pandas.ipynb\" target=\"_parent\"><img src=\"https://colab.research.google.com/assets/colab-badge.svg\" alt=\"Open In Colab\"/></a>"
   ]
  },
  {
   "cell_type": "markdown",
   "metadata": {
    "id": "O22wCMdbS92C"
   },
   "source": [
    "## Python Libraries for Data Science"
   ]
  },
  {
   "cell_type": "markdown",
   "metadata": {
    "id": "xIdktCj0kyQy"
   },
   "source": [
    "### Numpy\n",
    "NumPy's n-dimensional arrays are faster and more compact than Python lists. An array consumes less memory and is convenient to use. NumPy uses much less memory to store data and provides a mechanism to specify data types. This allows further optimization of the code.\n",
    "\n",
    "* More information about Numpy in [Numpy fundamentals](https://numpy.org/doc/stable/user/basics.html)\n"
   ]
  },
  {
   "cell_type": "code",
   "execution_count": null,
   "metadata": {
    "colab": {
     "base_uri": "https://localhost:8080/",
     "height": 38
    },
    "id": "85ducdclAdoP",
    "outputId": "a196c049-8eca-4cfb-82ff-2803ba569af0"
   },
   "outputs": [],
   "source": [
    "from rich import print\n",
    "from rich.console import Console\n",
    "console = Console()\n",
    "\n",
    "# We add a title for the NumPy arrays section\n",
    "console.rule(\"[cyan]Start numpy arrays[/cyan]\")\n",
    "\n",
    "# Import the NumPy library as 'np' (common convention)\n",
    "import numpy as np\n"
   ]
  },
  {
   "cell_type": "markdown",
   "metadata": {
    "id": "k8NWEsQpVttB"
   },
   "source": [
    "### Getting started and working with arrays:\n"
   ]
  },
  {
   "cell_type": "code",
   "execution_count": null,
   "metadata": {
    "colab": {
     "base_uri": "https://localhost:8080/",
     "height": 185
    },
    "id": "cAJ71jn6TLhx",
    "outputId": "75243c5f-d6b0-49fa-a751-e18a50213da6"
   },
   "outputs": [],
   "source": [
    "# We create a Python list with numbers from 0 to 4\n",
    "l = list(range(5))\n",
    "print(\"List l:\", l)\n",
    "\n",
    "# We create a NumPy array with numbers from 0 to 4\n",
    "a = np.arange(5)\n",
    "print(\"Array a: \", a)\n",
    "\n",
    "print(\"type(l):\", type(l))  # Display the data type of 'l'\n",
    "print(\"type(a):\", type(a))  # Display the data type of 'a'\n",
    "\n",
    "# We create a NumPy array with numbers from 1 to 20, with a step of 3\n",
    "a = np.arange(4, 21, 3)\n",
    "print(f\"\\n- a = {a}\")\n",
    "\n",
    "# We create a NumPy array with odd numbers from 1 to 19\n",
    "a = np.arange(1, 20, 2)\n",
    "print(f\"\\n- a = {a}\")\n",
    "\n",
    "# Display the data type of the array 'a'\n",
    "print(\"\\n- Data type of a:\", type(a))\n"
   ]
  },
  {
   "cell_type": "code",
   "execution_count": null,
   "metadata": {
    "colab": {
     "base_uri": "https://localhost:8080/",
     "height": 164
    },
    "id": "plxWsrb8V0C-",
    "outputId": "3af6739b-4069-4adb-927e-5fdbb9122b82"
   },
   "outputs": [],
   "source": [
    "# We create a new Python list\n",
    "l = [1, 2, 4, 6]\n",
    "print(\"List l=\", l)\n",
    "print(\"type(l):\", type(l))\n",
    "\n",
    "# Convert the Python list into a NumPy array\n",
    "alist = np.array(l)\n",
    "print(\"\\n- alist:\", alist)\n",
    "print(\" = Data type of alist:\", type(alist))\n",
    "\n",
    "# Show the dimensionality (shape) of the NumPy array\n",
    "print(\"Dimensions:\", alist.shape)\n"
   ]
  },
  {
   "cell_type": "code",
   "execution_count": null,
   "metadata": {
    "colab": {
     "base_uri": "https://localhost:8080/",
     "height": 416
    },
    "id": "jbsS7xkwlZ6c",
    "outputId": "41709af6-6b09-4784-a2b3-ebba7f4a7587"
   },
   "outputs": [],
   "source": [
    "console.rule(\"[cyan]Creation of arrays[/cyan]\")\n",
    "\n",
    "# One-dimensional array\n",
    "print(\"\\n=== One-dimensional array ===\")\n",
    "x = np.linspace(0, 9, 21)\n",
    "print(f\"x = {x}\\n\")\n",
    "\n",
    "# One-dimensional array with specific elements\n",
    "print(\"=== One-dimensional array with specific elements ===\")\n",
    "y = np.array([1, 3, 5, 7, 9])\n",
    "print(f\"y = {y}\\n\")\n",
    "\n",
    "# One-dimensional array with random elements\n",
    "print(\"=== Array with random elements ===\")\n",
    "z = np.random.rand(1)\n",
    "print(f\"z = \\n{z}\\n\")\n",
    "z = np.random.rand(1)\n",
    "print(f\"z = \\n{z}\\n\")\n",
    "\n",
    "# Generate random numbers and calculate mean and standard deviation\n",
    "a = np.random.rand(10000)\n",
    "print(\"-a shape:\", a.shape)\n",
    "print(\"mean:\", np.mean(a))\n",
    "print(\"std:\", np.std(a))\n"
   ]
  },
  {
   "cell_type": "code",
   "execution_count": null,
   "metadata": {
    "colab": {
     "base_uri": "https://localhost:8080/",
     "height": 563
    },
    "id": "1ifWSkBu72qV",
    "outputId": "eb73b81c-1390-45f0-f0ec-2a9774a788ae"
   },
   "outputs": [],
   "source": [
    "# Multidimensional array with random elements\n",
    "print(\"=== Multidimensional array with random elements ===\")\n",
    "z = np.random.rand(4, 3)  # Creates an array with 4 rows and 3 columns, with random numbers between 0 and 1\n",
    "print(f\"z = \\n{z}\")\n",
    "print(f\"Shape of z: {z.shape}\")  # Displays the dimensions of the array\n",
    "print(f\"Data type of z: {z.dtype}\\n\")  # Displays the data type of the array\n",
    "z = np.rint(z).astype(np.int8)\n",
    "print(\"Int8:\", z)\n",
    "print(f\"Data type of z: {z.dtype}\\n\")  # Displays the data type of the array\n",
    "\n",
    "# Array of zeros\n",
    "print(\"=== Array of zeros ===\")\n",
    "zeros = np.zeros((2, 5))\n",
    "print(f\"zeros = \\n{zeros}\\n\")\n",
    "\n",
    "# Array of ones\n",
    "print(\"=== Array of ones ===\")\n",
    "ones = np.ones((3, 3))\n",
    "print(f\"ones = \\n{ones}\\n\")\n"
   ]
  },
  {
   "cell_type": "markdown",
   "metadata": {
    "id": "5RWRLOIVwOKE"
   },
   "source": [
    "### Manipulation of multidimensional arrays in Python\n",
    "* Creation of 2D arrays, type conversion (from float to int), rounding, and operations with arrays such as identifying unique values.\n",
    "* Working with arrays of mixed elements and generating large random arrays.\n",
    "\n",
    "The utility of these operations lies in their efficiency for handling large datasets, which is essential in statistical analysis, image processing, and machine learning.\n"
   ]
  },
  {
   "cell_type": "code",
   "execution_count": null,
   "metadata": {
    "colab": {
     "base_uri": "https://localhost:8080/",
     "height": 416
    },
    "id": "1WJUxtggs4j6",
    "outputId": "54a48af8-86d1-41e0-97de-87719695d8ba"
   },
   "outputs": [],
   "source": [
    "console.rule(\"[cyan]Higher Dimensional Arrays[/cyan]\")\n",
    "\n",
    "# Higher-dimensional array\n",
    "print(\"\\n=== Higher-dimensional array ===\")\n",
    "y = np.array([[1.48889, 2.89, 3.777], [4.324353463, 5, 6], [1, 2, 5], [2, 2, 2]], np.float16)\n",
    "print(f\"y = {y}\\nShape: {y.shape}\")\n",
    "y = np.rint(y).astype(np.int8) # The astype method allows us to modify the data type of the array\n",
    "print(f\"\\nConversion to closest integers => y: \\n{y}\")\n",
    "\n",
    "# Bidimensional array with mixed elements\n",
    "print(\"\\n=== Bidimensional array with mixed elements ===\")\n",
    "a = np.array([[1, 2, 2, 4, 3, 4], [1, 22.345245, 2, 42, 3, 4]])\n",
    "print(\"Array a:\", a)\n",
    "\n",
    "# Get unique values\n",
    "z, c = np.unique(a, return_counts=True)\n",
    "print(f\"= Unique values in the array: {z}\")\n",
    "print(\"How many times each value repeats:\", c)\n",
    "\n",
    "# Count unique values\n",
    "z = np.random.rand(5040, 40)\n",
    "print(\"Unique values in z:\", len(np.unique(z)))\n",
    "print(\"Size; 5040*40=\", 5040*40)\n"
   ]
  },
  {
   "cell_type": "markdown",
   "metadata": {
    "id": "9vQnKrKEv_pf"
   },
   "source": [
    "### Basic Descriptive Statistics\n",
    "\n",
    "Basic statistical methods that can be applied to NumPy arrays, essential for exploratory data analysis in data science: calculating the maximum, minimum, mean, standard deviation, and percentiles of an array.\n"
   ]
  },
  {
   "cell_type": "code",
   "execution_count": null,
   "metadata": {
    "colab": {
     "base_uri": "https://localhost:8080/",
     "height": 416
    },
    "id": "IeTTCrFQuH08",
    "outputId": "cfaf6815-a557-422b-f832-aeb9d261269c"
   },
   "outputs": [],
   "source": [
    "console.rule(\"[cyan]Various Methods to Execute on Arrays[/cyan]\")\n",
    "\n",
    "y=z\n",
    "print(\"Y:\", y)\n",
    "\n",
    "print(\"\\nMaximum value:\")\n",
    "print(\"Max:\", np.max(y))\n",
    "\n",
    "print(\"\\nMinimum value:\")\n",
    "print(\"Min:\", np.min(y))\n",
    "\n",
    "print(\"\\nMean:\")\n",
    "print(\"Mean:\", np.mean(y))\n",
    "\n",
    "print(\"\\nStandard deviation:\")\n",
    "print(\"Std:\", np.std(y))\n",
    "\n",
    "print(\"\\n25th Percentile:\")\n",
    "print(\"Pct:\", np.percentile(y, q=25))\n",
    "print(\"Pct Q99:\", np.percentile(y, q=99))\n"
   ]
  },
  {
   "cell_type": "code",
   "execution_count": null,
   "metadata": {
    "colab": {
     "base_uri": "https://localhost:8080/",
     "height": 269
    },
    "id": "5OR6VId8ww-z",
    "outputId": "ee22c2a5-989d-40fe-a5d5-1da877484415"
   },
   "outputs": [],
   "source": [
    "# Complement of descriptive statistics\n",
    "\n",
    "print(\"\\nMedian:\")\n",
    "print(\"Median:\", np.median(y))\n",
    "\n",
    "print(\"\\nVariance:\")\n",
    "print(\"Var:\", np.var(y))\n",
    "\n",
    "print(\"\\nSum of all elements:\")\n",
    "print(\"Sum:\", np.sum(y))\n",
    "\n",
    "print(\"\\nProduct of all elements:\")\n",
    "print(\"Product:\", np.prod(y))\n",
    "\n",
    "print(\"\\nRange (difference between maximum and minimum):\")\n",
    "print(\"Range:\", np.ptp(y))\n",
    "\n",
    "print(\"\\nQuartiles:\")\n",
    "print(\"Q1, Q2, Q3:\", np.percentile(y, [25, 50, 75]))\n"
   ]
  },
  {
   "cell_type": "code",
   "execution_count": null,
   "metadata": {
    "colab": {
     "base_uri": "https://localhost:8080/",
     "height": 227
    },
    "id": "_2ji-hS8yLti",
    "outputId": "c992c7f0-af8b-4bde-9469-3e01782dd37e"
   },
   "outputs": [],
   "source": [
    "console.rule(\"[cyan]Slicing arrays[/cyan]\")\n",
    "# Slicing with NumPy arrays\n",
    "\n",
    "c = np.arange(1, 11, 1)\n",
    "print(\"c:\", c)\n",
    "\n",
    "print(\"\\nFirst 2 values:\")\n",
    "print(c[:2])\n",
    "\n",
    "print(\"\\nLast 8 elements:\")\n",
    "print(c[2:])\n",
    "\n",
    "print(\"\\nLast 2 values:\")\n",
    "print(c[-2:])\n",
    "\n",
    "print(\"\\nFirst 8 values:\")\n",
    "print(c[:-2])\n"
   ]
  },
  {
   "cell_type": "markdown",
   "metadata": {
    "id": "o0s5PUPgvc73"
   },
   "source": [
    "## Numpy filters"
   ]
  },
  {
   "cell_type": "code",
   "execution_count": null,
   "metadata": {
    "colab": {
     "base_uri": "https://localhost:8080/",
     "height": 483
    },
    "id": "c8aeW8rFviex",
    "outputId": "e96e8602-6544-4ed1-a161-42cfaf1d8419"
   },
   "outputs": [],
   "source": [
    "console.rule(\"[cyan]Filters on arrays (image data)[/cyan]\")\n",
    "\n",
    "import matplotlib.pyplot as plt\n",
    "import numpy as np\n",
    "from skimage import data, filters\n",
    "\n",
    "# Load the sample image\n",
    "image = data.camera()\n",
    "print(\"image shape:\", image.shape)\n",
    "\n",
    "# Create a figure with subplots\n",
    "fig, ax = plt.subplots(1, 3, figsize=(12, 4))\n",
    "\n",
    "# Display the original image\n",
    "ax[0].imshow(image, cmap='viridis')\n",
    "ax[0].set_title('Original Image')\n",
    "\n",
    "# Apply Gaussian blur filter\n",
    "blurred = filters.gaussian(image, sigma=16)\n",
    "ax[1].imshow(blurred, cmap='gray')\n",
    "ax[1].set_title('Gaussian Blur Filter')\n",
    "\n",
    "# Apply Sobel filter for edge detection\n",
    "edges = filters.sobel(image)\n",
    "ax[2].imshow(edges, cmap='gray')\n",
    "ax[2].set_title('Sobel Filter for Edge Detection')\n",
    "\n",
    "# Adjust the spacing between subplots\n",
    "plt.tight_layout()\n",
    "\n",
    "# Display the figure\n",
    "plt.show()\n"
   ]
  },
  {
   "cell_type": "code",
   "execution_count": null,
   "metadata": {
    "colab": {
     "base_uri": "https://localhost:8080/",
     "height": 965
    },
    "id": "IWDrtr5cuZVL",
    "outputId": "f8adcd07-87e4-413f-a8c2-851a4a545660"
   },
   "outputs": [],
   "source": [
    "import matplotlib.pyplot as plt\n",
    "import numpy as np\n",
    "from skimage import data, filters\n",
    "\n",
    "# Load the sample image\n",
    "image = data.camera()\n",
    "\n",
    "# Calculate the 5th and 95th percentiles of the image\n",
    "percentile_50 = np.percentile(image, 50)\n",
    "percentile_99 = np.percentile(image, 99)\n",
    "\n",
    "# Apply a threshold to the image to eliminate values below the 5th percentile\n",
    "# and above the 95th percentile\n",
    "thresholded = np.clip(image, percentile_50, percentile_99)\n",
    "\n",
    "# Create a figure with subplots\n",
    "fig, ax = plt.subplots(1, 2, figsize=(12, 4))\n",
    "\n",
    "# Display the original image\n",
    "ax[0].imshow(image, cmap='gray')\n",
    "ax[0].set_title('Original Image')\n",
    "\n",
    "# Display the image with values outside the range clipped\n",
    "ax[1].imshow(thresholded, cmap='gray')\n",
    "ax[1].set_title('Clipped Values (5%-95%)')\n",
    "\n",
    "plt.show()\n",
    "\n",
    "# Create a new figure with histograms\n",
    "fig, ax = plt.subplots(1, 2, figsize=(12, 4))\n",
    "ax[0].hist(image.ravel(), bins=256, histtype='step', color='black')\n",
    "ax[1].hist(thresholded.ravel(), bins=256, histtype='step', color='black')\n",
    "\n",
    "# Show the histograms\n",
    "plt.show()\n"
   ]
  },
  {
   "cell_type": "markdown",
   "metadata": {
    "id": "haW79RdKlD-G"
   },
   "source": [
    "### Pandas\n",
    "The [User Guide](https://pandas.pydata.org/docs/user_guide/index.html) covers all of pandas by topic area. Each of the subsections introduces a topic (such as “working with missing data”), and discusses how pandas approaches the problem, with many examples throughout.\n",
    "\n",
    "[API documentation](https://pandas.pydata.org/docs/reference/index.html)"
   ]
  },
  {
   "cell_type": "code",
   "execution_count": null,
   "metadata": {
    "colab": {
     "base_uri": "https://localhost:8080/",
     "height": 509
    },
    "id": "_ytSlTSznUb2",
    "outputId": "f11eaf39-9dca-442b-c44a-5d6948d6a816"
   },
   "outputs": [],
   "source": [
    "console.rule(\"[cyan]Read CSV data with Pandas[/cyan]\")\n",
    "\n",
    "import pandas as pd\n",
    "from tabulate import tabulate # For better visualization of tables\n",
    "\n",
    "\n",
    "data_file = '/content/sample_data/california_housing_train.csv'\n",
    "\n",
    "# Read the CSV file and load the data into a DataFrame\n",
    "df = pd.read_csv(data_file)\n",
    "df\n"
   ]
  },
  {
   "cell_type": "code",
   "execution_count": null,
   "metadata": {
    "colab": {
     "base_uri": "https://localhost:8080/",
     "height": 1000
    },
    "id": "_e5kaDgoY1yb",
    "outputId": "9b283e6b-48ef-4f86-c568-d04446821928"
   },
   "outputs": [],
   "source": [
    "df = pd.read_csv(data_file)\n",
    "\n",
    "# Display basic information about the DataFrame\n",
    "print(\"Basic information about the DataFrame:\")\n",
    "print(f\" - Number of rows: {df.shape[0]}\")\n",
    "print(f\" - Number of columns: {df.shape[1]}\")\n",
    "\n",
    "# Display the columns of the DataFrame\n",
    "print(\"\\nColumns of the DataFrame:\")\n",
    "print(df.columns.tolist())\n",
    "\n",
    "# Display the first rows of the DataFrame\n",
    "print(\"\\nFirst 4 rows of the DataFrame:\")\n",
    "print(df.head(14))\n",
    "print(tabulate(df.head(4)))"
   ]
  },
  {
   "cell_type": "code",
   "execution_count": null,
   "metadata": {
    "colab": {
     "base_uri": "https://localhost:8080/",
     "height": 794
    },
    "id": "AMCZUx8kY8Ez",
    "outputId": "c3a6f459-1078-43a3-8efb-21c2dfb1f81c"
   },
   "outputs": [],
   "source": [
    "# Display a range of rows from the DataFrame\n",
    "print(\"\\nRow range (457-462):\")\n",
    "print(df.iloc[457:459])\n",
    "print(\"Filter values:\", df.loc[df['median_income'] > 4.767000])\n",
    "\n",
    "df_s = df.loc[df['median_income'] > 4.767000]\n",
    "print(\"Rows in the initial df:\", df.shape[0])\n",
    "print(\"Rows in the selected df:\", df_s.shape[0])"
   ]
  },
  {
   "cell_type": "code",
   "execution_count": null,
   "metadata": {
    "colab": {
     "base_uri": "https://localhost:8080/",
     "height": 395
    },
    "id": "KWh4ciBdaJNg",
    "outputId": "baa8b4f2-1d46-4273-b966-30ebdaac917f"
   },
   "outputs": [],
   "source": [
    "# Show detailed information about the DataFrame\n",
    "print(\"\\nDetailed information of the DataFrame:\")\n",
    "df_s.info()"
   ]
  },
  {
   "cell_type": "code",
   "execution_count": null,
   "metadata": {
    "colab": {
     "base_uri": "https://localhost:8080/",
     "height": 647
    },
    "id": "4TAHhaVXZrdc",
    "outputId": "5dd7a965-0462-4442-cbad-b114fe5dc3c6"
   },
   "outputs": [],
   "source": [
    "# Show descriptive statistics of the DataFrame\n",
    "print(\"\\nDescriptive statistics of the DataFrame:\")\n",
    "print(df.describe())"
   ]
  },
  {
   "cell_type": "code",
   "execution_count": null,
   "metadata": {
    "colab": {
     "base_uri": "https://localhost:8080/",
     "height": 773
    },
    "id": "WBdeE_c7aSRo",
    "outputId": "2d76ecfb-14ba-4999-e48b-823712b3173a"
   },
   "outputs": [],
   "source": [
    "# Show the data types of the columns\n",
    "console.rule(\"\\nData types of the columns:\")\n",
    "print(df.dtypes)\n",
    "\n",
    "# Verify if there are any null values in the DataFrame\n",
    "console.rule(\"\\nNull values in the DataFrame:\")\n",
    "print(df.isnull().sum())\n",
    "\n",
    "# Show a random sample of 5 rows\n",
    "console.rule(\"\\nRandom sample of 5 rows:\")\n",
    "print(df.sample(5))\n"
   ]
  },
  {
   "cell_type": "code",
   "execution_count": null,
   "metadata": {
    "colab": {
     "base_uri": "https://localhost:8080/",
     "height": 353
    },
    "id": "gpgMikqlEEhM",
    "outputId": "09e1e29a-503e-4484-f0de-65cfd06dc565"
   },
   "outputs": [],
   "source": [
    "console.rule(\"[cyan]Other Basic Operations[/cyan]\")\n",
    "\n",
    "# Create a DataFrame from a dictionary\n",
    "data = {\n",
    "    'Name': ['Juan', 'María', 'Pedro', 'Ana'],\n",
    "    'Age': [25, 30, 40, 35],\n",
    "    'City': ['Madrid', 'Madrid', 'Valencia', 'Sevilla'],\n",
    "    'Salary': [255000, 24444, 30000, 42222]\n",
    "}\n",
    "df = pd.DataFrame(data)\n",
    "\n",
    "# Show the last rows of the DataFrame\n",
    "print(\"Last rows:\\n\", df.tail(2))\n",
    "\n",
    "# Filter the DataFrame based on a condition\n",
    "filtered_df = df[df['Age'] > 25]\n",
    "print(\"\\nFiltered by age:\\n\", filtered_df)\n",
    "\n",
    "# Sort the DataFrame by a column\n",
    "sorted_df = df.sort_values(['Age'], ascending=False)\n",
    "print(\"\\nSorted by age:\\n\", sorted_df)\n"
   ]
  },
  {
   "cell_type": "code",
   "execution_count": null,
   "metadata": {
    "colab": {
     "base_uri": "https://localhost:8080/",
     "height": 311
    },
    "id": "Jq7sBNwdZ4XQ",
    "outputId": "dca931e3-9c49-44c8-d905-61c9c57381af"
   },
   "outputs": [],
   "source": [
    "console.rule(\"[cyan]Basic Operations with Pandas DataFrames[/cyan]\")\n",
    "\n",
    "# Select specific columns\n",
    "selected_columns = df[['Name', 'City']]\n",
    "print(\"\\n\\nSelection of 'Name' and 'Salary' columns:\")\n",
    "print(selected_columns)\n",
    "\n",
    "# Add a new column\n",
    "df['Years_Experience'] = [3, 5, 10, 7]\n",
    "print(\"\\nDataFrame with new column 'Years_Experience':\")\n",
    "print(df)\n"
   ]
  },
  {
   "cell_type": "code",
   "execution_count": null,
   "metadata": {
    "colab": {
     "base_uri": "https://localhost:8080/",
     "height": 437
    },
    "id": "MP6sD6bGbRoW",
    "outputId": "566215ee-b29d-4ddf-fd33-86a4503ad2cb"
   },
   "outputs": [],
   "source": [
    "# Calculate statistics by group\n",
    "group_stats = df.groupby('City')['Salary'].mean()\n",
    "print(\"\\n\\nAverage salary by city:\")\n",
    "print(group_stats)\n",
    "\n",
    "# Rename columns\n",
    "df = df.rename(columns={'Years_Experience': 'Experience'})\n",
    "print(\"\\n\\nDataFrame with renamed column:\")\n",
    "print(df)\n",
    "\n",
    "# Add a new calculated column to the DataFrame\n",
    "df['Double_Age'] = df['Age'] * 2\n",
    "print(\"\\nDataFrame with additional column:\\n\", df)\n"
   ]
  },
  {
   "cell_type": "code",
   "execution_count": null,
   "metadata": {
    "colab": {
     "base_uri": "https://localhost:8080/",
     "height": 311
    },
    "id": "wE6jWFX8iEY1",
    "outputId": "71c1ec11-db66-4e9e-d779-bc1c58160200"
   },
   "outputs": [],
   "source": [
    "# Count unique values in a column\n",
    "counts = df['City'].value_counts()\n",
    "print(\"\\nUnique values:\\n\", counts)\n",
    "\n",
    "# Calculate the mean of a column\n",
    "mean_age = df['Age'].mean()\n",
    "print(\"\\nMean age:\", mean_age)\n",
    "\n",
    "# Remove a column from the DataFrame\n",
    "console.rule(\"Remove a column from the DataFrame\")\n",
    "df = df.drop('Double_Age', axis=1)\n",
    "print(\"\\nDataFrame without the Double_Age column:\\n\", df)\n"
   ]
  },
  {
   "cell_type": "markdown",
   "metadata": {
    "id": "HBfvgtRsG6kB"
   },
   "source": [
    "# Seaborn\n",
    "\n",
    "Seaborn is a data visualization library based on Matplotlib that provides a high-level interface to create attractive and informative graphics. It is especially designed to work with pandas DataFrames and integrates well with Python's data analysis capabilities.\n",
    "\n",
    "Link to Seaborn's official documentation: [Seaborn Documentation](https://seaborn.pydata.org/)"
   ]
  },
  {
   "cell_type": "code",
   "execution_count": null,
   "metadata": {
    "colab": {
     "base_uri": "https://localhost:8080/",
     "height": 437
    },
    "id": "G0bkv7tJ_nIm",
    "outputId": "cccf07e2-6317-4f77-b06b-e0bd8bebe42b"
   },
   "outputs": [],
   "source": [
    "console.rule(\"[cyan]Gráficos con Seaborn[/cyan]\")\n",
    "\n",
    "import seaborn as sns\n",
    "\n",
    "# Load the \"iris\" dataset\n",
    "iris = sns.load_dataset('iris')\n",
    "print(\"IRIS dataset:\\n\", iris)\n",
    "print(\"IRIS type:\", iris.columns)\n",
    "print(\"Species:\", np.unique(iris['species'].values))"
   ]
  },
  {
   "cell_type": "code",
   "execution_count": null,
   "metadata": {
    "colab": {
     "base_uri": "https://localhost:8080/",
     "height": 473
    },
    "id": "h9ktHJKaMOLz",
    "outputId": "59146719-0ebf-4dcc-eae6-332fbabb157f"
   },
   "outputs": [],
   "source": [
    "# Distribution plot (histogram and KDE)\n",
    "sns.histplot(iris['sepal_width'])\n",
    "\n",
    "mean = iris['sepal_length'].mean()\n",
    "std = iris['sepal_length'].std()\n",
    "plt.title(f'Distribution of Sepal Length: Mean = {round(mean,2)} Std = {round(std,2)}')\n",
    "plt.xlabel('Sepal Length')\n",
    "plt.ylabel('Counts')\n",
    "plt.show()"
   ]
  },
  {
   "cell_type": "code",
   "execution_count": null,
   "metadata": {
    "colab": {
     "base_uri": "https://localhost:8080/",
     "height": 473
    },
    "id": "zXKI5MVwNsw0",
    "outputId": "2ecbff1f-7a16-4ed4-acf3-8d497d68aa02"
   },
   "outputs": [],
   "source": [
    "# Scatter plot\n",
    "sns.scatterplot(x='sepal_length', y='sepal_width', hue='species', data=iris)\n",
    "plt.title('Relation between Sepal Length and Sepal Width')\n",
    "plt.xlabel('Sepal Length')\n",
    "plt.ylabel('Sepal Width')\n",
    "plt.show()"
   ]
  },
  {
   "cell_type": "code",
   "execution_count": null,
   "metadata": {
    "colab": {
     "base_uri": "https://localhost:8080/",
     "height": 472
    },
    "id": "7JC2LPxaNvA9",
    "outputId": "bed5df60-f95e-4ef5-cdd3-d34d24233029"
   },
   "outputs": [],
   "source": [
    "# Bar plot\n",
    "sns.barplot(x='species', y='petal_length', data=iris, color=\"cyan\")\n",
    "plt.title('Average Petal Length by Species')\n",
    "plt.xlabel('Species')\n",
    "plt.ylabel('Average Petal Length')\n",
    "plt.show()"
   ]
  },
  {
   "cell_type": "code",
   "execution_count": null,
   "metadata": {
    "colab": {
     "base_uri": "https://localhost:8080/",
     "height": 472
    },
    "id": "SRTolDWPNw5F",
    "outputId": "d1f3e62a-4082-456e-accb-91b4be807278"
   },
   "outputs": [],
   "source": [
    "# Box plot\n",
    "sns.boxplot(data=iris)\n",
    "plt.title('Petal Width Distribution by Species')\n",
    "plt.xlabel('Variable')\n",
    "plt.ylabel('Length/Width [cm]')\n",
    "plt.show()"
   ]
  }
 ],
 "metadata": {
  "colab": {
   "authorship_tag": "ABX9TyOpHcDxwp/mqdiwVU6gRR32",
   "include_colab_link": true,
   "provenance": []
  },
  "kernelspec": {
   "display_name": "Python 3 (ipykernel)",
   "language": "python",
   "name": "python3"
  },
  "language_info": {
   "codemirror_mode": {
    "name": "ipython",
    "version": 3
   },
   "file_extension": ".py",
   "mimetype": "text/x-python",
   "name": "python",
   "nbconvert_exporter": "python",
   "pygments_lexer": "ipython3",
   "version": "3.12.4"
  }
 },
 "nbformat": 4,
 "nbformat_minor": 4
}
