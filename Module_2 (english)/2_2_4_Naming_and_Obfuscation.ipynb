{
 "cells": [
  {
   "cell_type": "markdown",
   "metadata": {
    "colab_type": "text",
    "id": "view-in-github"
   },
   "source": [
    "<a href=\"https://colab.research.google.com/github/txusser/Master_IA_Sanidad/blob/main/Modulo_2/2_2_4_Nomenclaturas_y_ocultaci%C3%B3n.ipynb\" target=\"_parent\"><img src=\"https://colab.research.google.com/assets/colab-badge.svg\" alt=\"Open In Colab\"/></a>"
   ]
  },
  {
   "cell_type": "markdown",
   "metadata": {
    "id": "R56C1Y_xWENC"
   },
   "source": [
    "## Nomenclature: use of the underscore"
   ]
  },
  {
   "cell_type": "code",
   "execution_count": 3,
   "metadata": {
    "colab": {
     "base_uri": "https://localhost:8080/"
    },
    "id": "_lX-H81XPNgU",
    "outputId": "663e028d-17c9-4742-a79c-5c2f3d7633f5"
   },
   "outputs": [
    {
     "name": "stdout",
     "output_type": "stream",
     "text": [
      "A: 1 3\n",
      "B: 1 5\n"
     ]
    }
   ],
   "source": [
    "## Examples of Using the Underscore to Store Data\n",
    "\n",
    "# Ignore a value when unpacking a list\n",
    "x, _, y = (1, 2, 3)\n",
    "print(\"A:\", x, y)\n",
    "# Ignore multiple values\n",
    "x, *_, y = (1, 2, 3, 4, 5)\n",
    "print(\"B:\", x, y)"
   ]
  },
  {
   "cell_type": "code",
   "execution_count": 7,
   "metadata": {
    "colab": {
     "base_uri": "https://localhost:8080/"
    },
    "id": "J4_C2gnIP0uv",
    "outputId": "fca2ca86-881a-4456-c875-6e41c2b2490f"
   },
   "outputs": [
    {
     "name": "stdout",
     "output_type": "stream",
     "text": [
      "Hello\n",
      "Hello\n",
      "Hello\n"
     ]
    }
   ],
   "source": [
    "# Ignore the index\n",
    "for _ in range(3):     \n",
    "    print(\"Hello\")"
   ]
  },
  {
   "cell_type": "code",
   "execution_count": 9,
   "metadata": {
    "id": "SkW495rBQD3B"
   },
   "outputs": [],
   "source": [
    "# Declare a variable as private\n",
    "_internal_name = 'one_nodule' # private variable\n",
    "_internal_version = '1.0' # private variable"
   ]
  },
  {
   "cell_type": "markdown",
   "metadata": {
    "id": "iJy16unAWPMY"
   },
   "source": [
    "## Scope of a Class\n"
   ]
  },
  {
   "cell_type": "code",
   "execution_count": 11,
   "metadata": {
    "colab": {
     "base_uri": "https://localhost:8080/"
    },
    "id": "W63_07zLRQvy",
    "outputId": "6eba8c56-b2d3-44ef-ed11-6902fba1a961"
   },
   "outputs": [
    {
     "name": "stdout",
     "output_type": "stream",
     "text": [
      "Private value: 42\n"
     ]
    }
   ],
   "source": [
    "## Examples in the Scope of Classes\n",
    "\n",
    "# Private class in which we define a private variable\n",
    "class _IAmPrivate:\n",
    "    _i_am_private = 42\n",
    "\n",
    "private_object = _IAmPrivate()\n",
    "print(\"Private value:\", private_object._i_am_private)\n"
   ]
  },
  {
   "cell_type": "code",
   "execution_count": 13,
   "metadata": {
    "colab": {
     "base_uri": "https://localhost:8080/"
    },
    "id": "PTG11ck4SQZN",
    "outputId": "db66e450-fe03-4610-80d9-f811c865ab86"
   },
   "outputs": [
    {
     "name": "stdout",
     "output_type": "stream",
     "text": [
      "Value: 14\n"
     ]
    }
   ],
   "source": [
    "class _Class: # private class\n",
    "    _hidden_factor = 2 # private variable\n",
    "    \n",
    "    def __init__(self, price):\n",
    "        self._price = price\n",
    "    \n",
    "    def _double_price(self): # private method\n",
    "        return self._price * self._hidden_factor\n",
    "    \n",
    "    def get_double_price(self):\n",
    "        return self._double_price() \n",
    "\n",
    "obj = _Class(7)\n",
    "print(\"Value:\", obj.get_double_price())"
   ]
  },
  {
   "cell_type": "markdown",
   "metadata": {
    "id": "PgHCKhFVWWTb"
   },
   "source": [
    "## Encapsulation: Getters and Setters\n"
   ]
  },
  {
   "cell_type": "code",
   "execution_count": 17,
   "metadata": {
    "colab": {
     "base_uri": "https://localhost:8080/"
    },
    "id": "wQqqIpFzWcDO",
    "outputId": "a0f4bf0d-c4e3-42a7-f35f-d0593426088c"
   },
   "outputs": [
    {
     "name": "stdout",
     "output_type": "stream",
     "text": [
      "John's age: 25\n"
     ]
    }
   ],
   "source": [
    "class Person:\n",
    "    def __init__(self, age=0):\n",
    "        self._age = age\n",
    "        \n",
    "    # Getter method\n",
    "    def get_age(self):\n",
    "        return self._age\n",
    "        \n",
    "    # Setter method\n",
    "    def set_age(self, x):\n",
    "        self._age = x\n",
    "\n",
    "# Instance of the Person class\n",
    "john = Person()\n",
    "# Set his age\n",
    "john.set_age(25)\n",
    "# Retrieve the age\n",
    "print(\"John's age:\", john.get_age())"
   ]
  },
  {
   "cell_type": "markdown",
   "metadata": {
    "id": "-yyqXGtOiTo1"
   },
   "source": [
    "## Abstraction\n"
   ]
  },
  {
   "cell_type": "code",
   "execution_count": 20,
   "metadata": {
    "colab": {
     "base_uri": "https://localhost:8080/"
    },
    "id": "4PpYANMLihYW",
    "outputId": "4cb17aed-0b32-4b9c-e2e1-59ddfa0f8740"
   },
   "outputs": [
    {
     "name": "stdout",
     "output_type": "stream",
     "text": [
      "Abstract method\n",
      "I have 3 sides\n"
     ]
    }
   ],
   "source": [
    "from abc import ABC, abstractmethod\n",
    "\n",
    "class Polygon(ABC):\n",
    "    # Define an abstract method\n",
    "    @abstractmethod\n",
    "    def sides(self):\n",
    "        print(\"Abstract method\")\n",
    "\n",
    "class Triangle(Polygon):\n",
    "    # Override the method from the Polygon class\n",
    "    def sides(self):\n",
    "        super().sides()\n",
    "        print(\"I have 3 sides\")\n",
    "\n",
    "isosceles = Triangle()\n",
    "isosceles.sides()"
   ]
  },
  {
   "cell_type": "markdown",
   "metadata": {
    "id": "xL9EDKj1qr6R"
   },
   "source": [
    "## Decorators"
   ]
  },
  {
   "cell_type": "code",
   "execution_count": 23,
   "metadata": {
    "colab": {
     "base_uri": "https://localhost:8080/"
    },
    "id": "isli9uvmqvH6",
    "outputId": "830867c0-0088-49a4-fbed-26d5a200f446"
   },
   "outputs": [
    {
     "name": "stdout",
     "output_type": "stream",
     "text": [
      "Sum two numbers: [4]\n",
      "Sum a list of pairs of numbers: [4, 20, 10, 13]\n"
     ]
    }
   ],
   "source": [
    "# Decorator function that extends the sum function to allow \n",
    "# operations on a list of values\n",
    "def sum_list(func):\n",
    "    def inner_sum(value_list):\n",
    "        result = [func(val[0], val[1]) for val in value_list]\n",
    "        return result\n",
    "    return inner_sum\n",
    "\n",
    "\n",
    "@sum_list\n",
    "def sum_values(a, b):\n",
    "    return a + b\n",
    "\n",
    "print(\"Sum two numbers:\", sum_values([(1, 3)]))\n",
    "print(\"Sum a list of pairs of numbers:\", sum_values([(1, 3), (3, 17), (5, 5), (6, 7)]))"
   ]
  },
  {
   "cell_type": "markdown",
   "metadata": {
    "id": "gWv53NreFPOw"
   },
   "source": [
    "# Code Documentation"
   ]
  },
  {
   "cell_type": "code",
   "execution_count": 26,
   "metadata": {
    "colab": {
     "base_uri": "https://localhost:8080/"
    },
    "id": "Y5IAEUIvFSeT",
    "outputId": "d22646b1-a942-4e57-a6d0-2295a10f13ed"
   },
   "outputs": [
    {
     "name": "stdout",
     "output_type": "stream",
     "text": [
      "Number of sides of the triangle: 4\n"
     ]
    }
   ],
   "source": [
    "\"\"\"\n",
    "This script allows us to generate Polygons and determine their number of sides.\n",
    "\"\"\"\n",
    "\n",
    "class Polygon():\n",
    "    \"\"\"\n",
    "    The Polygon class is used to create polygonal objects \n",
    "    defined by the number of sides they contain.\n",
    "    \"\"\"\n",
    "\n",
    "    def __init__(self, nsides):\n",
    "        \"\"\"\n",
    "        Initializes a new Polygon object and sets its number of sides.\n",
    "\n",
    "        :param nsides: (int) number of sides of the Polygon\n",
    "        \"\"\"\n",
    "        self.nsides = nsides\n",
    "\n",
    "    def set_sides(self, nsides):\n",
    "        \"\"\"\n",
    "        Setter method that sets or updates the number of sides of a Polygon.\n",
    "\n",
    "        :param nsides: (int) number of sides of the Polygon\n",
    "        :returns: None\n",
    "        \"\"\"\n",
    "        self.nsides = nsides\n",
    "\n",
    "    def get_sides(self):\n",
    "        \"\"\"\n",
    "        Returns the number of sides of the current Polygon object.\n",
    "\n",
    "        :returns: (int) number of sides of the Polygon\n",
    "        \"\"\"\n",
    "        return self.nsides\n",
    "\n",
    "\n",
    "triangle = Polygon(3)\n",
    "triangle.set_sides(4)\n",
    "sides = triangle.get_sides()\n",
    "print(\"Number of sides of the triangle:\", sides)\n"
   ]
  },
  {
   "cell_type": "code",
   "execution_count": 28,
   "metadata": {
    "colab": {
     "base_uri": "https://localhost:8080/"
    },
    "id": "BN9nlX1bI6xZ",
    "outputId": "dc5f144c-4eef-4955-df9d-618dac2f6ce4"
   },
   "outputs": [
    {
     "name": "stdout",
     "output_type": "stream",
     "text": [
      "Help on class Polygon in module __main__:\n",
      "\n",
      "class Polygon(builtins.object)\n",
      " |  Polygon(nsides)\n",
      " |\n",
      " |  The Polygon class is used to create polygonal objects\n",
      " |  defined by the number of sides they contain.\n",
      " |\n",
      " |  Methods defined here:\n",
      " |\n",
      " |  __init__(self, nsides)\n",
      " |      Initializes a new Polygon object and sets its number of sides.\n",
      " |\n",
      " |      :param nsides: (int) number of sides of the Polygon\n",
      " |\n",
      " |  get_sides(self)\n",
      " |      Returns the number of sides of the current Polygon object.\n",
      " |\n",
      " |      :returns: (int) number of sides of the Polygon\n",
      " |\n",
      " |  set_sides(self, nsides)\n",
      " |      Setter method that sets or updates the number of sides of a Polygon.\n",
      " |\n",
      " |      :param nsides: (int) number of sides of the Polygon\n",
      " |      :returns: None\n",
      " |\n",
      " |  ----------------------------------------------------------------------\n",
      " |  Data descriptors defined here:\n",
      " |\n",
      " |  __dict__\n",
      " |      dictionary for instance variables\n",
      " |\n",
      " |  __weakref__\n",
      " |      list of weak references to the object\n",
      "\n"
     ]
    }
   ],
   "source": [
    "help(Polygon)"
   ]
  }
 ],
 "metadata": {
  "colab": {
   "authorship_tag": "ABX9TyM3PnkxvjcGxquhCP+0c/0Y",
   "collapsed_sections": [],
   "include_colab_link": true,
   "name": "2_2_4_Nomenclaturas_y_ocultación.ipynb",
   "provenance": []
  },
  "kernelspec": {
   "display_name": "Python 3 (ipykernel)",
   "language": "python",
   "name": "python3"
  },
  "language_info": {
   "codemirror_mode": {
    "name": "ipython",
    "version": 3
   },
   "file_extension": ".py",
   "mimetype": "text/x-python",
   "name": "python",
   "nbconvert_exporter": "python",
   "pygments_lexer": "ipython3",
   "version": "3.12.4"
  }
 },
 "nbformat": 4,
 "nbformat_minor": 4
}
