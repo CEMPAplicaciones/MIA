{
 "cells": [
  {
   "cell_type": "markdown",
   "metadata": {
    "colab_type": "text",
    "id": "view-in-github"
   },
   "source": [
    "<a href=\"https://colab.research.google.com/github/txusser/Master_IA_Sanidad/blob/main/Modulo_2/2_2_4_Importar_modulos.ipynb\" target=\"_parent\"><img src=\"https://colab.research.google.com/assets/colab-badge.svg\" alt=\"Open In Colab\"/></a>"
   ]
  },
  {
   "cell_type": "code",
   "execution_count": null,
   "metadata": {
    "colab": {
     "base_uri": "https://localhost:8080/"
    },
    "id": "pgkgjBf3Ioo6",
    "outputId": "95ee6690-7940-41ff-bddf-c1d8eb75fd53"
   },
   "outputs": [],
   "source": [
    "# We can load an entire module or library using 'import'\n",
    "import skimage\n",
    "\n",
    "# The skimage library is composed of different submodules, such as data.\n",
    "# The following command allows us to download a histological section image \n",
    "# included within 'data'\n",
    "ihc_rgb = data.immunohistochemistry()\n",
    "print(\"ihc_rgb shape:\", ihc_rgb.shape)"
   ]
  },
  {
   "cell_type": "code",
   "execution_count": null,
   "metadata": {
    "colab": {
     "base_uri": "https://localhost:8080/"
    },
    "id": "LSakMsS_LXd2",
    "outputId": "4ee8a62c-e10b-4fda-e96a-ed89db8a2588"
   },
   "outputs": [],
   "source": [
    "# To import only the 'data' submodule, we can use '.', which in Python indicates <<is part of>>.\n",
    "import skimage.data\n",
    "ihc_rgb = data.immunohistochemistry()\n",
    "print(\"ihc_rgb shape:\", ihc_rgb.shape)"
   ]
  },
  {
   "cell_type": "code",
   "execution_count": null,
   "metadata": {
    "colab": {
     "base_uri": "https://localhost:8080/"
    },
    "id": "zQutTajIL_Fz",
    "outputId": "2f4e4c9f-7ac6-4fbb-cc7b-4673aa36e906"
   },
   "outputs": [],
   "source": [
    "# Another way to import it is the following\n",
    "from skimage import data\n",
    "ihc_rgb = data.immunohistochemistry()\n",
    "print(\"ihc_rgb shape:\", ihc_rgb.shape)"
   ]
  },
  {
   "cell_type": "code",
   "execution_count": null,
   "metadata": {
    "colab": {
     "base_uri": "https://localhost:8080/"
    },
    "id": "Wn9ne9xBMHd1",
    "outputId": "c111de18-7814-4108-f102-e11fcccb7c40"
   },
   "outputs": [],
   "source": [
    "# We can even rename the imported module\n",
    "from skimage import data as dt\n",
    "ihc_rgb = dt.immunohistochemistry()\n",
    "print(\"ihc_rgb shape:\", ihc_rgb.shape)\n",
    "# Or another way\n",
    "import skimage.data as md\n",
    "ihc_rgb = md.immunohistochemistry()\n",
    "print(\"ihc_rgb shape:\", ihc_rgb.shape)"
   ]
  },
  {
   "cell_type": "code",
   "execution_count": null,
   "metadata": {
    "colab": {
     "base_uri": "https://localhost:8080/",
     "height": 292
    },
    "id": "R7RHt7laMkpR",
    "outputId": "27033149-ceac-48b0-ad8b-56687a4df534"
   },
   "outputs": [],
   "source": [
    "# This is the common way to work with the graphics module from the matplotlib library\n",
    "import matplotlib.pyplot as plt\n",
    "plt.imshow(ihc_rgb)"
   ]
  },
  {
   "cell_type": "code",
   "execution_count": null,
   "metadata": {
    "colab": {
     "base_uri": "https://localhost:8080/"
    },
    "id": "9s9ht09SL7z3",
    "outputId": "9771b2de-1395-498a-df8f-6309b9ac5013"
   },
   "outputs": [],
   "source": [
    "# The external library pkgutil allows us to list all the modules that make up \n",
    "# the scikit-image library\n",
    "# https://docs.python.org/3/library/pkgutil.html\n",
    "import pkgutil\n",
    "import skimage\n",
    "package=skimage\n",
    "for importer, modname, ispkg in pkgutil.walk_packages(path=package.__path__,\n",
    "                                                      prefix=package.__name__+'.',\n",
    "                                                      onerror=lambda x: None):\n",
    "    print(modname)"
   ]
  }
 ],
 "metadata": {
  "colab": {
   "authorship_tag": "ABX9TyPiszfYBF6lV/iXbD2aaxz8",
   "collapsed_sections": [],
   "include_colab_link": true,
   "name": "2.2.4_Importar_modulos.ipynb",
   "provenance": []
  },
  "kernelspec": {
   "display_name": "Python 3 (ipykernel)",
   "language": "python",
   "name": "python3"
  },
  "language_info": {
   "codemirror_mode": {
    "name": "ipython",
    "version": 3
   },
   "file_extension": ".py",
   "mimetype": "text/x-python",
   "name": "python",
   "nbconvert_exporter": "python",
   "pygments_lexer": "ipython3",
   "version": "3.12.4"
  }
 },
 "nbformat": 4,
 "nbformat_minor": 4
}
