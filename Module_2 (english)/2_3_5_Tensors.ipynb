{
 "cells": [
  {
   "cell_type": "markdown",
   "metadata": {
    "colab_type": "text",
    "id": "view-in-github"
   },
   "source": [
    "<a href=\"https://colab.research.google.com/github/txusser/Master_IA_Sanidad/blob/main/Modulo_2/2_3_5_Tensores.ipynb\" target=\"_parent\"><img src=\"https://colab.research.google.com/assets/colab-badge.svg\" alt=\"Open In Colab\"/></a>"
   ]
  },
  {
   "cell_type": "code",
   "execution_count": null,
   "metadata": {
    "colab": {
     "base_uri": "https://localhost:8080/"
    },
    "id": "J379_TZJt7Fq",
    "outputId": "8aec540d-4726-429e-f634-dd927e939b3e"
   },
   "outputs": [],
   "source": [
    "\"\"\"\n",
    "Tensor Operations\n",
    "References:\n",
    "* Tensor class in TensorFlow: https://www.tensorflow.org/api_docs/python/tf/Tensor\n",
    "* Tensor class in PyTorch: https://pytorch.org/docs/stable/tensors.html\n",
    "\"\"\"\n",
    "# Declaration with PyTorch\n",
    "import torch\n",
    "a = torch.Tensor([1.5, 2.5])\n",
    "print(\"Tensor a:\", a, type(a))\n",
    "\n",
    "# Declaration with TensorFlow\n",
    "import tensorflow as tf\n",
    "b = tf.constant([1.5, 2.5])\n",
    "print(\"Tensor b:\", b, type(b))\n",
    "\n",
    "# We see that in the TF declaration, we use the constant function and when \n",
    "# printing to the screen, we get information about the size and data type.\n",
    "# With PyTorch, we can get the same information by using the methods \n",
    "# from the class.\n",
    "\n",
    "print(\"Size a:\", a.shape, \", data type:\", a.dtype)\n",
    "\n",
    "# In Torch, we can also initialize our tensor by specifying its characteristics\n",
    "\n",
    "torch.zeros([2, 4], dtype=torch.int32)\n",
    "\n",
    "# We can even declare it on our CUDA device\n",
    "\n",
    "# cuda0 = torch.device('cuda:0')\n",
    "cpu = torch.device('cpu:0')\n",
    "c = torch.ones([2, 4], dtype=torch.float64, device=cpu)\n",
    "\n",
    "# We can also specify that our tensor accumulate gradients during the \n",
    "# training process\n",
    "c = torch.ones([2, 4], dtype=torch.float64, device=cpu, requires_grad=True)\n",
    "print(\"Tensor c:\", c)\n"
   ]
  }
 ],
 "metadata": {
  "colab": {
   "authorship_tag": "ABX9TyN8CIqLNjSghv81nSmK+In1",
   "include_colab_link": true,
   "name": "2_3_5_Tensores.ipynb",
   "provenance": []
  },
  "kernelspec": {
   "display_name": "Python 3 (ipykernel)",
   "language": "python",
   "name": "python3"
  },
  "language_info": {
   "codemirror_mode": {
    "name": "ipython",
    "version": 3
   },
   "file_extension": ".py",
   "mimetype": "text/x-python",
   "name": "python",
   "nbconvert_exporter": "python",
   "pygments_lexer": "ipython3",
   "version": "3.12.4"
  }
 },
 "nbformat": 4,
 "nbformat_minor": 4
}
