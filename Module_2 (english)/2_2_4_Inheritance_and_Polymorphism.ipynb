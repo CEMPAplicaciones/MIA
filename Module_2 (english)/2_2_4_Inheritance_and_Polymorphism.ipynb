{
 "cells": [
  {
   "cell_type": "markdown",
   "metadata": {
    "colab_type": "text",
    "id": "view-in-github"
   },
   "source": [
    "<a href=\"https://colab.research.google.com/github/txusser/Master_IA_Sanidad/blob/main/Modulo_2/2_2_4_Herencia_y_Polimorfismo.ipynb\" target=\"_parent\"><img src=\"https://colab.research.google.com/assets/colab-badge.svg\" alt=\"Open In Colab\"/></a>"
   ]
  },
  {
   "cell_type": "markdown",
   "metadata": {
    "id": "_lRkzoCtAG0l"
   },
   "source": [
    "# Classes and Objects\n",
    "\n",
    "1. **Class**: A class is a blueprint or template for creating objects. It defines the properties (attributes) and behaviors (methods) that objects of that class will have in common. For example, if you have a class called \"Dog,\" you could define attributes like \"name,\" \"age,\" and \"breed,\" and methods like \"bark\" and \"run.\" The class itself is just a description of how objects should be.\n",
    "\n",
    "2. **Object**: An object is an instance of a class. In other words, it is a real entity created from the blueprint provided by the class. You can create multiple objects from the same class, each with its own values for the attributes. Continuing the example, you could create an object called \"my_dog\" from the \"Dog\" class with the name \"Bobby,\" age \"5,\" and breed \"Labrador Retriever.\" Another object from the same class could be \"your_dog\" with different values for the attributes."
   ]
  },
  {
   "cell_type": "code",
   "execution_count": 4,
   "metadata": {
    "colab": {
     "base_uri": "https://localhost:8080/"
    },
    "id": "im4YS01tHgo0",
    "outputId": "ae59b7fd-42ad-4865-b271-9940fc92f5a5"
   },
   "outputs": [
    {
     "name": "stdout",
     "output_type": "stream",
     "text": [
      "<class '__main__.Dog'>\n",
      "my_dog age: 4\n",
      "Woof!\n",
      "bark: None\n",
      "Woof!\n",
      "bark dog_2: None\n",
      "<class 'str'>\n"
     ]
    }
   ],
   "source": [
    "from rich.console import Console\n",
    "console = Console()\n",
    "\n",
    "# Let's see how to define the Alimento class and how we can use the concept of \n",
    "# inheritance on the class itself.\n",
    "\n",
    "# 'def' is used to build a function\n",
    "def my_function(args):\n",
    "    print(\"logic\")\n",
    "\n",
    "class MyClass():\n",
    "    pass\n",
    "\n",
    "class Dog():\n",
    "    def __init__(self, breed, name, age=4):\n",
    "        self.breed = breed\n",
    "        self.name = name\n",
    "        self.age = age\n",
    "\n",
    "    def bark(self):\n",
    "        print(\"Woof!\")\n",
    "\n",
    "    def __str__(self):\n",
    "        return \"Dog\"\n",
    "\n",
    "# Create an instance of the Dog class\n",
    "my_dog = Dog(\"Labrador Retriever\", \"Pedro\")\n",
    "print(type(my_dog))\n",
    "print(\"my_dog age:\", my_dog.age)\n",
    "print(\"bark:\", my_dog.bark())\n",
    "\n",
    "# Create another instance of the Dog class\n",
    "dog_2 = Dog(\"Poodle\", \"Adolfo\")\n",
    "print(\"bark dog_2:\", dog_2.bark())\n",
    "\n",
    "# Example variable and type checking\n",
    "variable = \"S\"\n",
    "print(type(variable))"
   ]
  },
  {
   "cell_type": "code",
   "execution_count": 6,
   "metadata": {
    "colab": {
     "base_uri": "https://localhost:8080/"
    },
    "id": "MHcrUyia4-lb",
    "outputId": "7f3dfc87-4ffa-4615-80cf-bb3959ea0d58"
   },
   "outputs": [
    {
     "name": "stdout",
     "output_type": "stream",
     "text": [
      "type(pear): <class '__main__.Food'>\n",
      "type(string): <class 'str'>\n",
      "string.upper(): MY-STRING\n"
     ]
    }
   ],
   "source": [
    "class Food():\n",
    "    def __init__(self):\n",
    "        pass\n",
    "    \n",
    "    def __str__(self):\n",
    "        return 'Food'\n",
    "\n",
    "pear = Food()\n",
    "print(\"type(pear):\", type(pear))\n",
    "\n",
    "string = \"my-string\"\n",
    "print(\"type(string):\", type(string))\n",
    "print(\"string.upper():\", string.upper())"
   ]
  },
  {
   "cell_type": "markdown",
   "metadata": {
    "id": "mUr3hkTM9Fg5"
   },
   "source": [
    "## Food Class\n",
    "Definition of the Food class that implements its own methods"
   ]
  },
  {
   "cell_type": "code",
   "execution_count": 9,
   "metadata": {
    "colab": {
     "base_uri": "https://localhost:8080/",
     "height": 284
    },
    "id": "QxAU5rne6iHi",
    "outputId": "aa9af42f-4384-4b12-fc17-5052b1c7292c"
   },
   "outputs": [
    {
     "data": {
      "text/html": [
       "<pre style=\"white-space:pre;overflow-x:auto;line-height:normal;font-family:Menlo,'DejaVu Sans Mono',consolas,'Courier New',monospace\"><span style=\"color: #00ff00; text-decoration-color: #00ff00\">─────────────────────────────────────────────── </span><span style=\"color: #008080; text-decoration-color: #008080; font-weight: bold\">Classes and Objects</span><span style=\"color: #00ff00; text-decoration-color: #00ff00\"> ───────────────────────────────────────────────</span>\n",
       "</pre>\n"
      ],
      "text/plain": [
       "\u001b[92m─────────────────────────────────────────────── \u001b[0m\u001b[1;36mClasses and Objects\u001b[0m\u001b[92m ───────────────────────────────────────────────\u001b[0m\n"
      ]
     },
     "metadata": {},
     "output_type": "display_data"
    },
    {
     "name": "stdout",
     "output_type": "stream",
     "text": [
      "\n",
      "In Python, the base data structures are Classes:\n",
      "\n",
      "Let’s define a custom class:\n",
      "type of my_fruit: <class '__main__.Food'>\n",
      "Type: Fruit\n",
      "Name: pear\n",
      "Type: Meat\n",
      "\n",
      "Let’s create a new object\n",
      "Type: Meat\n"
     ]
    }
   ],
   "source": [
    "FG = \"Force\"\n",
    "\n",
    "# Using 'class' to construct a function\n",
    "class Food(): # CamelCase\n",
    "    \"\"\" This is a class to create food objects \"\"\"\n",
    "\n",
    "    def __init__(self, name: str, type: str = 'Fruit'):\n",
    "        # Each Food instance has a type and a name associated\n",
    "        self.name = name\n",
    "        self.type = type\n",
    "\n",
    "    # Methods of the Food class\n",
    "    def tell_name(self):\n",
    "        print(\"Name:\", self.name)\n",
    "\n",
    "    def tell_type(self):\n",
    "        print(\"Type:\", self.type)\n",
    "\n",
    "    def _assign_type(self, type: str):\n",
    "        self.type = type\n",
    "\n",
    "    def assign_mass(self, mass):\n",
    "        self.mass = mass\n",
    "\n",
    "    def calculate_weight(self):\n",
    "        weight = self.mass * FG\n",
    "\n",
    "\n",
    "console.rule(\"[bold cyan]Classes and Objects\")\n",
    "print(\"\\nIn Python, the base data structures are Classes:\")\n",
    "\n",
    "# Create an instance of the Food class\n",
    "print(\"\\nLet’s define a custom class:\")\n",
    "my_fruit = Food('pear')\n",
    "print(\"type of my_fruit:\", type(my_fruit))\n",
    "my_fruit.tell_type()\n",
    "my_fruit.tell_name()\n",
    "my_fruit._assign_type(type='Meat')\n",
    "my_fruit.tell_type()\n",
    "\n",
    "print(\"\\nLet’s create a new object\")\n",
    "my_meat = Food(name='Beef', type='Meat')\n",
    "my_meat.tell_type()"
   ]
  },
  {
   "cell_type": "markdown",
   "metadata": {
    "id": "hp-TPcyMAn5c"
   },
   "source": [
    "# Inheritance and Polymorphism\n",
    "\n",
    "When an object is created, it inherits all the properties and behaviors defined in the class. This means you can access the attributes and use the methods defined in the class through the object. For example, you can access the \"name\" attribute of the \"my_dog\" object using the syntax \"my_dog.name\" and call the \"bark\" method using the syntax \"my_dog.bark()\".\n",
    "\n",
    "Classes and objects allow you to organize and structure code in a more modular and object-oriented way, which **facilitates code reuse and abstraction of real-world concepts** into software. Python is a programming language that supports object-oriented programming, among other paradigms."
   ]
  },
  {
   "cell_type": "code",
   "execution_count": 13,
   "metadata": {
    "colab": {
     "base_uri": "https://localhost:8080/"
    },
    "id": "QMqQYy5bvqMn",
    "outputId": "5a2f4f3b-7cf2-4f88-9249-ea8b76ca77d6"
   },
   "outputs": [
    {
     "name": "stdout",
     "output_type": "stream",
     "text": [
      "Type: Fish\n",
      "Name: trout\n"
     ]
    }
   ],
   "source": [
    "## Inheritance\n",
    "# Define the Fish class as a child of the Food class\n",
    "\n",
    "class Fish(Food):\n",
    "    pass\n",
    "\n",
    "# The Fish class inherits the methods from the Food class\n",
    "my_fish = Fish(name='trout', type=\"Fish\")\n",
    "my_fish.tell_type()\n",
    "my_fish.tell_name()"
   ]
  },
  {
   "cell_type": "code",
   "execution_count": 15,
   "metadata": {
    "colab": {
     "base_uri": "https://localhost:8080/"
    },
    "id": "j9_47BdlABM-",
    "outputId": "9b2b93f6-f7a0-41f1-9f2e-cb15614dd908"
   },
   "outputs": [
    {
     "name": "stdout",
     "output_type": "stream",
     "text": [
      "It is recommended to eat fish 3 times per week.\n",
      "Sum: 10\n"
     ]
    }
   ],
   "source": [
    "# Polymorphism\n",
    "class Fish():\n",
    "    def recommended_intake(self):\n",
    "        print(\"It is recommended to eat fish 3 times per week.\")\n",
    "\n",
    "class Meat():\n",
    "    def recommended_intake(self):\n",
    "        print(\"Sum:\", 7 + 3)\n",
    "\n",
    "my_fish = Fish()\n",
    "my_meat = Meat()\n",
    "\n",
    "my_fish.recommended_intake()\n",
    "my_meat.recommended_intake()"
   ]
  },
  {
   "cell_type": "code",
   "execution_count": 17,
   "metadata": {
    "colab": {
     "base_uri": "https://localhost:8080/"
    },
    "id": "au8oZ3mB87t3",
    "outputId": "bf5782e7-c45c-4675-8a23-c5d3ab4515ad"
   },
   "outputs": [
    {
     "name": "stdout",
     "output_type": "stream",
     "text": [
      "This is the same method.\n",
      "This is the same method.\n"
     ]
    }
   ],
   "source": [
    "# Function Overloading\n",
    "class Food:\n",
    "    \"\"\"\n",
    "    An object of the Food class is defined with two attributes: type and name.\n",
    "    \"\"\"\n",
    "    def __init__(self, type, name, vegan=False):\n",
    "        print(\"This is the same method.\")\n",
    "\n",
    "my_meat = Food('meat', 'chops')\n",
    "my_vegetable = Food('vegetable', 'chickpea', True)"
   ]
  },
  {
   "cell_type": "markdown",
   "metadata": {
    "id": "xN2jwROa22QL"
   },
   "source": [
    "**my_project**\n",
    "\n",
    "      |-- food.py\n",
    "      |-- fish.py\n",
    "\n",
    "----\n",
    "\n",
    "**Inside fish.py**\n",
    "\n",
    "```python\n",
    "import food\n",
    "from food import Food\n",
    "class Fish(Food):\n",
    "    pass\n"
   ]
  },
  {
   "cell_type": "code",
   "execution_count": null,
   "metadata": {
    "colab": {
     "base_uri": "https://localhost:8080/"
    },
    "id": "tTBEc2cKLYif",
    "outputId": "b4e64da5-0715-46d5-ca86-402fe714e1b9"
   },
   "outputs": [
    {
     "name": "stdout",
     "output_type": "stream",
     "text": [
      "Datos:        6  0  0.1  0.2  0.3  0.4  0.5  0.6  0.7  0.8  ...  0.581  0.582  0.583  \\\n",
      "0      5  0    0    0    0    0    0    0    0    0  ...      0      0      0   \n",
      "1      7  0    0    0    0    0    0    0    0    0  ...      0      0      0   \n",
      "2      9  0    0    0    0    0    0    0    0    0  ...      0      0      0   \n",
      "3      5  0    0    0    0    0    0    0    0    0  ...      0      0      0   \n",
      "4      2  0    0    0    0    0    0    0    0    0  ...      0      0      0   \n",
      "...   .. ..  ...  ...  ...  ...  ...  ...  ...  ...  ...    ...    ...    ...   \n",
      "19994  0  0    0    0    0    0    0    0    0    0  ...      0      0      0   \n",
      "19995  1  0    0    0    0    0    0    0    0    0  ...      0      0      0   \n",
      "19996  2  0    0    0    0    0    0    0    0    0  ...      0      0      0   \n",
      "19997  9  0    0    0    0    0    0    0    0    0  ...      0      0      0   \n",
      "19998  5  0    0    0    0    0    0    0    0    0  ...      0      0      0   \n",
      "\n",
      "       0.584  0.585  0.586  0.587  0.588  0.589  0.590  \n",
      "0          0      0      0      0      0      0      0  \n",
      "1          0      0      0      0      0      0      0  \n",
      "2          0      0      0      0      0      0      0  \n",
      "3          0      0      0      0      0      0      0  \n",
      "4          0      0      0      0      0      0      0  \n",
      "...      ...    ...    ...    ...    ...    ...    ...  \n",
      "19994      0      0      0      0      0      0      0  \n",
      "19995      0      0      0      0      0      0      0  \n",
      "19996      0      0      0      0      0      0      0  \n",
      "19997      0      0      0      0      0      0      0  \n",
      "19998      0      0      0      0      0      0      0  \n",
      "\n",
      "[19999 rows x 785 columns]\n",
      "Mean: 33.29096321058091\n"
     ]
    }
   ],
   "source": [
    "######\n",
    "import pandas as pd\n",
    "import numpy as np\n",
    "class DataHandler(object):\n",
    "  def __init__(self, csv_path: str):\n",
    "    self.csv_path = csv_path\n",
    "    self.data = self.read_csv()\n",
    "  def read_csv(self):\n",
    "    print(\"Data:\", pd.read_csv(self.csv_path))\n",
    "    return pd.read_csv(self.csv_path)\n",
    "  def mean_values(self):\n",
    "    return print(\"Mean:\", np.mean(self.data))\n",
    "\n",
    "\n",
    "\n",
    "#DataHandler(\"/content/sample_data/mnist_train_small.csv\").read_csv()\n",
    "data_handler = DataHandler(\"/content/sample_data/mnist_train_small.csv\")\n",
    "\n",
    "data_handler.data\n",
    "data_handler.mean_values()"
   ]
  }
 ],
 "metadata": {
  "colab": {
   "authorship_tag": "ABX9TyPvVpic0LCzkHNneMPU9B0a",
   "include_colab_link": true,
   "provenance": []
  },
  "kernelspec": {
   "display_name": "Python 3 (ipykernel)",
   "language": "python",
   "name": "python3"
  },
  "language_info": {
   "codemirror_mode": {
    "name": "ipython",
    "version": 3
   },
   "file_extension": ".py",
   "mimetype": "text/x-python",
   "name": "python",
   "nbconvert_exporter": "python",
   "pygments_lexer": "ipython3",
   "version": "3.12.4"
  }
 },
 "nbformat": 4,
 "nbformat_minor": 4
}
