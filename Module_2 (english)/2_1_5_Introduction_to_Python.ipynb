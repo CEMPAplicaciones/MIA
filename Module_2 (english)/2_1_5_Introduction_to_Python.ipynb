{
 "cells": [
  {
   "cell_type": "markdown",
   "metadata": {
    "colab_type": "text",
    "id": "view-in-github"
   },
   "source": [
    "<a href=\"https://colab.research.google.com/github/txusser/Master_IA_Sanidad/blob/main/Modulo_2/2_1_5_Introducci%C3%B3n_Python.ipynb\" target=\"_parent\"><img src=\"https://colab.research.google.com/assets/colab-badge.svg\" alt=\"Open In Colab\"/></a>"
   ]
  },
  {
   "cell_type": "markdown",
   "metadata": {
    "id": "VETQtNtHt-F1"
   },
   "source": [
    "# Introduction to the Markdown Language\n",
    "\n",
    "Markdown is a lightweight markup language created in 2004 by John Gruber. Its main purpose is to make text easy to write and read, allowing its conversion to HTML and other formats.\n",
    "\n",
    "## What is it used for?\n",
    "- Formatting technical documentation\n",
    "- Writing notes and academic papers\n",
    "- Creating content for blogs and websites\n",
    "- Documenting code and projects\n",
    "- Taking structured notes\n",
    "\n",
    "## Main Advantages\n",
    "- Simple and intuitive syntax\n",
    "- Readable even without processing\n",
    "- Compatible with multiple platforms\n",
    "- Does not require special software\n",
    "- Ideal for collaboration and version control\n",
    "\n",
    "In Google Colab, Markdown allows the creation of clear documentation alongside code, improving the readability and understanding of notebooks.\n"
   ]
  },
  {
   "cell_type": "markdown",
   "metadata": {
    "id": "y2_DPlVSuzOP"
   },
   "source": [
    "## This is a Section\n",
    "We will put our **super code** here.\n"
   ]
  },
  {
   "cell_type": "markdown",
   "metadata": {
    "id": "v1pYplFIyROY"
   },
   "source": [
    "# Section\n",
    "## Subsection\n",
    "### Title\n",
    "#### Subsection\n"
   ]
  },
  {
   "cell_type": "markdown",
   "metadata": {
    "id": "XhZuGjagyTMr"
   },
   "source": [
    "## Subsection"
   ]
  },
  {
   "cell_type": "markdown",
   "metadata": {
    "id": "yMraTe5sOnwk"
   },
   "source": [
    "###**--Markdown Language--**\n",
    "\n",
    "# h1\n",
    "## h2\n",
    "### h3\n",
    "#### h4\n",
    "##### h5\n",
    "###### h6\n",
    "\n",
    "*italic* no italic *with italic*\n",
    "\n",
    "**bold for this entire text** but not this one\n",
    "\n",
    "\n",
    "1. Ordered list\n",
    "2. Item 2\n",
    "3. Item 3\n",
    "4. Item 4\n",
    "\n",
    "* Unordered list\n",
    "* Another item\n",
    "* Next item\n",
    "\n",
    "[LINK NAME](https://www.google.com)\n",
    "\n",
    "[link to AWS](https://aws.amazon.com/)\n",
    "\n",
    "\n",
    ">\n",
    "\n",
    "\n",
    "```\n",
    "# It has code format\n",
    "```\n",
    "\n",
    "```python\n",
    "print(\"hello\")\n",
    "```\n",
    "\n",
    "Separator:\n",
    "\n",
    "---\n",
    "\n",
    "**More information:**:\n",
    "\n",
    "---\n",
    "\n",
    "* [Click here](https://colab.research.google.com/notebooks/markdown_guide.ipynb) for more details about the Markdown language"
   ]
  },
  {
   "cell_type": "markdown",
   "metadata": {
    "id": "XVo-_e2ruq4l"
   },
   "source": [
    "# Introduction to Python 3\n",
    "\n",
    "Python is a high-level, interpreted, general-purpose programming language created by Guido van Rossum. It stands out for its simplicity and readability, making it ideal for both beginners and experts.\n",
    "\n",
    "## Key Features\n",
    "- Clear and readable syntax\n",
    "- Cross-platform compatibility\n",
    "- Extensive standard library\n",
    "- Large community and package ecosystem\n",
    "\n",
    "## Common Applications\n",
    "- Data science and analysis\n",
    "- Artificial intelligence\n",
    "- Automation and scripting\n",
    "- Application development\n",
    "- Web development\n",
    "\n",
    "Python emphasizes code readability through its use of significant indentation and a syntax that allows expressing concepts in fewer lines compared to languages like C++ or Java.\n",
    "\n",
    "Its principles are summarized in \"The Zen of Python\":\n"
   ]
  },
  {
   "cell_type": "code",
   "execution_count": 1,
   "metadata": {
    "colab": {
     "base_uri": "https://localhost:8080/"
    },
    "id": "s9iUF5x4vEuB",
    "outputId": "acf82c79-b621-4fb9-dce6-06d60e07bbbd"
   },
   "outputs": [
    {
     "name": "stdout",
     "output_type": "stream",
     "text": [
      "The Zen of Python, by Tim Peters\n",
      "\n",
      "Beautiful is better than ugly.\n",
      "Explicit is better than implicit.\n",
      "Simple is better than complex.\n",
      "Complex is better than complicated.\n",
      "Flat is better than nested.\n",
      "Sparse is better than dense.\n",
      "Readability counts.\n",
      "Special cases aren't special enough to break the rules.\n",
      "Although practicality beats purity.\n",
      "Errors should never pass silently.\n",
      "Unless explicitly silenced.\n",
      "In the face of ambiguity, refuse the temptation to guess.\n",
      "There should be one-- and preferably only one --obvious way to do it.\n",
      "Although that way may not be obvious at first unless you're Dutch.\n",
      "Now is better than never.\n",
      "Although never is often better than *right* now.\n",
      "If the implementation is hard to explain, it's a bad idea.\n",
      "If the implementation is easy to explain, it may be a good idea.\n",
      "Namespaces are one honking great idea -- let's do more of those!\n"
     ]
    }
   ],
   "source": [
    "import this"
   ]
  },
  {
   "cell_type": "markdown",
   "metadata": {
    "id": "O22wCMdbS92C"
   },
   "source": [
    "## Syntax\n",
    "Rules we must follow for the Python interpreter to correctly read and execute the code.\n",
    "\n",
    "* One statement corresponds to one line of code\n",
    "* Indentation. Each block of code shares the same indentation\n",
    "* Comments. Text included in the code but NOT executed\n",
    "* Order *does* matter\n"
   ]
  },
  {
   "cell_type": "code",
   "execution_count": 8,
   "metadata": {
    "colab": {
     "base_uri": "https://localhost:8080/"
    },
    "id": "4yb4dj1jIQt3",
    "outputId": "b825e534-079a-4086-e1ce-9a0e7cf2f2b1"
   },
   "outputs": [
    {
     "name": "stdout",
     "output_type": "stream",
     "text": [
      "1\n",
      "Hello\n",
      "Hello world, how are you doing?\n",
      "Second line of code\n"
     ]
    }
   ],
   "source": [
    "print(\"1\")\n",
    "print(\"Hello\")\n",
    "# Block of comments to explain/describe the operation\n",
    "# => this is not a comment\n",
    "print(\"Hello world, how are you doing?\")\n",
    "print(\"Second line of code\")"
   ]
  },
  {
   "cell_type": "code",
   "execution_count": 10,
   "metadata": {
    "colab": {
     "base_uri": "https://localhost:8080/"
    },
    "id": "5GgQNcGsmp8v",
    "outputId": "f14d4585-d83e-4f88-90ce-0929259c0e09"
   },
   "outputs": [
    {
     "name": "stdout",
     "output_type": "stream",
     "text": [
      "Hello world\n",
      "Goodbye world\n"
     ]
    }
   ],
   "source": [
    "# This is a comment\n",
    "\n",
    "\"\"\"\n",
    "This is a docstring\n",
    "It will be used to document the code\n",
    "it can span multiple lines (unlike comments)\n",
    "\"\"\"\n",
    "print(\"Hello world\") # print(\"Hello World 2\") I am going to print\n",
    "print(\"Goodbye world\")\n"
   ]
  },
  {
   "cell_type": "markdown",
   "metadata": {
    "id": "dPk_M2G8kX14"
   },
   "source": [
    "## Functions\n",
    "In Python, a function is a reusable block of code that performs a specific task. It is defined using the keyword \"def\" followed by a descriptive name and parentheses that may contain arguments required for the function.\n",
    "\n",
    "Functions are primarily used to divide code into smaller, manageable units, thereby improving readability, reusability, and maintainability of the code. Some common uses of functions in Python include:\n",
    "\n",
    "* **Code Reusability**: Defining a function allows executing the same block of code multiple times in different parts of the program.\n",
    "\n",
    "* **Modularity**: Functions enable dividing the program into smaller, logical parts, making it easier to understand and debug the code.\n",
    "\n",
    "* **Abstraction**: They help hide implementation details from the user, providing a clear and easy-to-use interface.\n",
    "\n",
    "* **Organization**: Structuring code into functions facilitates management and collaboration in larger programming projects.\n"
   ]
  },
  {
   "cell_type": "code",
   "execution_count": 13,
   "metadata": {
    "colab": {
     "base_uri": "https://localhost:8080/"
    },
    "id": "cAJ71jn6TLhx",
    "outputId": "38c1f202-75a3-402b-d7c4-a2b986a22b20"
   },
   "outputs": [
    {
     "name": "stdout",
     "output_type": "stream",
     "text": [
      "This is indented\n",
      "Hello World in a function without arguments\n"
     ]
    }
   ],
   "source": [
    "# The basic structure of a function in Python is:\n",
    "\n",
    "def function_that_does_nothing():\n",
    "    pass\n",
    "\n",
    "\n",
    "def function_name_without_arguments():\n",
    "    print(\"This is indented\")\n",
    "    print(\"Hello World in a function without arguments\")\n",
    "    # Indented operations within each function\n",
    "\n",
    "function_name_without_arguments()\n"
   ]
  },
  {
   "cell_type": "code",
   "execution_count": 15,
   "metadata": {
    "colab": {
     "base_uri": "https://localhost:8080/"
    },
    "id": "Cr7HNUEz2OoL",
    "outputId": "ad5d0edb-d117-4fef-92ef-acfafefb8337"
   },
   "outputs": [
    {
     "name": "stdout",
     "output_type": "stream",
     "text": [
      "hello\n"
     ]
    }
   ],
   "source": [
    "# Mandatory Argument\n",
    "\n",
    "def my_function_print_ini(text, text2):\n",
    "    print(text)\n",
    "\n",
    "my_function_print_ini(\"hello\", \"another argument\")\n"
   ]
  },
  {
   "cell_type": "code",
   "execution_count": 17,
   "metadata": {
    "colab": {
     "base_uri": "https://localhost:8080/"
    },
    "id": "YCKTa7uU2m47",
    "outputId": "91dcf3b0-77ef-4647-da2b-f17cdef693e4"
   },
   "outputs": [
    {
     "name": "stdout",
     "output_type": "stream",
     "text": [
      "=>=> Hello and We changed the default value of the second argument\n"
     ]
    }
   ],
   "source": [
    "# Mandatory and Optional Argument (with default value)\n",
    "\n",
    "def my_function_print(mandatory, text=\"Hello without arguments (default value)\"):\n",
    "    print(mandatory, text)\n",
    "\n",
    "my_function_print(\"=>=> Hello and\", \"We changed the default value of the second argument\")\n"
   ]
  },
  {
   "cell_type": "code",
   "execution_count": 19,
   "metadata": {
    "colab": {
     "base_uri": "https://localhost:8080/"
    },
    "id": "hAHHpzCq18Oq",
    "outputId": "054ffcf2-d606-4197-923d-b743e36ff078"
   },
   "outputs": [
    {
     "name": "stdout",
     "output_type": "stream",
     "text": [
      "Hello\n",
      "Hello text\n",
      "12\n",
      "Sum of two integers: 1 + 2 = 3\n",
      "x: 5852\n"
     ]
    }
   ],
   "source": [
    "# Using return to return a result\n",
    "def my_function_print_return(text: str = \"Hello\"):\n",
    "    print(text)\n",
    "    return 12\n",
    "\n",
    "# Explicitly specify the return type of the function (type hinting)\n",
    "def my_function_print(text: str = \"Hello\") -> None:\n",
    "    print(text)\n",
    "\n",
    "def my_function_sum_two_integers(a: int, b: int) -> int:\n",
    "    return a + b\n",
    "\n",
    "\n",
    "value = my_function_print_return()\n",
    "my_function_print(text=\"Hello text\")\n",
    "print(value)\n",
    "\n",
    "\n",
    "a, b = 1, 2\n",
    "x = my_function_sum_two_integers(3, 5849)\n",
    "print(f\"Sum of two integers: {a} + {b} = {my_function_sum_two_integers(a, b)}\")\n",
    "\n",
    "print(\"x:\", x)\n"
   ]
  },
  {
   "cell_type": "code",
   "execution_count": 21,
   "metadata": {
    "colab": {
     "base_uri": "https://localhost:8080/",
     "height": 142
    },
    "id": "GVDOHwtqDf73",
    "outputId": "d2f2a71d-a4db-40fb-fa96-744585db1b81"
   },
   "outputs": [
    {
     "data": {
      "text/html": [
       "<pre style=\"white-space:pre;overflow-x:auto;line-height:normal;font-family:Menlo,'DejaVu Sans Mono',consolas,'Courier New',monospace\"><span style=\"color: #800000; text-decoration-color: #800000\">This is a red-colored message </span>\n",
       "</pre>\n"
      ],
      "text/plain": [
       "\u001b[31mThis is a red-colored message \u001b[0m\n"
      ]
     },
     "metadata": {},
     "output_type": "display_data"
    },
    {
     "data": {
      "text/html": [
       "<pre style=\"white-space:pre;overflow-x:auto;line-height:normal;font-family:Menlo,'DejaVu Sans Mono',consolas,'Courier New',monospace\"><span style=\"color: #000080; text-decoration-color: #000080\">This is a blue-colored message</span>\n",
       "</pre>\n"
      ],
      "text/plain": [
       "\u001b[34mThis is a blue-colored message\u001b[0m\n"
      ]
     },
     "metadata": {},
     "output_type": "display_data"
    },
    {
     "data": {
      "text/html": [
       "<pre style=\"white-space:pre;overflow-x:auto;line-height:normal;font-family:Menlo,'DejaVu Sans Mono',consolas,'Courier New',monospace\"><span style=\"color: #008000; text-decoration-color: #008000\">This is a green-colored message</span>\n",
       "</pre>\n"
      ],
      "text/plain": [
       "\u001b[32mThis is a green-colored message\u001b[0m\n"
      ]
     },
     "metadata": {},
     "output_type": "display_data"
    },
    {
     "data": {
      "text/html": [
       "<pre style=\"white-space:pre;overflow-x:auto;line-height:normal;font-family:Menlo,'DejaVu Sans Mono',consolas,'Courier New',monospace\"><span style=\"color: #00ff00; text-decoration-color: #00ff00\">──────────────────────────────────────────────────── </span><span style=\"font-weight: bold\">Section </span><span style=\"color: #008080; text-decoration-color: #008080; font-weight: bold\">1</span><span style=\"color: #00ff00; text-decoration-color: #00ff00\"> ────────────────────────────────────────────────────</span>\n",
       "</pre>\n"
      ],
      "text/plain": [
       "\u001b[92m──────────────────────────────────────────────────── \u001b[0m\u001b[1mSection \u001b[0m\u001b[1;36m1\u001b[0m\u001b[92m ────────────────────────────────────────────────────\u001b[0m\n"
      ]
     },
     "metadata": {},
     "output_type": "display_data"
    },
    {
     "data": {
      "text/html": [
       "<pre style=\"white-space:pre;overflow-x:auto;line-height:normal;font-family:Menlo,'DejaVu Sans Mono',consolas,'Courier New',monospace\"><span style=\"color: #7fbfbf; text-decoration-color: #7fbfbf\">[11:09:57] </span>Value of x: <span style=\"color: #008080; text-decoration-color: #008080; font-weight: bold\">5</span>                                                                           <a href=\"file://C:\\Users\\Cristian\\AppData\\Local\\Temp\\ipykernel_29664\\1910492510.py\" target=\"_blank\"><span style=\"color: #7f7f7f; text-decoration-color: #7f7f7f\">1910492510.py</span></a><span style=\"color: #7f7f7f; text-decoration-color: #7f7f7f\">:</span><a href=\"file://C:\\Users\\Cristian\\AppData\\Local\\Temp\\ipykernel_29664\\1910492510.py#13\" target=\"_blank\"><span style=\"color: #7f7f7f; text-decoration-color: #7f7f7f\">13</span></a>\n",
       "</pre>\n"
      ],
      "text/plain": [
       "\u001b[2;36m[11:09:57]\u001b[0m\u001b[2;36m \u001b[0mValue of x: \u001b[1;36m5\u001b[0m                                                                           \u001b]8;id=761108;file://C:\\Users\\Cristian\\AppData\\Local\\Temp\\ipykernel_29664\\1910492510.py\u001b\\\u001b[2m1910492510.py\u001b[0m\u001b]8;;\u001b\\\u001b[2m:\u001b[0m\u001b]8;id=863291;file://C:\\Users\\Cristian\\AppData\\Local\\Temp\\ipykernel_29664\\1910492510.py#13\u001b\\\u001b[2m13\u001b[0m\u001b]8;;\u001b\\\n"
      ]
     },
     "metadata": {},
     "output_type": "display_data"
    },
    {
     "data": {
      "text/html": [
       "<pre style=\"white-space:pre;overflow-x:auto;line-height:normal;font-family:Menlo,'DejaVu Sans Mono',consolas,'Courier New',monospace\">Content of section <span style=\"color: #008080; text-decoration-color: #008080; font-weight: bold\">1</span>\n",
       "</pre>\n"
      ],
      "text/plain": [
       "Content of section \u001b[1;36m1\u001b[0m\n"
      ]
     },
     "metadata": {},
     "output_type": "display_data"
    }
   ],
   "source": [
    "# We will use rich to enhance screen output: (we will explain import methods later)\n",
    "from rich import print\n",
    "from rich.console import Console\n",
    "from rich.panel import Panel\n",
    "\n",
    "print(\"[red]This is a red-colored message [/red]\")\n",
    "print(\"[blue]This is a blue-colored message[/blue]\")\n",
    "print(\"[green]This is a green-colored message[/green]\")\n",
    "\n",
    "console = Console()\n",
    "console.rule(\"[bold]Section 1[/bold]\")\n",
    "x = 5\n",
    "console.log(f\"Value of x: {x}\")\n",
    "print(\"Content of section 1\")\n"
   ]
  },
  {
   "cell_type": "markdown",
   "metadata": {
    "id": "yrKpABcvTMzG"
   },
   "source": [
    "## Variables in Python\n",
    "Variables in Python are names used to reference values stored in memory during program execution. Some important characteristics of variables in Python are:\n",
    "\n",
    "* They start with a lowercase letter or an underscore (`_`), but never with a number.\n",
    "* They can contain alphanumeric characters and underscores (`_`).\n",
    "* They are case-sensitive, meaning that `name`, `Name`, and `NAME` are considered different variable names.\n"
   ]
  },
  {
   "cell_type": "code",
   "execution_count": 24,
   "metadata": {
    "colab": {
     "base_uri": "https://localhost:8080/",
     "height": 142
    },
    "id": "NpV0CcHOSEtT",
    "outputId": "59e4ca9d-376a-4f0b-a009-913916f1cff2"
   },
   "outputs": [
    {
     "data": {
      "text/html": [
       "<pre style=\"white-space:pre;overflow-x:auto;line-height:normal;font-family:Menlo,'DejaVu Sans Mono',consolas,'Courier New',monospace\"><span style=\"color: #00ff00; text-decoration-color: #00ff00\">──────────────────────────────────────────────────── </span><span style=\"font-weight: bold\">Variables</span><span style=\"color: #00ff00; text-decoration-color: #00ff00\"> ────────────────────────────────────────────────────</span>\n",
       "</pre>\n"
      ],
      "text/plain": [
       "\u001b[92m──────────────────────────────────────────────────── \u001b[0m\u001b[1mVariables\u001b[0m\u001b[92m ────────────────────────────────────────────────────\u001b[0m\n"
      ]
     },
     "metadata": {},
     "output_type": "display_data"
    },
    {
     "data": {
      "text/html": [
       "<pre style=\"white-space:pre;overflow-x:auto;line-height:normal;font-family:Menlo,'DejaVu Sans Mono',consolas,'Courier New',monospace\">x: <span style=\"color: #008080; text-decoration-color: #008080; font-weight: bold\">42</span> + text\n",
       "</pre>\n"
      ],
      "text/plain": [
       "x: \u001b[1;36m42\u001b[0m + text\n"
      ]
     },
     "metadata": {},
     "output_type": "display_data"
    },
    {
     "data": {
      "text/html": [
       "<pre style=\"white-space:pre;overflow-x:auto;line-height:normal;font-family:Menlo,'DejaVu Sans Mono',consolas,'Courier New',monospace\">Variable x: <span style=\"color: #008080; text-decoration-color: #008080; font-weight: bold\">42</span>\n",
       "</pre>\n"
      ],
      "text/plain": [
       "Variable x: \u001b[1;36m42\u001b[0m\n"
      ]
     },
     "metadata": {},
     "output_type": "display_data"
    },
    {
     "data": {
      "text/html": [
       "<pre style=\"white-space:pre;overflow-x:auto;line-height:normal;font-family:Menlo,'DejaVu Sans Mono',consolas,'Courier New',monospace\">Data type of x: <span style=\"font-weight: bold\">&lt;</span><span style=\"color: #ff00ff; text-decoration-color: #ff00ff; font-weight: bold\">class</span><span style=\"color: #000000; text-decoration-color: #000000\"> </span><span style=\"color: #008000; text-decoration-color: #008000\">'int'</span><span style=\"font-weight: bold\">&gt;</span>\n",
       "</pre>\n"
      ],
      "text/plain": [
       "Data type of x: \u001b[1m<\u001b[0m\u001b[1;95mclass\u001b[0m\u001b[39m \u001b[0m\u001b[32m'int'\u001b[0m\u001b[1m>\u001b[0m\n"
      ]
     },
     "metadata": {},
     "output_type": "display_data"
    },
    {
     "data": {
      "text/html": [
       "<pre style=\"white-space:pre;overflow-x:auto;line-height:normal;font-family:Menlo,'DejaVu Sans Mono',consolas,'Courier New',monospace\">any_variable_name_you_want: <span style=\"color: #008080; text-decoration-color: #008080; font-weight: bold\">15657</span>\n",
       "</pre>\n"
      ],
      "text/plain": [
       "any_variable_name_you_want: \u001b[1;36m15657\u001b[0m\n"
      ]
     },
     "metadata": {},
     "output_type": "display_data"
    },
    {
     "data": {
      "text/html": [
       "<pre style=\"white-space:pre;overflow-x:auto;line-height:normal;font-family:Menlo,'DejaVu Sans Mono',consolas,'Courier New',monospace\">New value of y: <span style=\"color: #008080; text-decoration-color: #008080; font-weight: bold\">43</span>\n",
       "</pre>\n"
      ],
      "text/plain": [
       "New value of y: \u001b[1;36m43\u001b[0m\n"
      ]
     },
     "metadata": {},
     "output_type": "display_data"
    }
   ],
   "source": [
    "console.rule(\"[bold]Variables[/bold]\")\n",
    "\n",
    "# Variable types\n",
    "# We must initialize variables\n",
    "x = 42  # Integer (int)\n",
    "X = 42  # Integer (int)\n",
    "print(\"x:\", x, \"+ text\")\n",
    "print(f\"Variable x: {x}\")\n",
    "print(f\"Data type of x: {type(x)}\")\n",
    "any_variable_name_you_want = 15657\n",
    "print(f\"any_variable_name_you_want: {any_variable_name_you_want}\")\n",
    "\n",
    "y = 43\n",
    "print(\"New value of y:\", y)\n"
   ]
  },
  {
   "cell_type": "code",
   "execution_count": 26,
   "metadata": {
    "colab": {
     "base_uri": "https://localhost:8080/",
     "height": 477
    },
    "id": "x_6LBJNGTqdc",
    "outputId": "35c61c51-a763-49db-9f9a-a99212c45bab"
   },
   "outputs": [
    {
     "data": {
      "text/html": [
       "<pre style=\"white-space:pre;overflow-x:auto;line-height:normal;font-family:Menlo,'DejaVu Sans Mono',consolas,'Courier New',monospace\"><span style=\"color: #00ff00; text-decoration-color: #00ff00\">──────────────────────────────────────────────────── </span>Integers<span style=\"color: #00ff00; text-decoration-color: #00ff00\"> ─────────────────────────────────────────────────────</span>\n",
       "</pre>\n"
      ],
      "text/plain": [
       "\u001b[92m──────────────────────────────────────────────────── \u001b[0mIntegers\u001b[92m ─────────────────────────────────────────────────────\u001b[0m\n"
      ]
     },
     "metadata": {},
     "output_type": "display_data"
    },
    {
     "data": {
      "text/html": [
       "<pre style=\"white-space:pre;overflow-x:auto;line-height:normal;font-family:Menlo,'DejaVu Sans Mono',consolas,'Courier New',monospace\">Variable X: <span style=\"color: #008080; text-decoration-color: #008080; font-weight: bold\">43</span>. Variable x: <span style=\"color: #008080; text-decoration-color: #008080; font-weight: bold\">23</span>\n",
       "</pre>\n"
      ],
      "text/plain": [
       "Variable X: \u001b[1;36m43\u001b[0m. Variable x: \u001b[1;36m23\u001b[0m\n"
      ]
     },
     "metadata": {},
     "output_type": "display_data"
    },
    {
     "data": {
      "text/html": [
       "<pre style=\"white-space:pre;overflow-x:auto;line-height:normal;font-family:Menlo,'DejaVu Sans Mono',consolas,'Courier New',monospace\">Data type of x: <span style=\"font-weight: bold\">&lt;</span><span style=\"color: #ff00ff; text-decoration-color: #ff00ff; font-weight: bold\">class</span><span style=\"color: #000000; text-decoration-color: #000000\"> </span><span style=\"color: #008000; text-decoration-color: #008000\">'int'</span><span style=\"font-weight: bold\">&gt;</span>\n",
       "</pre>\n"
      ],
      "text/plain": [
       "Data type of x: \u001b[1m<\u001b[0m\u001b[1;95mclass\u001b[0m\u001b[39m \u001b[0m\u001b[32m'int'\u001b[0m\u001b[1m>\u001b[0m\n"
      ]
     },
     "metadata": {},
     "output_type": "display_data"
    },
    {
     "data": {
      "text/html": [
       "<pre style=\"white-space:pre;overflow-x:auto;line-height:normal;font-family:Menlo,'DejaVu Sans Mono',consolas,'Courier New',monospace\"><span style=\"color: #00ff00; text-decoration-color: #00ff00\">──────────────────────────────────────────────────── </span>Decimals<span style=\"color: #00ff00; text-decoration-color: #00ff00\"> ─────────────────────────────────────────────────────</span>\n",
       "</pre>\n"
      ],
      "text/plain": [
       "\u001b[92m──────────────────────────────────────────────────── \u001b[0mDecimals\u001b[92m ─────────────────────────────────────────────────────\u001b[0m\n"
      ]
     },
     "metadata": {},
     "output_type": "display_data"
    },
    {
     "data": {
      "text/html": [
       "<pre style=\"white-space:pre;overflow-x:auto;line-height:normal;font-family:Menlo,'DejaVu Sans Mono',consolas,'Courier New',monospace\">Variable x: <span style=\"color: #008080; text-decoration-color: #008080; font-weight: bold\">15265.4264635</span>\n",
       "</pre>\n"
      ],
      "text/plain": [
       "Variable x: \u001b[1;36m15265.4264635\u001b[0m\n"
      ]
     },
     "metadata": {},
     "output_type": "display_data"
    },
    {
     "data": {
      "text/html": [
       "<pre style=\"white-space:pre;overflow-x:auto;line-height:normal;font-family:Menlo,'DejaVu Sans Mono',consolas,'Courier New',monospace\">Data type of x: <span style=\"font-weight: bold\">&lt;</span><span style=\"color: #ff00ff; text-decoration-color: #ff00ff; font-weight: bold\">class</span><span style=\"color: #000000; text-decoration-color: #000000\"> </span><span style=\"color: #008000; text-decoration-color: #008000\">'float'</span><span style=\"font-weight: bold\">&gt;</span>\n",
       "</pre>\n"
      ],
      "text/plain": [
       "Data type of x: \u001b[1m<\u001b[0m\u001b[1;95mclass\u001b[0m\u001b[39m \u001b[0m\u001b[32m'float'\u001b[0m\u001b[1m>\u001b[0m\n"
      ]
     },
     "metadata": {},
     "output_type": "display_data"
    },
    {
     "data": {
      "text/html": [
       "<pre style=\"white-space:pre;overflow-x:auto;line-height:normal;font-family:Menlo,'DejaVu Sans Mono',consolas,'Courier New',monospace\">Variable x: <span style=\"color: #008080; text-decoration-color: #008080; font-weight: bold\">15265.426463554655</span>\n",
       "</pre>\n"
      ],
      "text/plain": [
       "Variable x: \u001b[1;36m15265.426463554655\u001b[0m\n"
      ]
     },
     "metadata": {},
     "output_type": "display_data"
    },
    {
     "data": {
      "text/html": [
       "<pre style=\"white-space:pre;overflow-x:auto;line-height:normal;font-family:Menlo,'DejaVu Sans Mono',consolas,'Courier New',monospace\">Data type of x: <span style=\"font-weight: bold\">&lt;</span><span style=\"color: #ff00ff; text-decoration-color: #ff00ff; font-weight: bold\">class</span><span style=\"color: #000000; text-decoration-color: #000000\"> </span><span style=\"color: #008000; text-decoration-color: #008000\">'float'</span><span style=\"font-weight: bold\">&gt;</span>\n",
       "</pre>\n"
      ],
      "text/plain": [
       "Data type of x: \u001b[1m<\u001b[0m\u001b[1;95mclass\u001b[0m\u001b[39m \u001b[0m\u001b[32m'float'\u001b[0m\u001b[1m>\u001b[0m\n"
      ]
     },
     "metadata": {},
     "output_type": "display_data"
    },
    {
     "data": {
      "text/html": [
       "<pre style=\"white-space:pre;overflow-x:auto;line-height:normal;font-family:Menlo,'DejaVu Sans Mono',consolas,'Courier New',monospace\"><span style=\"color: #00ff00; text-decoration-color: #00ff00\">─────────────────────────────────────────────────── </span>Characters<span style=\"color: #00ff00; text-decoration-color: #00ff00\"> ────────────────────────────────────────────────────</span>\n",
       "</pre>\n"
      ],
      "text/plain": [
       "\u001b[92m─────────────────────────────────────────────────── \u001b[0mCharacters\u001b[92m ────────────────────────────────────────────────────\u001b[0m\n"
      ]
     },
     "metadata": {},
     "output_type": "display_data"
    },
    {
     "data": {
      "text/html": [
       "<pre style=\"white-space:pre;overflow-x:auto;line-height:normal;font-family:Menlo,'DejaVu Sans Mono',consolas,'Courier New',monospace\">Variable x: Hello world\n",
       "</pre>\n"
      ],
      "text/plain": [
       "Variable x: Hello world\n"
      ]
     },
     "metadata": {},
     "output_type": "display_data"
    },
    {
     "data": {
      "text/html": [
       "<pre style=\"white-space:pre;overflow-x:auto;line-height:normal;font-family:Menlo,'DejaVu Sans Mono',consolas,'Courier New',monospace\">Data type of x: <span style=\"font-weight: bold\">&lt;</span><span style=\"color: #ff00ff; text-decoration-color: #ff00ff; font-weight: bold\">class</span><span style=\"color: #000000; text-decoration-color: #000000\"> </span><span style=\"color: #008000; text-decoration-color: #008000\">'str'</span><span style=\"font-weight: bold\">&gt;</span>\n",
       "</pre>\n"
      ],
      "text/plain": [
       "Data type of x: \u001b[1m<\u001b[0m\u001b[1;95mclass\u001b[0m\u001b[39m \u001b[0m\u001b[32m'str'\u001b[0m\u001b[1m>\u001b[0m\n"
      ]
     },
     "metadata": {},
     "output_type": "display_data"
    },
    {
     "data": {
      "text/html": [
       "<pre style=\"white-space:pre;overflow-x:auto;line-height:normal;font-family:Menlo,'DejaVu Sans Mono',consolas,'Courier New',monospace\">y: \n",
       "  Long string of characters that continues\n",
       "  over several lines\n",
       "  until it ends \n",
       "</pre>\n"
      ],
      "text/plain": [
       "y: \n",
       "  Long string of characters that continues\n",
       "  over several lines\n",
       "  until it ends \n"
      ]
     },
     "metadata": {},
     "output_type": "display_data"
    },
    {
     "data": {
      "text/html": [
       "<pre style=\"white-space:pre;overflow-x:auto;line-height:normal;font-family:Menlo,'DejaVu Sans Mono',consolas,'Courier New',monospace\"><span style=\"color: #00ff00; text-decoration-color: #00ff00\">──────────────────────────────────────────────────── </span>Booleans<span style=\"color: #00ff00; text-decoration-color: #00ff00\"> ─────────────────────────────────────────────────────</span>\n",
       "</pre>\n"
      ],
      "text/plain": [
       "\u001b[92m──────────────────────────────────────────────────── \u001b[0mBooleans\u001b[92m ─────────────────────────────────────────────────────\u001b[0m\n"
      ]
     },
     "metadata": {},
     "output_type": "display_data"
    },
    {
     "data": {
      "text/html": [
       "<pre style=\"white-space:pre;overflow-x:auto;line-height:normal;font-family:Menlo,'DejaVu Sans Mono',consolas,'Courier New',monospace\">Variable x1: <span style=\"color: #ff0000; text-decoration-color: #ff0000; font-style: italic\">False</span>\n",
       "</pre>\n"
      ],
      "text/plain": [
       "Variable x1: \u001b[3;91mFalse\u001b[0m\n"
      ]
     },
     "metadata": {},
     "output_type": "display_data"
    },
    {
     "data": {
      "text/html": [
       "<pre style=\"white-space:pre;overflow-x:auto;line-height:normal;font-family:Menlo,'DejaVu Sans Mono',consolas,'Courier New',monospace\">Variable x2: <span style=\"color: #00ff00; text-decoration-color: #00ff00; font-style: italic\">True</span>\n",
       "</pre>\n"
      ],
      "text/plain": [
       "Variable x2: \u001b[3;92mTrue\u001b[0m\n"
      ]
     },
     "metadata": {},
     "output_type": "display_data"
    },
    {
     "data": {
      "text/html": [
       "<pre style=\"white-space:pre;overflow-x:auto;line-height:normal;font-family:Menlo,'DejaVu Sans Mono',consolas,'Courier New',monospace\">Data type of x1: <span style=\"font-weight: bold\">&lt;</span><span style=\"color: #ff00ff; text-decoration-color: #ff00ff; font-weight: bold\">class</span><span style=\"color: #000000; text-decoration-color: #000000\"> </span><span style=\"color: #008000; text-decoration-color: #008000\">'bool'</span><span style=\"font-weight: bold\">&gt;</span>\n",
       "</pre>\n"
      ],
      "text/plain": [
       "Data type of x1: \u001b[1m<\u001b[0m\u001b[1;95mclass\u001b[0m\u001b[39m \u001b[0m\u001b[32m'bool'\u001b[0m\u001b[1m>\u001b[0m\n"
      ]
     },
     "metadata": {},
     "output_type": "display_data"
    },
    {
     "data": {
      "text/html": [
       "<pre style=\"white-space:pre;overflow-x:auto;line-height:normal;font-family:Menlo,'DejaVu Sans Mono',consolas,'Courier New',monospace\"><span style=\"color: #00ff00; text-decoration-color: #00ff00\">────────────────────────────────────────────────────── </span>Nulls<span style=\"color: #00ff00; text-decoration-color: #00ff00\"> ──────────────────────────────────────────────────────</span>\n",
       "</pre>\n"
      ],
      "text/plain": [
       "\u001b[92m────────────────────────────────────────────────────── \u001b[0mNulls\u001b[92m ──────────────────────────────────────────────────────\u001b[0m\n"
      ]
     },
     "metadata": {},
     "output_type": "display_data"
    },
    {
     "data": {
      "text/html": [
       "<pre style=\"white-space:pre;overflow-x:auto;line-height:normal;font-family:Menlo,'DejaVu Sans Mono',consolas,'Courier New',monospace\">Variable x: <span style=\"color: #800080; text-decoration-color: #800080; font-style: italic\">None</span>\n",
       "</pre>\n"
      ],
      "text/plain": [
       "Variable x: \u001b[3;35mNone\u001b[0m\n"
      ]
     },
     "metadata": {},
     "output_type": "display_data"
    },
    {
     "data": {
      "text/html": [
       "<pre style=\"white-space:pre;overflow-x:auto;line-height:normal;font-family:Menlo,'DejaVu Sans Mono',consolas,'Courier New',monospace\">Data type of x: <span style=\"font-weight: bold\">&lt;</span><span style=\"color: #ff00ff; text-decoration-color: #ff00ff; font-weight: bold\">class</span><span style=\"color: #000000; text-decoration-color: #000000\"> </span><span style=\"color: #008000; text-decoration-color: #008000\">'NoneType'</span><span style=\"font-weight: bold\">&gt;</span>\n",
       "</pre>\n"
      ],
      "text/plain": [
       "Data type of x: \u001b[1m<\u001b[0m\u001b[1;95mclass\u001b[0m\u001b[39m \u001b[0m\u001b[32m'NoneType'\u001b[0m\u001b[1m>\u001b[0m\n"
      ]
     },
     "metadata": {},
     "output_type": "display_data"
    }
   ],
   "source": [
    "console.rule(\"Integers\")\n",
    "X = 43\n",
    "x = 23\n",
    "print(f\"Variable X: {X}. Variable x: {x}\")\n",
    "print(f\"Data type of x: {type(x)}\")  # Built-in method\n",
    "\n",
    "console.rule(\"Decimals\")\n",
    "x = 15265.4264635  # Float\n",
    "print(f\"Variable x: {x}\")\n",
    "print(f\"Data type of x: {type(x)}\")\n",
    "\n",
    "x = 15265.4264635546549849845641524135465479879  # Float\n",
    "print(f\"Variable x: {x}\")\n",
    "print(f\"Data type of x: {type(x)}\")\n",
    "\n",
    "console.rule(\"Characters\")\n",
    "x = \"Hello world\"\n",
    "print(f\"Variable x: {x}\")\n",
    "print(f\"Data type of x: {type(x)}\")\n",
    "\n",
    "# String (str)\n",
    "y = \"\"\"\n",
    "  Long string of characters that continues\n",
    "  over several lines\n",
    "  until it ends \"\"\"\n",
    "print(\"y:\", y)\n",
    "\n",
    "console.rule(\"Booleans\")\n",
    "x1 = False  # Boolean value (bool)\n",
    "x2 = True\n",
    "print(f\"Variable x1: {x1}\")\n",
    "print(f\"Variable x2: {x2}\")\n",
    "print(f\"Data type of x1: {type(x1)}\")\n",
    "\n",
    "console.rule(\"Nulls\")\n",
    "x = None  # Null value (None)\n",
    "print(f\"Variable x: {x}\")\n",
    "print(f\"Data type of x: {type(x)}\")\n"
   ]
  },
  {
   "cell_type": "markdown",
   "metadata": {
    "id": "p5mN2XmmT-pa"
   },
   "source": [
    "---\n",
    "## Lists and Dictionaries\n",
    "* A list is a mutable and ordered sequence of elements. As such, it can be indexed, sliced, and modified. Each element can be accessed using its position in the list. It's similar to your to-do list, where you can change the order of tasks or even reschedule a set of tasks for the next day if necessary.\n",
    "\n",
    "* A dictionary is a mutable and unordered set of key-value pairs where each key must be unique. To access a specific element, you must refer to it using its key, similar to how you would look up a word in a school dictionary.\n",
    "\n",
    "These data structures are fundamental in Python and provide powerful tools for organizing and manipulating information efficiently in programs and applications.\n"
   ]
  },
  {
   "cell_type": "markdown",
   "metadata": {
    "id": "NhSKngCRqSvB"
   },
   "source": [
    "## Listas"
   ]
  },
  {
   "cell_type": "code",
   "execution_count": 29,
   "metadata": {
    "colab": {
     "base_uri": "https://localhost:8080/",
     "height": 268
    },
    "id": "D0td69KKUPeI",
    "outputId": "a39b1a22-07e2-4716-d85b-bf4df6fb575d"
   },
   "outputs": [
    {
     "data": {
      "text/html": [
       "<pre style=\"white-space:pre;overflow-x:auto;line-height:normal;font-family:Menlo,'DejaVu Sans Mono',consolas,'Courier New',monospace\"><span style=\"color: #d75fd7; text-decoration-color: #d75fd7\">╭─────────────────────────────────────────────────────────────────────────────────────────────────────────────────╮</span>\n",
       "<span style=\"color: #d75fd7; text-decoration-color: #d75fd7\">│ Lists                                                                                                           │</span>\n",
       "<span style=\"color: #d75fd7; text-decoration-color: #d75fd7\">╰─────────────────────────────────────────────────────────────────────────────────────────────────────────────────╯</span>\n",
       "</pre>\n"
      ],
      "text/plain": [
       "\u001b[38;5;170m╭─────────────────────────────────────────────────────────────────────────────────────────────────────────────────╮\u001b[0m\n",
       "\u001b[38;5;170m│\u001b[0m\u001b[38;5;170m \u001b[0m\u001b[38;5;170mLists\u001b[0m\u001b[38;5;170m                                                                                                          \u001b[0m\u001b[38;5;170m \u001b[0m\u001b[38;5;170m│\u001b[0m\n",
       "\u001b[38;5;170m╰─────────────────────────────────────────────────────────────────────────────────────────────────────────────────╯\u001b[0m\n"
      ]
     },
     "metadata": {},
     "output_type": "display_data"
    },
    {
     "data": {
      "text/html": [
       "<pre style=\"white-space:pre;overflow-x:auto;line-height:normal;font-family:Menlo,'DejaVu Sans Mono',consolas,'Courier New',monospace\"><span style=\"color: #d75fd7; text-decoration-color: #d75fd7\">──────────────────────────────────────────────────── </span>Base List<span style=\"color: #d75fd7; text-decoration-color: #d75fd7\"> ────────────────────────────────────────────────────</span>\n",
       "</pre>\n"
      ],
      "text/plain": [
       "\u001b[38;5;170m──────────────────────────────────────────────────── \u001b[0mBase List\u001b[38;5;170m ────────────────────────────────────────────────────\u001b[0m\n"
      ]
     },
     "metadata": {},
     "output_type": "display_data"
    },
    {
     "data": {
      "text/html": [
       "<pre style=\"white-space:pre;overflow-x:auto;line-height:normal;font-family:Menlo,'DejaVu Sans Mono',consolas,'Courier New',monospace\">Value of l: <span style=\"font-weight: bold\">[</span><span style=\"color: #008080; text-decoration-color: #008080; font-weight: bold\">1</span>, <span style=\"color: #008080; text-decoration-color: #008080; font-weight: bold\">2</span>, <span style=\"color: #008080; text-decoration-color: #008080; font-weight: bold\">3</span><span style=\"font-weight: bold\">]</span>\n",
       "</pre>\n"
      ],
      "text/plain": [
       "Value of l: \u001b[1m[\u001b[0m\u001b[1;36m1\u001b[0m, \u001b[1;36m2\u001b[0m, \u001b[1;36m3\u001b[0m\u001b[1m]\u001b[0m\n"
      ]
     },
     "metadata": {},
     "output_type": "display_data"
    },
    {
     "data": {
      "text/html": [
       "<pre style=\"white-space:pre;overflow-x:auto;line-height:normal;font-family:Menlo,'DejaVu Sans Mono',consolas,'Courier New',monospace\">Value of x: <span style=\"font-weight: bold\">[</span><span style=\"color: #008080; text-decoration-color: #008080; font-weight: bold\">10504</span>, <span style=\"color: #008080; text-decoration-color: #008080; font-weight: bold\">23.42</span>, <span style=\"color: #008080; text-decoration-color: #008080; font-weight: bold\">7</span>, <span style=\"color: #008080; text-decoration-color: #008080; font-weight: bold\">4</span>, <span style=\"color: #008080; text-decoration-color: #008080; font-weight: bold\">5</span>, <span style=\"color: #008080; text-decoration-color: #008080; font-weight: bold\">8</span>, <span style=\"color: #008000; text-decoration-color: #008000\">'XZ'</span><span style=\"font-weight: bold\">]</span>\n",
       "</pre>\n"
      ],
      "text/plain": [
       "Value of x: \u001b[1m[\u001b[0m\u001b[1;36m10504\u001b[0m, \u001b[1;36m23.42\u001b[0m, \u001b[1;36m7\u001b[0m, \u001b[1;36m4\u001b[0m, \u001b[1;36m5\u001b[0m, \u001b[1;36m8\u001b[0m, \u001b[32m'XZ'\u001b[0m\u001b[1m]\u001b[0m\n"
      ]
     },
     "metadata": {},
     "output_type": "display_data"
    },
    {
     "data": {
      "text/html": [
       "<pre style=\"white-space:pre;overflow-x:auto;line-height:normal;font-family:Menlo,'DejaVu Sans Mono',consolas,'Courier New',monospace\">Value of y: <span style=\"font-weight: bold\">[</span><span style=\"color: #008080; text-decoration-color: #008080; font-weight: bold\">1.72134</span><span style=\"font-weight: bold\">]</span>\n",
       "</pre>\n"
      ],
      "text/plain": [
       "Value of y: \u001b[1m[\u001b[0m\u001b[1;36m1.72134\u001b[0m\u001b[1m]\u001b[0m\n"
      ]
     },
     "metadata": {},
     "output_type": "display_data"
    },
    {
     "data": {
      "text/html": [
       "<pre style=\"white-space:pre;overflow-x:auto;line-height:normal;font-family:Menlo,'DejaVu Sans Mono',consolas,'Courier New',monospace\">Value of z: <span style=\"font-weight: bold\">[</span><span style=\"color: #008000; text-decoration-color: #008000\">'A'</span>, <span style=\"color: #008000; text-decoration-color: #008000\">'B'</span><span style=\"font-weight: bold\">]</span>\n",
       "</pre>\n"
      ],
      "text/plain": [
       "Value of z: \u001b[1m[\u001b[0m\u001b[32m'A'\u001b[0m, \u001b[32m'B'\u001b[0m\u001b[1m]\u001b[0m\n"
      ]
     },
     "metadata": {},
     "output_type": "display_data"
    },
    {
     "data": {
      "text/html": [
       "<pre style=\"white-space:pre;overflow-x:auto;line-height:normal;font-family:Menlo,'DejaVu Sans Mono',consolas,'Courier New',monospace\">Value of a: <span style=\"font-weight: bold\">[</span><span style=\"color: #ff0000; text-decoration-color: #ff0000; font-style: italic\">False</span>, <span style=\"color: #ff0000; text-decoration-color: #ff0000; font-style: italic\">False</span>, <span style=\"color: #00ff00; text-decoration-color: #00ff00; font-style: italic\">True</span><span style=\"font-weight: bold\">]</span>\n",
       "</pre>\n"
      ],
      "text/plain": [
       "Value of a: \u001b[1m[\u001b[0m\u001b[3;91mFalse\u001b[0m, \u001b[3;91mFalse\u001b[0m, \u001b[3;92mTrue\u001b[0m\u001b[1m]\u001b[0m\n"
      ]
     },
     "metadata": {},
     "output_type": "display_data"
    },
    {
     "data": {
      "text/html": [
       "<pre style=\"white-space:pre;overflow-x:auto;line-height:normal;font-family:Menlo,'DejaVu Sans Mono',consolas,'Courier New',monospace\">Value of b: <span style=\"font-weight: bold\">[</span><span style=\"color: #800080; text-decoration-color: #800080; font-style: italic\">None</span><span style=\"font-weight: bold\">]</span>\n",
       "</pre>\n"
      ],
      "text/plain": [
       "Value of b: \u001b[1m[\u001b[0m\u001b[3;35mNone\u001b[0m\u001b[1m]\u001b[0m\n"
      ]
     },
     "metadata": {},
     "output_type": "display_data"
    },
    {
     "data": {
      "text/html": [
       "<pre style=\"white-space:pre;overflow-x:auto;line-height:normal;font-family:Menlo,'DejaVu Sans Mono',consolas,'Courier New',monospace\">Displays the value <span style=\"color: #008080; text-decoration-color: #008080; font-weight: bold\">5</span>: <span style=\"color: #008080; text-decoration-color: #008080; font-weight: bold\">5</span>\n",
       "</pre>\n"
      ],
      "text/plain": [
       "Displays the value \u001b[1;36m5\u001b[0m: \u001b[1;36m5\u001b[0m\n"
      ]
     },
     "metadata": {},
     "output_type": "display_data"
    },
    {
     "data": {
      "text/html": [
       "<pre style=\"white-space:pre;overflow-x:auto;line-height:normal;font-family:Menlo,'DejaVu Sans Mono',consolas,'Courier New',monospace\"><span style=\"color: #800080; text-decoration-color: #800080; font-weight: bold\">type</span><span style=\"font-weight: bold\">(</span>l<span style=\"font-weight: bold\">)</span>: <span style=\"font-weight: bold\">&lt;</span><span style=\"color: #ff00ff; text-decoration-color: #ff00ff; font-weight: bold\">class</span><span style=\"color: #000000; text-decoration-color: #000000\"> </span><span style=\"color: #008000; text-decoration-color: #008000\">'list'</span><span style=\"font-weight: bold\">&gt;</span>\n",
       "</pre>\n"
      ],
      "text/plain": [
       "\u001b[1;35mtype\u001b[0m\u001b[1m(\u001b[0ml\u001b[1m)\u001b[0m: \u001b[1m<\u001b[0m\u001b[1;95mclass\u001b[0m\u001b[39m \u001b[0m\u001b[32m'list'\u001b[0m\u001b[1m>\u001b[0m\n"
      ]
     },
     "metadata": {},
     "output_type": "display_data"
    }
   ],
   "source": [
    "console.print(Panel(\"Lists\"), style=\"orchid\")\n",
    "console.rule(\"Base List\", style=\"orchid\")\n",
    "\n",
    "l = [1, 2, 3]\n",
    "x = [10504, 23.42, 7, 4, 5, 8, \"XZ\"]\n",
    "y = [1.72134]\n",
    "z = [\"A\", \"B\"]\n",
    "a = [False, False, True]\n",
    "b = [None]\n",
    "\n",
    "print(f\"Value of l: {l}\")\n",
    "print(f\"Value of x: {x}\")\n",
    "print(f\"Value of y: {y}\")\n",
    "print(f\"Value of z: {z}\")\n",
    "print(f\"Value of a: {a}\")\n",
    "print(f\"Value of b: {b}\")\n",
    "\n",
    "print(\"Displays the value 5:\", x[4])\n",
    "print(\"type(l):\", type(l))\n"
   ]
  },
  {
   "cell_type": "code",
   "execution_count": 31,
   "metadata": {
    "colab": {
     "base_uri": "https://localhost:8080/",
     "height": 101
    },
    "id": "7gTP7e7qTHTx",
    "outputId": "438b4dcf-a5e3-44d1-d6de-bda7dff6aaed"
   },
   "outputs": [
    {
     "data": {
      "text/html": [
       "<pre style=\"white-space:pre;overflow-x:auto;line-height:normal;font-family:Menlo,'DejaVu Sans Mono',consolas,'Courier New',monospace\"><span style=\"color: #d75fd7; text-decoration-color: #d75fd7\">──────────────────────────────────────────────────── </span>Indexing<span style=\"color: #d75fd7; text-decoration-color: #d75fd7\"> ─────────────────────────────────────────────────────</span>\n",
       "</pre>\n"
      ],
      "text/plain": [
       "\u001b[38;5;170m──────────────────────────────────────────────────── \u001b[0mIndexing\u001b[38;5;170m ─────────────────────────────────────────────────────\u001b[0m\n"
      ]
     },
     "metadata": {},
     "output_type": "display_data"
    },
    {
     "data": {
      "text/html": [
       "<pre style=\"white-space:pre;overflow-x:auto;line-height:normal;font-family:Menlo,'DejaVu Sans Mono',consolas,'Courier New',monospace\">Value at index <span style=\"color: #008080; text-decoration-color: #008080; font-weight: bold\">0</span>: <span style=\"color: #008080; text-decoration-color: #008080; font-weight: bold\">10504</span>\n",
       "</pre>\n"
      ],
      "text/plain": [
       "Value at index \u001b[1;36m0\u001b[0m: \u001b[1;36m10504\u001b[0m\n"
      ]
     },
     "metadata": {},
     "output_type": "display_data"
    },
    {
     "data": {
      "text/html": [
       "<pre style=\"white-space:pre;overflow-x:auto;line-height:normal;font-family:Menlo,'DejaVu Sans Mono',consolas,'Courier New',monospace\">Value at position <span style=\"color: #008080; text-decoration-color: #008080; font-weight: bold\">3</span> <span style=\"font-weight: bold\">(</span>index <span style=\"color: #008080; text-decoration-color: #008080; font-weight: bold\">2</span><span style=\"font-weight: bold\">)</span>: <span style=\"color: #008080; text-decoration-color: #008080; font-weight: bold\">7</span>\n",
       "</pre>\n"
      ],
      "text/plain": [
       "Value at position \u001b[1;36m3\u001b[0m \u001b[1m(\u001b[0mindex \u001b[1;36m2\u001b[0m\u001b[1m)\u001b[0m: \u001b[1;36m7\u001b[0m\n"
      ]
     },
     "metadata": {},
     "output_type": "display_data"
    },
    {
     "data": {
      "text/html": [
       "<pre style=\"white-space:pre;overflow-x:auto;line-height:normal;font-family:Menlo,'DejaVu Sans Mono',consolas,'Courier New',monospace\">List x: <span style=\"font-weight: bold\">[</span><span style=\"color: #008080; text-decoration-color: #008080; font-weight: bold\">10504</span>, <span style=\"color: #008080; text-decoration-color: #008080; font-weight: bold\">23.42</span>, <span style=\"color: #008080; text-decoration-color: #008080; font-weight: bold\">7</span>, <span style=\"color: #008080; text-decoration-color: #008080; font-weight: bold\">4</span>, <span style=\"color: #008080; text-decoration-color: #008080; font-weight: bold\">5</span>, <span style=\"color: #008080; text-decoration-color: #008080; font-weight: bold\">8</span>, <span style=\"color: #008000; text-decoration-color: #008000\">'XZ'</span><span style=\"font-weight: bold\">]</span>\n",
       "</pre>\n"
      ],
      "text/plain": [
       "List x: \u001b[1m[\u001b[0m\u001b[1;36m10504\u001b[0m, \u001b[1;36m23.42\u001b[0m, \u001b[1;36m7\u001b[0m, \u001b[1;36m4\u001b[0m, \u001b[1;36m5\u001b[0m, \u001b[1;36m8\u001b[0m, \u001b[32m'XZ'\u001b[0m\u001b[1m]\u001b[0m\n"
      ]
     },
     "metadata": {},
     "output_type": "display_data"
    }
   ],
   "source": [
    "console.rule(\"Indexing\", style=\"orchid\")\n",
    "\n",
    "# Indexing\n",
    "print(f\"Value at index 0: {x[0]}\")\n",
    "print(f\"Value at position 3 (index 2): {x[2]}\")\n",
    "print(f\"List x: {x}\")\n"
   ]
  },
  {
   "cell_type": "code",
   "execution_count": 33,
   "metadata": {
    "colab": {
     "base_uri": "https://localhost:8080/",
     "height": 163
    },
    "id": "Rr2Ars4JCuIp",
    "outputId": "dc403e2d-a552-4433-f3d7-6f3deee6bc89"
   },
   "outputs": [
    {
     "data": {
      "text/html": [
       "<pre style=\"white-space:pre;overflow-x:auto;line-height:normal;font-family:Menlo,'DejaVu Sans Mono',consolas,'Courier New',monospace\">\n",
       " Slicing:\n",
       "</pre>\n"
      ],
      "text/plain": [
       "\n",
       " Slicing:\n"
      ]
     },
     "metadata": {},
     "output_type": "display_data"
    },
    {
     "data": {
      "text/html": [
       "<pre style=\"white-space:pre;overflow-x:auto;line-height:normal;font-family:Menlo,'DejaVu Sans Mono',consolas,'Courier New',monospace\">x:\n",
       "<span style=\"font-weight: bold\">[</span><span style=\"color: #008080; text-decoration-color: #008080; font-weight: bold\">10504</span>, <span style=\"color: #008080; text-decoration-color: #008080; font-weight: bold\">23.42</span>, <span style=\"color: #008080; text-decoration-color: #008080; font-weight: bold\">7</span>, <span style=\"color: #008080; text-decoration-color: #008080; font-weight: bold\">4</span>, <span style=\"color: #008080; text-decoration-color: #008080; font-weight: bold\">5</span>, <span style=\"color: #008080; text-decoration-color: #008080; font-weight: bold\">8</span>, <span style=\"color: #008000; text-decoration-color: #008000\">'XZ'</span><span style=\"font-weight: bold\">]</span>\n",
       "</pre>\n"
      ],
      "text/plain": [
       "x:\n",
       "\u001b[1m[\u001b[0m\u001b[1;36m10504\u001b[0m, \u001b[1;36m23.42\u001b[0m, \u001b[1;36m7\u001b[0m, \u001b[1;36m4\u001b[0m, \u001b[1;36m5\u001b[0m, \u001b[1;36m8\u001b[0m, \u001b[32m'XZ'\u001b[0m\u001b[1m]\u001b[0m\n"
      ]
     },
     "metadata": {},
     "output_type": "display_data"
    },
    {
     "data": {
      "text/html": [
       "<pre style=\"white-space:pre;overflow-x:auto;line-height:normal;font-family:Menlo,'DejaVu Sans Mono',consolas,'Courier New',monospace\">x<span style=\"font-weight: bold\">[</span><span style=\"color: #008080; text-decoration-color: #008080; font-weight: bold\">3</span>:<span style=\"font-weight: bold\">]</span>: <span style=\"font-weight: bold\">[</span><span style=\"color: #008080; text-decoration-color: #008080; font-weight: bold\">4</span>, <span style=\"color: #008080; text-decoration-color: #008080; font-weight: bold\">5</span>, <span style=\"color: #008080; text-decoration-color: #008080; font-weight: bold\">8</span>, <span style=\"color: #008000; text-decoration-color: #008000\">'XZ'</span><span style=\"font-weight: bold\">]</span>\n",
       "</pre>\n"
      ],
      "text/plain": [
       "x\u001b[1m[\u001b[0m\u001b[1;36m3\u001b[0m:\u001b[1m]\u001b[0m: \u001b[1m[\u001b[0m\u001b[1;36m4\u001b[0m, \u001b[1;36m5\u001b[0m, \u001b[1;36m8\u001b[0m, \u001b[32m'XZ'\u001b[0m\u001b[1m]\u001b[0m\n"
      ]
     },
     "metadata": {},
     "output_type": "display_data"
    },
    {
     "data": {
      "text/html": [
       "<pre style=\"white-space:pre;overflow-x:auto;line-height:normal;font-family:Menlo,'DejaVu Sans Mono',consolas,'Courier New',monospace\">x<span style=\"font-weight: bold\">[</span>:<span style=\"font-weight: bold\">]</span>: <span style=\"font-weight: bold\">[</span><span style=\"color: #008080; text-decoration-color: #008080; font-weight: bold\">10504</span>, <span style=\"color: #008080; text-decoration-color: #008080; font-weight: bold\">23.42</span>, <span style=\"color: #008080; text-decoration-color: #008080; font-weight: bold\">7</span>, <span style=\"color: #008080; text-decoration-color: #008080; font-weight: bold\">4</span>, <span style=\"color: #008080; text-decoration-color: #008080; font-weight: bold\">5</span>, <span style=\"color: #008080; text-decoration-color: #008080; font-weight: bold\">8</span>, <span style=\"color: #008000; text-decoration-color: #008000\">'XZ'</span><span style=\"font-weight: bold\">]</span>\n",
       "</pre>\n"
      ],
      "text/plain": [
       "x\u001b[1m[\u001b[0m:\u001b[1m]\u001b[0m: \u001b[1m[\u001b[0m\u001b[1;36m10504\u001b[0m, \u001b[1;36m23.42\u001b[0m, \u001b[1;36m7\u001b[0m, \u001b[1;36m4\u001b[0m, \u001b[1;36m5\u001b[0m, \u001b[1;36m8\u001b[0m, \u001b[32m'XZ'\u001b[0m\u001b[1m]\u001b[0m\n"
      ]
     },
     "metadata": {},
     "output_type": "display_data"
    },
    {
     "data": {
      "text/html": [
       "<pre style=\"white-space:pre;overflow-x:auto;line-height:normal;font-family:Menlo,'DejaVu Sans Mono',consolas,'Courier New',monospace\">x<span style=\"font-weight: bold\">[</span><span style=\"color: #008080; text-decoration-color: #008080; font-weight: bold\">-3</span>:<span style=\"font-weight: bold\">]</span>: <span style=\"font-weight: bold\">[</span><span style=\"color: #008080; text-decoration-color: #008080; font-weight: bold\">5</span>, <span style=\"color: #008080; text-decoration-color: #008080; font-weight: bold\">8</span>, <span style=\"color: #008000; text-decoration-color: #008000\">'XZ'</span><span style=\"font-weight: bold\">]</span>\n",
       "</pre>\n"
      ],
      "text/plain": [
       "x\u001b[1m[\u001b[0m\u001b[1;36m-3\u001b[0m:\u001b[1m]\u001b[0m: \u001b[1m[\u001b[0m\u001b[1;36m5\u001b[0m, \u001b[1;36m8\u001b[0m, \u001b[32m'XZ'\u001b[0m\u001b[1m]\u001b[0m\n"
      ]
     },
     "metadata": {},
     "output_type": "display_data"
    },
    {
     "data": {
      "text/html": [
       "<pre style=\"white-space:pre;overflow-x:auto;line-height:normal;font-family:Menlo,'DejaVu Sans Mono',consolas,'Courier New',monospace\">x<span style=\"font-weight: bold\">[</span>:<span style=\"color: #008080; text-decoration-color: #008080; font-weight: bold\">-2</span><span style=\"font-weight: bold\">]</span>: <span style=\"font-weight: bold\">[</span><span style=\"color: #008080; text-decoration-color: #008080; font-weight: bold\">10504</span>, <span style=\"color: #008080; text-decoration-color: #008080; font-weight: bold\">23.42</span>, <span style=\"color: #008080; text-decoration-color: #008080; font-weight: bold\">7</span>, <span style=\"color: #008080; text-decoration-color: #008080; font-weight: bold\">4</span>, <span style=\"color: #008080; text-decoration-color: #008080; font-weight: bold\">5</span><span style=\"font-weight: bold\">]</span>\n",
       "</pre>\n"
      ],
      "text/plain": [
       "x\u001b[1m[\u001b[0m:\u001b[1;36m-2\u001b[0m\u001b[1m]\u001b[0m: \u001b[1m[\u001b[0m\u001b[1;36m10504\u001b[0m, \u001b[1;36m23.42\u001b[0m, \u001b[1;36m7\u001b[0m, \u001b[1;36m4\u001b[0m, \u001b[1;36m5\u001b[0m\u001b[1m]\u001b[0m\n"
      ]
     },
     "metadata": {},
     "output_type": "display_data"
    }
   ],
   "source": [
    "# Selecting values by index (slicing)\n",
    "print(\"\\n Slicing:\")\n",
    "print(\"x:\", x)\n",
    "print(f\"x[3:]: {x[3:]}\")  # Slice from the third element to the end\n",
    "print(f\"x[:]: {x[:]}\")  # Slice that returns the entire list\n",
    "print(f\"x[-3:]: {x[-3:]}\")  # Slice that returns the last three elements\n",
    "print(f\"x[:-2]: {x[:-2]}\")  # Slice that excludes the last two elements\n"
   ]
  },
  {
   "cell_type": "code",
   "execution_count": 35,
   "metadata": {
    "colab": {
     "base_uri": "https://localhost:8080/",
     "height": 142
    },
    "id": "fsceM2C7TLoN",
    "outputId": "3d61ef29-8b84-487f-fc17-3f6405c2ce11"
   },
   "outputs": [
    {
     "data": {
      "text/html": [
       "<pre style=\"white-space:pre;overflow-x:auto;line-height:normal;font-family:Menlo,'DejaVu Sans Mono',consolas,'Courier New',monospace\"><span style=\"color: #d75fd7; text-decoration-color: #d75fd7\">─────────────────────────────────────────────────── </span>Operations<span style=\"color: #d75fd7; text-decoration-color: #d75fd7\"> ────────────────────────────────────────────────────</span>\n",
       "</pre>\n"
      ],
      "text/plain": [
       "\u001b[38;5;170m─────────────────────────────────────────────────── \u001b[0mOperations\u001b[38;5;170m ────────────────────────────────────────────────────\u001b[0m\n"
      ]
     },
     "metadata": {},
     "output_type": "display_data"
    },
    {
     "data": {
      "text/html": [
       "<pre style=\"white-space:pre;overflow-x:auto;line-height:normal;font-family:Menlo,'DejaVu Sans Mono',consolas,'Courier New',monospace\">List x tripled: <span style=\"font-weight: bold\">[</span><span style=\"color: #008080; text-decoration-color: #008080; font-weight: bold\">10504</span>, <span style=\"color: #008080; text-decoration-color: #008080; font-weight: bold\">23.42</span>, <span style=\"color: #008080; text-decoration-color: #008080; font-weight: bold\">7</span>, <span style=\"color: #008080; text-decoration-color: #008080; font-weight: bold\">4</span>, <span style=\"color: #008080; text-decoration-color: #008080; font-weight: bold\">5</span>, <span style=\"color: #008080; text-decoration-color: #008080; font-weight: bold\">8</span>, <span style=\"color: #008000; text-decoration-color: #008000\">'XZ'</span>, <span style=\"color: #008080; text-decoration-color: #008080; font-weight: bold\">10504</span>, <span style=\"color: #008080; text-decoration-color: #008080; font-weight: bold\">23.42</span>, <span style=\"color: #008080; text-decoration-color: #008080; font-weight: bold\">7</span>, <span style=\"color: #008080; text-decoration-color: #008080; font-weight: bold\">4</span>, <span style=\"color: #008080; text-decoration-color: #008080; font-weight: bold\">5</span>, <span style=\"color: #008080; text-decoration-color: #008080; font-weight: bold\">8</span>, <span style=\"color: #008000; text-decoration-color: #008000\">'XZ'</span>, <span style=\"color: #008080; text-decoration-color: #008080; font-weight: bold\">10504</span>, <span style=\"color: #008080; text-decoration-color: #008080; font-weight: bold\">23.42</span>, <span style=\"color: #008080; text-decoration-color: #008080; font-weight: bold\">7</span>, <span style=\"color: #008080; text-decoration-color: #008080; font-weight: bold\">4</span>, <span style=\"color: #008080; text-decoration-color: #008080; font-weight: bold\">5</span>, <span style=\"color: #008080; text-decoration-color: #008080; font-weight: bold\">8</span>, <span style=\"color: #008000; text-decoration-color: #008000\">'XZ'</span><span style=\"font-weight: bold\">]</span>\n",
       "</pre>\n"
      ],
      "text/plain": [
       "List x tripled: \u001b[1m[\u001b[0m\u001b[1;36m10504\u001b[0m, \u001b[1;36m23.42\u001b[0m, \u001b[1;36m7\u001b[0m, \u001b[1;36m4\u001b[0m, \u001b[1;36m5\u001b[0m, \u001b[1;36m8\u001b[0m, \u001b[32m'XZ'\u001b[0m, \u001b[1;36m10504\u001b[0m, \u001b[1;36m23.42\u001b[0m, \u001b[1;36m7\u001b[0m, \u001b[1;36m4\u001b[0m, \u001b[1;36m5\u001b[0m, \u001b[1;36m8\u001b[0m, \u001b[32m'XZ'\u001b[0m, \u001b[1;36m10504\u001b[0m, \u001b[1;36m23.42\u001b[0m, \u001b[1;36m7\u001b[0m, \u001b[1;36m4\u001b[0m, \u001b[1;36m5\u001b[0m, \u001b[1;36m8\u001b[0m, \u001b[32m'XZ'\u001b[0m\u001b[1m]\u001b[0m\n"
      ]
     },
     "metadata": {},
     "output_type": "display_data"
    },
    {
     "data": {
      "text/html": [
       "<pre style=\"white-space:pre;overflow-x:auto;line-height:normal;font-family:Menlo,'DejaVu Sans Mono',consolas,'Courier New',monospace\">Concatenation of a, b, and a1: <span style=\"font-weight: bold\">[</span><span style=\"color: #008080; text-decoration-color: #008080; font-weight: bold\">3.5</span>, <span style=\"color: #008080; text-decoration-color: #008080; font-weight: bold\">1</span>, <span style=\"color: #008080; text-decoration-color: #008080; font-weight: bold\">2</span>, <span style=\"color: #008080; text-decoration-color: #008080; font-weight: bold\">3.7</span>, <span style=\"color: #008080; text-decoration-color: #008080; font-weight: bold\">5.5</span>, <span style=\"color: #008000; text-decoration-color: #008000\">'A'</span>, <span style=\"color: #008080; text-decoration-color: #008080; font-weight: bold\">1</span>, <span style=\"color: #ff0000; text-decoration-color: #ff0000; font-style: italic\">False</span>, <span style=\"color: #00ff00; text-decoration-color: #00ff00; font-style: italic\">True</span><span style=\"font-weight: bold\">]</span>\n",
       "</pre>\n"
      ],
      "text/plain": [
       "Concatenation of a, b, and a1: \u001b[1m[\u001b[0m\u001b[1;36m3.5\u001b[0m, \u001b[1;36m1\u001b[0m, \u001b[1;36m2\u001b[0m, \u001b[1;36m3.7\u001b[0m, \u001b[1;36m5.5\u001b[0m, \u001b[32m'A'\u001b[0m, \u001b[1;36m1\u001b[0m, \u001b[3;91mFalse\u001b[0m, \u001b[3;92mTrue\u001b[0m\u001b[1m]\u001b[0m\n"
      ]
     },
     "metadata": {},
     "output_type": "display_data"
    },
    {
     "data": {
      "text/html": [
       "<pre style=\"white-space:pre;overflow-x:auto;line-height:normal;font-family:Menlo,'DejaVu Sans Mono',consolas,'Courier New',monospace\">Concatenation of a and b =&gt; c: <span style=\"font-weight: bold\">[</span><span style=\"color: #008000; text-decoration-color: #008000\">'A'</span>, <span style=\"color: #008080; text-decoration-color: #008080; font-weight: bold\">1</span>, <span style=\"color: #008080; text-decoration-color: #008080; font-weight: bold\">3.5</span>, <span style=\"color: #008080; text-decoration-color: #008080; font-weight: bold\">1</span>, <span style=\"color: #008080; text-decoration-color: #008080; font-weight: bold\">2</span>, <span style=\"color: #008080; text-decoration-color: #008080; font-weight: bold\">3.7</span>, <span style=\"color: #008080; text-decoration-color: #008080; font-weight: bold\">5.5</span><span style=\"font-weight: bold\">]</span>\n",
       "</pre>\n"
      ],
      "text/plain": [
       "Concatenation of a and b => c: \u001b[1m[\u001b[0m\u001b[32m'A'\u001b[0m, \u001b[1;36m1\u001b[0m, \u001b[1;36m3.5\u001b[0m, \u001b[1;36m1\u001b[0m, \u001b[1;36m2\u001b[0m, \u001b[1;36m3.7\u001b[0m, \u001b[1;36m5.5\u001b[0m\u001b[1m]\u001b[0m\n"
      ]
     },
     "metadata": {},
     "output_type": "display_data"
    },
    {
     "data": {
      "text/html": [
       "<pre style=\"white-space:pre;overflow-x:auto;line-height:normal;font-family:Menlo,'DejaVu Sans Mono',consolas,'Courier New',monospace\">List z: <span style=\"font-weight: bold\">[</span><span style=\"color: #008080; text-decoration-color: #008080; font-weight: bold\">21008</span>, <span style=\"color: #008080; text-decoration-color: #008080; font-weight: bold\">46.84</span>, <span style=\"color: #008080; text-decoration-color: #008080; font-weight: bold\">14</span>, <span style=\"color: #008080; text-decoration-color: #008080; font-weight: bold\">8</span>, <span style=\"color: #008080; text-decoration-color: #008080; font-weight: bold\">10</span>, <span style=\"color: #008080; text-decoration-color: #008080; font-weight: bold\">16</span>, <span style=\"color: #008000; text-decoration-color: #008000\">'XZXZ'</span><span style=\"font-weight: bold\">]</span>\n",
       "</pre>\n"
      ],
      "text/plain": [
       "List z: \u001b[1m[\u001b[0m\u001b[1;36m21008\u001b[0m, \u001b[1;36m46.84\u001b[0m, \u001b[1;36m14\u001b[0m, \u001b[1;36m8\u001b[0m, \u001b[1;36m10\u001b[0m, \u001b[1;36m16\u001b[0m, \u001b[32m'XZXZ'\u001b[0m\u001b[1m]\u001b[0m\n"
      ]
     },
     "metadata": {},
     "output_type": "display_data"
    }
   ],
   "source": [
    "console.rule(\"Operations\", style=\"orchid\")\n",
    "\n",
    "x3 = x * 3  # Repeat the list x\n",
    "print(f\"List x tripled: {x3}\")\n",
    "\n",
    "# Concatenate two lists\n",
    "a = [\"A\", 1]\n",
    "b = [3.5, 1, 2, 3.7, 5.5]\n",
    "a1 = [False, True]\n",
    "c = a + b\n",
    "print(f\"Concatenation of a, b, and a1: {b + a + a1}\")  # Concatenate the lists\n",
    "print(f\"Concatenation of a and b => c: {c}\")  # Concatenation result\n",
    "\n",
    "z = [i * 2 for i in x]  # Create a new list z by multiplying each element in x by 2\n",
    "print(f\"List z: {z}\")\n"
   ]
  },
  {
   "cell_type": "markdown",
   "metadata": {
    "id": "Z_4PZPcMqiS8"
   },
   "source": [
    "## Dictionaries"
   ]
  },
  {
   "cell_type": "code",
   "execution_count": 38,
   "metadata": {
    "colab": {
     "base_uri": "https://localhost:8080/",
     "height": 163
    },
    "id": "nYnC2pzo6YDE",
    "outputId": "cf87a194-af8e-4af7-ca74-79be3e9c562b"
   },
   "outputs": [
    {
     "data": {
      "text/html": [
       "<pre style=\"white-space:pre;overflow-x:auto;line-height:normal;font-family:Menlo,'DejaVu Sans Mono',consolas,'Courier New',monospace\"><span style=\"color: #d75fd7; text-decoration-color: #d75fd7\">╭─────────────────────────────────────────────────────────────────────────────────────────────────────────────────╮</span>\n",
       "<span style=\"color: #d75fd7; text-decoration-color: #d75fd7\">│ Dictionaries                                                                                                    │</span>\n",
       "<span style=\"color: #d75fd7; text-decoration-color: #d75fd7\">╰─────────────────────────────────────────────────────────────────────────────────────────────────────────────────╯</span>\n",
       "</pre>\n"
      ],
      "text/plain": [
       "\u001b[38;5;170m╭─────────────────────────────────────────────────────────────────────────────────────────────────────────────────╮\u001b[0m\n",
       "\u001b[38;5;170m│\u001b[0m\u001b[38;5;170m \u001b[0m\u001b[38;5;170mDictionaries\u001b[0m\u001b[38;5;170m                                                                                                   \u001b[0m\u001b[38;5;170m \u001b[0m\u001b[38;5;170m│\u001b[0m\n",
       "\u001b[38;5;170m╰─────────────────────────────────────────────────────────────────────────────────────────────────────────────────╯\u001b[0m\n"
      ]
     },
     "metadata": {},
     "output_type": "display_data"
    },
    {
     "data": {
      "text/html": [
       "<pre style=\"white-space:pre;overflow-x:auto;line-height:normal;font-family:Menlo,'DejaVu Sans Mono',consolas,'Courier New',monospace\"><span style=\"color: #d75fd7; text-decoration-color: #d75fd7\">──────────────────────────────────────────────── </span>Empty Dictionary<span style=\"color: #d75fd7; text-decoration-color: #d75fd7\"> ─────────────────────────────────────────────────</span>\n",
       "</pre>\n"
      ],
      "text/plain": [
       "\u001b[38;5;170m──────────────────────────────────────────────── \u001b[0mEmpty Dictionary\u001b[38;5;170m ─────────────────────────────────────────────────\u001b[0m\n"
      ]
     },
     "metadata": {},
     "output_type": "display_data"
    },
    {
     "data": {
      "text/html": [
       "<pre style=\"white-space:pre;overflow-x:auto;line-height:normal;font-family:Menlo,'DejaVu Sans Mono',consolas,'Courier New',monospace\">my_dictionary =\n",
       "<span style=\"font-weight: bold\">{}</span>\n",
       "</pre>\n"
      ],
      "text/plain": [
       "my_dictionary =\n",
       "\u001b[1m{\u001b[0m\u001b[1m}\u001b[0m\n"
      ]
     },
     "metadata": {},
     "output_type": "display_data"
    },
    {
     "data": {
      "text/html": [
       "<pre style=\"white-space:pre;overflow-x:auto;line-height:normal;font-family:Menlo,'DejaVu Sans Mono',consolas,'Courier New',monospace\">Data type of the dictionary: <span style=\"font-weight: bold\">&lt;</span><span style=\"color: #ff00ff; text-decoration-color: #ff00ff; font-weight: bold\">class</span><span style=\"color: #000000; text-decoration-color: #000000\"> </span><span style=\"color: #008000; text-decoration-color: #008000\">'dict'</span><span style=\"font-weight: bold\">&gt;</span>\n",
       "</pre>\n"
      ],
      "text/plain": [
       "Data type of the dictionary: \u001b[1m<\u001b[0m\u001b[1;95mclass\u001b[0m\u001b[39m \u001b[0m\u001b[32m'dict'\u001b[0m\u001b[1m>\u001b[0m\n"
      ]
     },
     "metadata": {},
     "output_type": "display_data"
    }
   ],
   "source": [
    "console.print(Panel(\"Dictionaries\"), style=\"orchid\")\n",
    "console.rule(\"Empty Dictionary\", style=\"orchid\")\n",
    "\n",
    "# Create an empty dictionary\n",
    "my_list = []\n",
    "my_dictionary = {}\n",
    "print(\"my_dictionary =\", my_dictionary)\n",
    "print(\"Data type of the dictionary:\", type(my_dictionary))\n"
   ]
  },
  {
   "cell_type": "code",
   "execution_count": 40,
   "metadata": {
    "colab": {
     "base_uri": "https://localhost:8080/",
     "height": 80
    },
    "id": "zztsPV4WEi-g",
    "outputId": "ce428e50-f8d6-4889-e555-728998003666"
   },
   "outputs": [
    {
     "data": {
      "text/html": [
       "<pre style=\"white-space:pre;overflow-x:auto;line-height:normal;font-family:Menlo,'DejaVu Sans Mono',consolas,'Courier New',monospace\"><span style=\"color: #d75fd7; text-decoration-color: #d75fd7\">────────────────────────────────────────── </span>Dictionary with Various Keys<span style=\"color: #d75fd7; text-decoration-color: #d75fd7\"> ───────────────────────────────────────────</span>\n",
       "</pre>\n"
      ],
      "text/plain": [
       "\u001b[38;5;170m────────────────────────────────────────── \u001b[0mDictionary with Various Keys\u001b[38;5;170m ───────────────────────────────────────────\u001b[0m\n"
      ]
     },
     "metadata": {},
     "output_type": "display_data"
    },
    {
     "data": {
      "text/html": [
       "<pre style=\"white-space:pre;overflow-x:auto;line-height:normal;font-family:Menlo,'DejaVu Sans Mono',consolas,'Courier New',monospace\">my_dictionary =\n",
       "<span style=\"font-weight: bold\">{</span><span style=\"color: #008000; text-decoration-color: #008000\">'key1'</span>: <span style=\"color: #008080; text-decoration-color: #008080; font-weight: bold\">73.42</span>, <span style=\"color: #008000; text-decoration-color: #008000\">'key2'</span>: <span style=\"color: #008000; text-decoration-color: #008000\">'house'</span>, <span style=\"color: #008000; text-decoration-color: #008000\">'key3'</span>: <span style=\"color: #ff0000; text-decoration-color: #ff0000; font-style: italic\">False</span><span style=\"font-weight: bold\">}</span>\n",
       "</pre>\n"
      ],
      "text/plain": [
       "my_dictionary =\n",
       "\u001b[1m{\u001b[0m\u001b[32m'key1'\u001b[0m: \u001b[1;36m73.42\u001b[0m, \u001b[32m'key2'\u001b[0m: \u001b[32m'house'\u001b[0m, \u001b[32m'key3'\u001b[0m: \u001b[3;91mFalse\u001b[0m\u001b[1m}\u001b[0m\n"
      ]
     },
     "metadata": {},
     "output_type": "display_data"
    }
   ],
   "source": [
    "console.rule(\"Dictionary with Various Keys\", style=\"orchid\")\n",
    "\n",
    "# Create a dictionary with predefined elements\n",
    "value1, value2, value3 = 73.42, \"house\", False\n",
    "\n",
    "my_dictionary = {\n",
    "    \"key1\": value1,\n",
    "    \"key2\": value2,\n",
    "    \"key3\": value3\n",
    "}\n",
    "print(\"my_dictionary =\", my_dictionary)\n"
   ]
  },
  {
   "cell_type": "code",
   "execution_count": 42,
   "metadata": {
    "colab": {
     "base_uri": "https://localhost:8080/",
     "height": 142
    },
    "id": "CiRawPTyTVkM",
    "outputId": "2f8ab283-2a44-4285-ff46-889de0cb3585"
   },
   "outputs": [
    {
     "data": {
      "text/html": [
       "<pre style=\"white-space:pre;overflow-x:auto;line-height:normal;font-family:Menlo,'DejaVu Sans Mono',consolas,'Courier New',monospace\"><span style=\"color: #d75fd7; text-decoration-color: #d75fd7\">─────────────────────────────────────────────── </span>Accessing Elements<span style=\"color: #d75fd7; text-decoration-color: #d75fd7\"> ────────────────────────────────────────────────</span>\n",
       "</pre>\n"
      ],
      "text/plain": [
       "\u001b[38;5;170m─────────────────────────────────────────────── \u001b[0mAccessing Elements\u001b[38;5;170m ────────────────────────────────────────────────\u001b[0m\n"
      ]
     },
     "metadata": {},
     "output_type": "display_data"
    },
    {
     "data": {
      "text/html": [
       "<pre style=\"white-space:pre;overflow-x:auto;line-height:normal;font-family:Menlo,'DejaVu Sans Mono',consolas,'Courier New',monospace\">my_dictionary:\n",
       "<span style=\"font-weight: bold\">{</span><span style=\"color: #008000; text-decoration-color: #008000\">'name'</span>: <span style=\"color: #008000; text-decoration-color: #008000\">'Juan'</span>, <span style=\"color: #008000; text-decoration-color: #008000\">'age'</span>: <span style=\"color: #008080; text-decoration-color: #008080; font-weight: bold\">25</span>, <span style=\"color: #008000; text-decoration-color: #008000\">'city'</span>: <span style=\"color: #008000; text-decoration-color: #008000\">'Madrid'</span>, <span style=\"color: #008000; text-decoration-color: #008000\">'phone'</span>: <span style=\"color: #008080; text-decoration-color: #008080; font-weight: bold\">555666555</span><span style=\"font-weight: bold\">}</span>\n",
       "</pre>\n"
      ],
      "text/plain": [
       "my_dictionary:\n",
       "\u001b[1m{\u001b[0m\u001b[32m'name'\u001b[0m: \u001b[32m'Juan'\u001b[0m, \u001b[32m'age'\u001b[0m: \u001b[1;36m25\u001b[0m, \u001b[32m'city'\u001b[0m: \u001b[32m'Madrid'\u001b[0m, \u001b[32m'phone'\u001b[0m: \u001b[1;36m555666555\u001b[0m\u001b[1m}\u001b[0m\n"
      ]
     },
     "metadata": {},
     "output_type": "display_data"
    },
    {
     "data": {
      "text/html": [
       "<pre style=\"white-space:pre;overflow-x:auto;line-height:normal;font-family:Menlo,'DejaVu Sans Mono',consolas,'Courier New',monospace\">my_dictionary<span style=\"font-weight: bold\">[</span><span style=\"color: #008000; text-decoration-color: #008000\">'name'</span><span style=\"font-weight: bold\">]</span> = Juan\n",
       "</pre>\n"
      ],
      "text/plain": [
       "my_dictionary\u001b[1m[\u001b[0m\u001b[32m'name'\u001b[0m\u001b[1m]\u001b[0m = Juan\n"
      ]
     },
     "metadata": {},
     "output_type": "display_data"
    },
    {
     "data": {
      "text/html": [
       "<pre style=\"white-space:pre;overflow-x:auto;line-height:normal;font-family:Menlo,'DejaVu Sans Mono',consolas,'Courier New',monospace\">my_dictionary<span style=\"font-weight: bold\">[</span><span style=\"color: #008000; text-decoration-color: #008000\">'age'</span><span style=\"font-weight: bold\">]</span> = <span style=\"color: #008080; text-decoration-color: #008080; font-weight: bold\">25</span>\n",
       "</pre>\n"
      ],
      "text/plain": [
       "my_dictionary\u001b[1m[\u001b[0m\u001b[32m'age'\u001b[0m\u001b[1m]\u001b[0m = \u001b[1;36m25\u001b[0m\n"
      ]
     },
     "metadata": {},
     "output_type": "display_data"
    },
    {
     "data": {
      "text/html": [
       "<pre style=\"white-space:pre;overflow-x:auto;line-height:normal;font-family:Menlo,'DejaVu Sans Mono',consolas,'Courier New',monospace\">my_dictionary<span style=\"font-weight: bold\">[</span><span style=\"color: #008000; text-decoration-color: #008000\">'city'</span><span style=\"font-weight: bold\">]</span> = Madrid\n",
       "</pre>\n"
      ],
      "text/plain": [
       "my_dictionary\u001b[1m[\u001b[0m\u001b[32m'city'\u001b[0m\u001b[1m]\u001b[0m = Madrid\n"
      ]
     },
     "metadata": {},
     "output_type": "display_data"
    }
   ],
   "source": [
    "console.rule(\"Accessing Elements\", style=\"orchid\")\n",
    "\n",
    "# Access the value of an element using its key\n",
    "my_dictionary = {\n",
    "    'name': 'Juan',\n",
    "    'age': 25,\n",
    "    'city': 'Madrid',\n",
    "    'phone': 555666555\n",
    "}\n",
    "print(\"my_dictionary:\", my_dictionary)\n",
    "print(\"my_dictionary['name'] =\", my_dictionary['name'])  # Prints 'Juan'\n",
    "print(\"my_dictionary['age'] =\", my_dictionary['age'])  # Prints 25\n",
    "print(\"my_dictionary['city'] =\", my_dictionary['city'])  # Prints 'Madrid'\n"
   ]
  },
  {
   "cell_type": "code",
   "execution_count": 44,
   "metadata": {
    "colab": {
     "base_uri": "https://localhost:8080/",
     "height": 80
    },
    "id": "4wpgzETVzy2c",
    "outputId": "f51c8a84-4062-4b94-8fd7-a1fe4b9e3595"
   },
   "outputs": [
    {
     "data": {
      "text/html": [
       "<pre style=\"white-space:pre;overflow-x:auto;line-height:normal;font-family:Menlo,'DejaVu Sans Mono',consolas,'Courier New',monospace\">dict:\n",
       "<span style=\"font-weight: bold\">{</span><span style=\"color: #008000; text-decoration-color: #008000\">'names'</span>: <span style=\"font-weight: bold\">[</span><span style=\"color: #008000; text-decoration-color: #008000\">'Juan'</span>, <span style=\"color: #008000; text-decoration-color: #008000\">'Ana'</span>, <span style=\"color: #008000; text-decoration-color: #008000\">'María'</span><span style=\"font-weight: bold\">]</span>, <span style=\"color: #008000; text-decoration-color: #008000\">'ages'</span>: <span style=\"font-weight: bold\">[</span><span style=\"color: #008080; text-decoration-color: #008080; font-weight: bold\">25</span>, <span style=\"color: #008080; text-decoration-color: #008080; font-weight: bold\">89</span>, <span style=\"color: #008080; text-decoration-color: #008080; font-weight: bold\">42</span><span style=\"font-weight: bold\">]}</span>\n",
       "</pre>\n"
      ],
      "text/plain": [
       "dict:\n",
       "\u001b[1m{\u001b[0m\u001b[32m'names'\u001b[0m: \u001b[1m[\u001b[0m\u001b[32m'Juan'\u001b[0m, \u001b[32m'Ana'\u001b[0m, \u001b[32m'María'\u001b[0m\u001b[1m]\u001b[0m, \u001b[32m'ages'\u001b[0m: \u001b[1m[\u001b[0m\u001b[1;36m25\u001b[0m, \u001b[1;36m89\u001b[0m, \u001b[1;36m42\u001b[0m\u001b[1m]\u001b[0m\u001b[1m}\u001b[0m\n"
      ]
     },
     "metadata": {},
     "output_type": "display_data"
    },
    {
     "data": {
      "text/html": [
       "<pre style=\"white-space:pre;overflow-x:auto;line-height:normal;font-family:Menlo,'DejaVu Sans Mono',consolas,'Courier New',monospace\">dict<span style=\"font-weight: bold\">[</span>Ana<span style=\"font-weight: bold\">]</span>: Ana\n",
       "</pre>\n"
      ],
      "text/plain": [
       "dict\u001b[1m[\u001b[0mAna\u001b[1m]\u001b[0m: Ana\n"
      ]
     },
     "metadata": {},
     "output_type": "display_data"
    }
   ],
   "source": [
    "names = ['Juan', 'Ana', 'María']\n",
    "ages = [25, 89, 42]\n",
    "my_dict = {\n",
    "    \"names\": names,\n",
    "    \"ages\": ages\n",
    "}\n",
    "print(\"dict:\", my_dict)\n",
    "print(\"dict[Ana]:\", my_dict[\"names\"][1])  # Accesses 'Ana' from the 'names' list\n"
   ]
  },
  {
   "cell_type": "code",
   "execution_count": 46,
   "metadata": {
    "colab": {
     "base_uri": "https://localhost:8080/",
     "height": 352
    },
    "id": "kcRh5wIxTVA8",
    "outputId": "54c38715-9479-4670-f904-308a875b567f"
   },
   "outputs": [
    {
     "data": {
      "text/html": [
       "<pre style=\"white-space:pre;overflow-x:auto;line-height:normal;font-family:Menlo,'DejaVu Sans Mono',consolas,'Courier New',monospace\"><span style=\"color: #d75fd7; text-decoration-color: #d75fd7\">───────────────────────────────────────────────────── </span>Modify<span style=\"color: #d75fd7; text-decoration-color: #d75fd7\"> ──────────────────────────────────────────────────────</span>\n",
       "</pre>\n"
      ],
      "text/plain": [
       "\u001b[38;5;170m───────────────────────────────────────────────────── \u001b[0mModify\u001b[38;5;170m ──────────────────────────────────────────────────────\u001b[0m\n"
      ]
     },
     "metadata": {},
     "output_type": "display_data"
    },
    {
     "data": {
      "text/html": [
       "<pre style=\"white-space:pre;overflow-x:auto;line-height:normal;font-family:Menlo,'DejaVu Sans Mono',consolas,'Courier New',monospace\">my_dictionary<span style=\"font-weight: bold\">[</span><span style=\"color: #008000; text-decoration-color: #008000\">'age'</span><span style=\"font-weight: bold\">]</span> has been modified. New value: <span style=\"color: #008080; text-decoration-color: #008080; font-weight: bold\">30</span>\n",
       "</pre>\n"
      ],
      "text/plain": [
       "my_dictionary\u001b[1m[\u001b[0m\u001b[32m'age'\u001b[0m\u001b[1m]\u001b[0m has been modified. New value: \u001b[1;36m30\u001b[0m\n"
      ]
     },
     "metadata": {},
     "output_type": "display_data"
    },
    {
     "data": {
      "text/html": [
       "<pre style=\"white-space:pre;overflow-x:auto;line-height:normal;font-family:Menlo,'DejaVu Sans Mono',consolas,'Courier New',monospace\"><span style=\"color: #d75fd7; text-decoration-color: #d75fd7\">─────────────────────────────────────────────────────── </span>Add<span style=\"color: #d75fd7; text-decoration-color: #d75fd7\"> ───────────────────────────────────────────────────────</span>\n",
       "</pre>\n"
      ],
      "text/plain": [
       "\u001b[38;5;170m─────────────────────────────────────────────────────── \u001b[0mAdd\u001b[38;5;170m ───────────────────────────────────────────────────────\u001b[0m\n"
      ]
     },
     "metadata": {},
     "output_type": "display_data"
    },
    {
     "data": {
      "text/html": [
       "<pre style=\"white-space:pre;overflow-x:auto;line-height:normal;font-family:Menlo,'DejaVu Sans Mono',consolas,'Courier New',monospace\">New element added:\n",
       "<span style=\"font-weight: bold\">{</span><span style=\"color: #008000; text-decoration-color: #008000\">'name'</span>: <span style=\"color: #008000; text-decoration-color: #008000\">'Juan'</span>, <span style=\"color: #008000; text-decoration-color: #008000\">'age'</span>: <span style=\"color: #008080; text-decoration-color: #008080; font-weight: bold\">30</span>, <span style=\"color: #008000; text-decoration-color: #008000\">'city'</span>: <span style=\"color: #008000; text-decoration-color: #008000\">'Madrid'</span>, <span style=\"color: #008000; text-decoration-color: #008000\">'phone'</span>: <span style=\"color: #008080; text-decoration-color: #008080; font-weight: bold\">555666555</span>, <span style=\"color: #008000; text-decoration-color: #008000\">'profession'</span>: <span style=\"color: #008000; text-decoration-color: #008000\">'Engineer'</span><span style=\"font-weight: bold\">}</span>\n",
       "</pre>\n"
      ],
      "text/plain": [
       "New element added:\n",
       "\u001b[1m{\u001b[0m\u001b[32m'name'\u001b[0m: \u001b[32m'Juan'\u001b[0m, \u001b[32m'age'\u001b[0m: \u001b[1;36m30\u001b[0m, \u001b[32m'city'\u001b[0m: \u001b[32m'Madrid'\u001b[0m, \u001b[32m'phone'\u001b[0m: \u001b[1;36m555666555\u001b[0m, \u001b[32m'profession'\u001b[0m: \u001b[32m'Engineer'\u001b[0m\u001b[1m}\u001b[0m\n"
      ]
     },
     "metadata": {},
     "output_type": "display_data"
    },
    {
     "data": {
      "text/html": [
       "<pre style=\"white-space:pre;overflow-x:auto;line-height:normal;font-family:Menlo,'DejaVu Sans Mono',consolas,'Courier New',monospace\"><span style=\"color: #d75fd7; text-decoration-color: #d75fd7\">───────────────────────────────────────────────────── </span>Delete<span style=\"color: #d75fd7; text-decoration-color: #d75fd7\"> ──────────────────────────────────────────────────────</span>\n",
       "</pre>\n"
      ],
      "text/plain": [
       "\u001b[38;5;170m───────────────────────────────────────────────────── \u001b[0mDelete\u001b[38;5;170m ──────────────────────────────────────────────────────\u001b[0m\n"
      ]
     },
     "metadata": {},
     "output_type": "display_data"
    },
    {
     "data": {
      "text/html": [
       "<pre style=\"white-space:pre;overflow-x:auto;line-height:normal;font-family:Menlo,'DejaVu Sans Mono',consolas,'Courier New',monospace\">Element <span style=\"color: #008000; text-decoration-color: #008000\">'city'</span> removed. New dictionary:\n",
       "<span style=\"font-weight: bold\">{</span><span style=\"color: #008000; text-decoration-color: #008000\">'name'</span>: <span style=\"color: #008000; text-decoration-color: #008000\">'Juan'</span>, <span style=\"color: #008000; text-decoration-color: #008000\">'age'</span>: <span style=\"color: #008080; text-decoration-color: #008080; font-weight: bold\">30</span>, <span style=\"color: #008000; text-decoration-color: #008000\">'phone'</span>: <span style=\"color: #008080; text-decoration-color: #008080; font-weight: bold\">555666555</span>, <span style=\"color: #008000; text-decoration-color: #008000\">'profession'</span>: <span style=\"color: #008000; text-decoration-color: #008000\">'Engineer'</span><span style=\"font-weight: bold\">}</span>\n",
       "</pre>\n"
      ],
      "text/plain": [
       "Element \u001b[32m'city'\u001b[0m removed. New dictionary:\n",
       "\u001b[1m{\u001b[0m\u001b[32m'name'\u001b[0m: \u001b[32m'Juan'\u001b[0m, \u001b[32m'age'\u001b[0m: \u001b[1;36m30\u001b[0m, \u001b[32m'phone'\u001b[0m: \u001b[1;36m555666555\u001b[0m, \u001b[32m'profession'\u001b[0m: \u001b[32m'Engineer'\u001b[0m\u001b[1m}\u001b[0m\n"
      ]
     },
     "metadata": {},
     "output_type": "display_data"
    },
    {
     "data": {
      "text/html": [
       "<pre style=\"white-space:pre;overflow-x:auto;line-height:normal;font-family:Menlo,'DejaVu Sans Mono',consolas,'Courier New',monospace\"><span style=\"color: #d75fd7; text-decoration-color: #d75fd7\">────────────────────────────────────────────── </span>Print Key/Value Pairs<span style=\"color: #d75fd7; text-decoration-color: #d75fd7\"> ──────────────────────────────────────────────</span>\n",
       "</pre>\n"
      ],
      "text/plain": [
       "\u001b[38;5;170m────────────────────────────────────────────── \u001b[0mPrint Key/Value Pairs\u001b[38;5;170m ──────────────────────────────────────────────\u001b[0m\n"
      ]
     },
     "metadata": {},
     "output_type": "display_data"
    },
    {
     "data": {
      "text/html": [
       "<pre style=\"white-space:pre;overflow-x:auto;line-height:normal;font-family:Menlo,'DejaVu Sans Mono',consolas,'Courier New',monospace\">Dictionary keys:\n",
       "<span style=\"font-weight: bold\">[</span><span style=\"color: #008000; text-decoration-color: #008000\">'name'</span>, <span style=\"color: #008000; text-decoration-color: #008000\">'age'</span>, <span style=\"color: #008000; text-decoration-color: #008000\">'phone'</span>, <span style=\"color: #008000; text-decoration-color: #008000\">'profession'</span><span style=\"font-weight: bold\">]</span>\n",
       "</pre>\n"
      ],
      "text/plain": [
       "Dictionary keys:\n",
       "\u001b[1m[\u001b[0m\u001b[32m'name'\u001b[0m, \u001b[32m'age'\u001b[0m, \u001b[32m'phone'\u001b[0m, \u001b[32m'profession'\u001b[0m\u001b[1m]\u001b[0m\n"
      ]
     },
     "metadata": {},
     "output_type": "display_data"
    },
    {
     "data": {
      "text/html": [
       "<pre style=\"white-space:pre;overflow-x:auto;line-height:normal;font-family:Menlo,'DejaVu Sans Mono',consolas,'Courier New',monospace\">Dictionary values:\n",
       "<span style=\"font-weight: bold\">[</span><span style=\"color: #008000; text-decoration-color: #008000\">'Juan'</span>, <span style=\"color: #008080; text-decoration-color: #008080; font-weight: bold\">30</span>, <span style=\"color: #008080; text-decoration-color: #008080; font-weight: bold\">555666555</span>, <span style=\"color: #008000; text-decoration-color: #008000\">'Engineer'</span><span style=\"font-weight: bold\">]</span>\n",
       "</pre>\n"
      ],
      "text/plain": [
       "Dictionary values:\n",
       "\u001b[1m[\u001b[0m\u001b[32m'Juan'\u001b[0m, \u001b[1;36m30\u001b[0m, \u001b[1;36m555666555\u001b[0m, \u001b[32m'Engineer'\u001b[0m\u001b[1m]\u001b[0m\n"
      ]
     },
     "metadata": {},
     "output_type": "display_data"
    },
    {
     "data": {
      "text/html": [
       "<pre style=\"white-space:pre;overflow-x:auto;line-height:normal;font-family:Menlo,'DejaVu Sans Mono',consolas,'Courier New',monospace\">Dictionary items: <span style=\"color: #800080; text-decoration-color: #800080; font-weight: bold\">dict_items</span><span style=\"font-weight: bold\">([(</span><span style=\"color: #008000; text-decoration-color: #008000\">'name'</span>, <span style=\"color: #008000; text-decoration-color: #008000\">'Juan'</span><span style=\"font-weight: bold\">)</span>, <span style=\"font-weight: bold\">(</span><span style=\"color: #008000; text-decoration-color: #008000\">'age'</span>, <span style=\"color: #008080; text-decoration-color: #008080; font-weight: bold\">30</span><span style=\"font-weight: bold\">)</span>, <span style=\"font-weight: bold\">(</span><span style=\"color: #008000; text-decoration-color: #008000\">'phone'</span>, <span style=\"color: #008080; text-decoration-color: #008080; font-weight: bold\">555666555</span><span style=\"font-weight: bold\">)</span>, <span style=\"font-weight: bold\">(</span><span style=\"color: #008000; text-decoration-color: #008000\">'profession'</span>, <span style=\"color: #008000; text-decoration-color: #008000\">'Engineer'</span><span style=\"font-weight: bold\">)])</span>\n",
       "</pre>\n"
      ],
      "text/plain": [
       "Dictionary items: \u001b[1;35mdict_items\u001b[0m\u001b[1m(\u001b[0m\u001b[1m[\u001b[0m\u001b[1m(\u001b[0m\u001b[32m'name'\u001b[0m, \u001b[32m'Juan'\u001b[0m\u001b[1m)\u001b[0m, \u001b[1m(\u001b[0m\u001b[32m'age'\u001b[0m, \u001b[1;36m30\u001b[0m\u001b[1m)\u001b[0m, \u001b[1m(\u001b[0m\u001b[32m'phone'\u001b[0m, \u001b[1;36m555666555\u001b[0m\u001b[1m)\u001b[0m, \u001b[1m(\u001b[0m\u001b[32m'profession'\u001b[0m, \u001b[32m'Engineer'\u001b[0m\u001b[1m)\u001b[0m\u001b[1m]\u001b[0m\u001b[1m)\u001b[0m\n"
      ]
     },
     "metadata": {},
     "output_type": "display_data"
    },
    {
     "data": {
      "text/html": [
       "<pre style=\"white-space:pre;overflow-x:auto;line-height:normal;font-family:Menlo,'DejaVu Sans Mono',consolas,'Courier New',monospace\"><span style=\"color: #800080; text-decoration-color: #800080; font-weight: bold\">type</span><span style=\"font-weight: bold\">(</span>my_dictionary<span style=\"font-weight: bold\">)</span>: <span style=\"font-weight: bold\">&lt;</span><span style=\"color: #ff00ff; text-decoration-color: #ff00ff; font-weight: bold\">class</span><span style=\"color: #000000; text-decoration-color: #000000\"> </span><span style=\"color: #008000; text-decoration-color: #008000\">'dict'</span><span style=\"font-weight: bold\">&gt;</span>\n",
       "</pre>\n"
      ],
      "text/plain": [
       "\u001b[1;35mtype\u001b[0m\u001b[1m(\u001b[0mmy_dictionary\u001b[1m)\u001b[0m: \u001b[1m<\u001b[0m\u001b[1;95mclass\u001b[0m\u001b[39m \u001b[0m\u001b[32m'dict'\u001b[0m\u001b[1m>\u001b[0m\n"
      ]
     },
     "metadata": {},
     "output_type": "display_data"
    }
   ],
   "source": [
    "console.rule(\"Modify\", style=\"orchid\")\n",
    "# Modify the value of an element\n",
    "my_dictionary['age'] = 30\n",
    "print(\"my_dictionary['age'] has been modified. New value:\", my_dictionary['age'])  # Prints 30\n",
    "\n",
    "console.rule(\"Add\", style=\"orchid\")\n",
    "# Add a new element to the dictionary\n",
    "my_dictionary['profession'] = 'Engineer'\n",
    "print(\"New element added:\", my_dictionary)  # Prints {'name': 'Juan', 'age': 30, 'city': 'Madrid', 'profession': 'Engineer'}\n",
    "\n",
    "console.rule(\"Delete\", style=\"orchid\")\n",
    "# Delete an element from the dictionary using its key\n",
    "del my_dictionary['city']\n",
    "print(\"Element 'city' removed. New dictionary:\", my_dictionary)  # Prints {'name': 'Juan', 'age': 30, 'profession': 'Engineer'}\n",
    "\n",
    "console.rule(\"Print Key/Value Pairs\", style=\"orchid\")\n",
    "# Get the list of keys and values from the dictionary\n",
    "print(\"Dictionary keys:\", list(my_dictionary.keys()))  # Prints ['name', 'age', 'profession']\n",
    "print(\"Dictionary values:\", list(my_dictionary.values()))  # Prints ['Juan', 30, 'Engineer']\n",
    "print(\"Dictionary items:\", my_dictionary.items())  # Prints [('name', 'Juan'), ('age', 30), ('profession', 'Engineer')]\n",
    "print(\"type(my_dictionary):\", type(my_dictionary))\n"
   ]
  },
  {
   "cell_type": "markdown",
   "metadata": {
    "id": "Fd1t3yc2UQSz"
   },
   "source": [
    "# Conditionals and Comparison\n",
    "\n",
    "In Python, conditionals and comparisons allow controlling the program's flow based on conditions evaluated as true (`True`) or false (`False`).\n",
    "\n",
    "The evaluation of a condition always occurs:\n",
    "\n",
    "* If the condition evaluates to `True`, the indented block of statements following the condition is executed.\n",
    "* If the condition evaluates to `False`, the indented block is skipped, and the program continues with the subsequent instructions.\n",
    "\n",
    "Conditionals in Python are typically structured using the `if` keyword for the initial evaluation of a condition. Additionally, they may include keywords such as `elif` (short for \"else if\") and `else` to handle multiple condition cases. This allows for building complex logic and making decisions based on different scenarios within the program.\n",
    "\n",
    "Comparison operators such as `==`, `!=`, `<`, `>`, `<=`, `>=` are used to compare values and produce boolean results (`True` or `False`). These operators are fundamental for constructing meaningful conditions that guide the program's behavior according to the evaluated circumstances.\n"
   ]
  },
  {
   "cell_type": "code",
   "execution_count": 49,
   "metadata": {
    "colab": {
     "base_uri": "https://localhost:8080/",
     "height": 205
    },
    "id": "ihpp7mMcUkjG",
    "outputId": "f285d959-51f0-4c81-c2f9-809d2f4949e5"
   },
   "outputs": [
    {
     "data": {
      "text/html": [
       "<pre style=\"white-space:pre;overflow-x:auto;line-height:normal;font-family:Menlo,'DejaVu Sans Mono',consolas,'Courier New',monospace\"><span style=\"color: #d75fd7; text-decoration-color: #d75fd7\">╭─────────────────────────────────────────────────────────────────────────────────────────────────────────────────╮</span>\n",
       "<span style=\"color: #d75fd7; text-decoration-color: #d75fd7\">│ Conditionals                                                                                                    │</span>\n",
       "<span style=\"color: #d75fd7; text-decoration-color: #d75fd7\">╰─────────────────────────────────────────────────────────────────────────────────────────────────────────────────╯</span>\n",
       "</pre>\n"
      ],
      "text/plain": [
       "\u001b[38;5;170m╭─────────────────────────────────────────────────────────────────────────────────────────────────────────────────╮\u001b[0m\n",
       "\u001b[38;5;170m│\u001b[0m\u001b[38;5;170m \u001b[0m\u001b[38;5;170mConditionals\u001b[0m\u001b[38;5;170m                                                                                                   \u001b[0m\u001b[38;5;170m \u001b[0m\u001b[38;5;170m│\u001b[0m\n",
       "\u001b[38;5;170m╰─────────────────────────────────────────────────────────────────────────────────────────────────────────────────╯\u001b[0m\n"
      ]
     },
     "metadata": {},
     "output_type": "display_data"
    },
    {
     "data": {
      "text/html": [
       "<pre style=\"white-space:pre;overflow-x:auto;line-height:normal;font-family:Menlo,'DejaVu Sans Mono',consolas,'Courier New',monospace\"><span style=\"color: #d75fd7; text-decoration-color: #d75fd7\">─────────────────────────────────────────────── </span>Variable Comparison<span style=\"color: #d75fd7; text-decoration-color: #d75fd7\"> ───────────────────────────────────────────────</span>\n",
       "</pre>\n"
      ],
      "text/plain": [
       "\u001b[38;5;170m─────────────────────────────────────────────── \u001b[0mVariable Comparison\u001b[38;5;170m ───────────────────────────────────────────────\u001b[0m\n"
      ]
     },
     "metadata": {},
     "output_type": "display_data"
    },
    {
     "data": {
      "text/html": [
       "<pre style=\"white-space:pre;overflow-x:auto;line-height:normal;font-family:Menlo,'DejaVu Sans Mono',consolas,'Courier New',monospace\">a: <span style=\"color: #008080; text-decoration-color: #008080; font-weight: bold\">442.4</span>, b: <span style=\"color: #008080; text-decoration-color: #008080; font-weight: bold\">2555.88</span>\n",
       "</pre>\n"
      ],
      "text/plain": [
       "a: \u001b[1;36m442.4\u001b[0m, b: \u001b[1;36m2555.88\u001b[0m\n"
      ]
     },
     "metadata": {},
     "output_type": "display_data"
    },
    {
     "data": {
      "text/html": [
       "<pre style=\"white-space:pre;overflow-x:auto;line-height:normal;font-family:Menlo,'DejaVu Sans Mono',consolas,'Courier New',monospace\">The variables a and b are different\n",
       "</pre>\n"
      ],
      "text/plain": [
       "The variables a and b are different\n"
      ]
     },
     "metadata": {},
     "output_type": "display_data"
    },
    {
     "data": {
      "text/html": [
       "<pre style=\"white-space:pre;overflow-x:auto;line-height:normal;font-family:Menlo,'DejaVu Sans Mono',consolas,'Courier New',monospace\"> - A is less than B\n",
       "</pre>\n"
      ],
      "text/plain": [
       " - A is less than B\n"
      ]
     },
     "metadata": {},
     "output_type": "display_data"
    },
    {
     "data": {
      "text/html": [
       "<pre style=\"white-space:pre;overflow-x:auto;line-height:normal;font-family:Menlo,'DejaVu Sans Mono',consolas,'Courier New',monospace\"> =&gt; They are equal\n",
       "</pre>\n"
      ],
      "text/plain": [
       " => They are equal\n"
      ]
     },
     "metadata": {},
     "output_type": "display_data"
    },
    {
     "data": {
      "text/html": [
       "<pre style=\"white-space:pre;overflow-x:auto;line-height:normal;font-family:Menlo,'DejaVu Sans Mono',consolas,'Courier New',monospace\">Are they equal? <span style=\"color: #00ff00; text-decoration-color: #00ff00; font-style: italic\">True</span>\n",
       "</pre>\n"
      ],
      "text/plain": [
       "Are they equal? \u001b[3;92mTrue\u001b[0m\n"
      ]
     },
     "metadata": {},
     "output_type": "display_data"
    }
   ],
   "source": [
    "console.print(Panel(\"Conditionals\"), style=\"orchid\")\n",
    "console.rule(\"Variable Comparison\", style=\"orchid\")\n",
    "\n",
    "a, b = 442.4, 2555.88\n",
    "print(f\"a: {a}, b: {b}\")\n",
    "\n",
    "if a == b:\n",
    "    print(\"a and b are equal\")\n",
    "else:\n",
    "    print(\"The variables a and b are different\")\n",
    "\n",
    "if a == b:\n",
    "    print(\"Equal\")\n",
    "elif a < b:\n",
    "    print(\" - A is less than B\")\n",
    "else:\n",
    "    print(\" - A is greater than B\")\n",
    "\n",
    "a, b = 1, 1\n",
    "if a != b:\n",
    "    print(\" => They are not equal\")\n",
    "else:\n",
    "    print(\" => They are equal\")\n",
    "\n",
    "# a, b = 1, 1\n",
    "print(\"Are they equal?\", a == b)\n"
   ]
  },
  {
   "cell_type": "code",
   "execution_count": 51,
   "metadata": {
    "colab": {
     "base_uri": "https://localhost:8080/",
     "height": 184
    },
    "id": "HjvFdYAq27vx",
    "outputId": "919b3ae8-fa09-4d01-fba7-027f4b15634e"
   },
   "outputs": [
    {
     "data": {
      "text/html": [
       "<pre style=\"white-space:pre;overflow-x:auto;line-height:normal;font-family:Menlo,'DejaVu Sans Mono',consolas,'Courier New',monospace\"><span style=\"color: #d75fd7; text-decoration-color: #d75fd7\">──────────────────────────────────────────────────── </span>Booleans<span style=\"color: #d75fd7; text-decoration-color: #d75fd7\"> ─────────────────────────────────────────────────────</span>\n",
       "</pre>\n"
      ],
      "text/plain": [
       "\u001b[38;5;170m──────────────────────────────────────────────────── \u001b[0mBooleans\u001b[38;5;170m ─────────────────────────────────────────────────────\u001b[0m\n"
      ]
     },
     "metadata": {},
     "output_type": "display_data"
    },
    {
     "data": {
      "text/html": [
       "<pre style=\"white-space:pre;overflow-x:auto;line-height:normal;font-family:Menlo,'DejaVu Sans Mono',consolas,'Courier New',monospace\">x is equal to y: <span style=\"color: #00ff00; text-decoration-color: #00ff00; font-style: italic\">True</span>\n",
       "</pre>\n"
      ],
      "text/plain": [
       "x is equal to y: \u001b[3;92mTrue\u001b[0m\n"
      ]
     },
     "metadata": {},
     "output_type": "display_data"
    },
    {
     "data": {
      "text/html": [
       "<pre style=\"white-space:pre;overflow-x:auto;line-height:normal;font-family:Menlo,'DejaVu Sans Mono',consolas,'Courier New',monospace\">x: <span style=\"color: #ff0000; text-decoration-color: #ff0000; font-style: italic\">False</span>\n",
       "</pre>\n"
      ],
      "text/plain": [
       "x: \u001b[3;91mFalse\u001b[0m\n"
      ]
     },
     "metadata": {},
     "output_type": "display_data"
    },
    {
     "data": {
      "text/html": [
       "<pre style=\"white-space:pre;overflow-x:auto;line-height:normal;font-family:Menlo,'DejaVu Sans Mono',consolas,'Courier New',monospace\"><span style=\"color: #d75fd7; text-decoration-color: #d75fd7\">─────────────────────────────────────────────────── </span>Characters<span style=\"color: #d75fd7; text-decoration-color: #d75fd7\"> ────────────────────────────────────────────────────</span>\n",
       "</pre>\n"
      ],
      "text/plain": [
       "\u001b[38;5;170m─────────────────────────────────────────────────── \u001b[0mCharacters\u001b[38;5;170m ────────────────────────────────────────────────────\u001b[0m\n"
      ]
     },
     "metadata": {},
     "output_type": "display_data"
    },
    {
     "data": {
      "text/html": [
       "<pre style=\"white-space:pre;overflow-x:auto;line-height:normal;font-family:Menlo,'DejaVu Sans Mono',consolas,'Courier New',monospace\"> - s1 is equal to s2: <span style=\"color: #ff0000; text-decoration-color: #ff0000; font-style: italic\">False</span>\n",
       "</pre>\n"
      ],
      "text/plain": [
       " - s1 is equal to s2: \u001b[3;91mFalse\u001b[0m\n"
      ]
     },
     "metadata": {},
     "output_type": "display_data"
    },
    {
     "data": {
      "text/html": [
       "<pre style=\"white-space:pre;overflow-x:auto;line-height:normal;font-family:Menlo,'DejaVu Sans Mono',consolas,'Courier New',monospace\">s1 &lt; s2: <span style=\"color: #ff0000; text-decoration-color: #ff0000; font-style: italic\">False</span>\n",
       "</pre>\n"
      ],
      "text/plain": [
       "s1 < s2: \u001b[3;91mFalse\u001b[0m\n"
      ]
     },
     "metadata": {},
     "output_type": "display_data"
    },
    {
     "data": {
      "text/html": [
       "<pre style=\"white-space:pre;overflow-x:auto;line-height:normal;font-family:Menlo,'DejaVu Sans Mono',consolas,'Courier New',monospace\">s1 == s4: <span style=\"color: #00ff00; text-decoration-color: #00ff00; font-style: italic\">True</span>\n",
       "</pre>\n"
      ],
      "text/plain": [
       "s1 == s4: \u001b[3;92mTrue\u001b[0m\n"
      ]
     },
     "metadata": {},
     "output_type": "display_data"
    },
    {
     "data": {
      "text/html": [
       "<pre style=\"white-space:pre;overflow-x:auto;line-height:normal;font-family:Menlo,'DejaVu Sans Mono',consolas,'Courier New',monospace\"><span style=\"color: #ff0000; text-decoration-color: #ff0000; font-style: italic\">False</span>\n",
       "</pre>\n"
      ],
      "text/plain": [
       "\u001b[3;91mFalse\u001b[0m\n"
      ]
     },
     "metadata": {},
     "output_type": "display_data"
    }
   ],
   "source": [
    "# Booleans\n",
    "console.rule(\"Booleans\", style=\"orchid\")\n",
    "x = False\n",
    "y = False\n",
    "print(\"x is equal to y:\", x <= y)\n",
    "print(\"x:\", x)\n",
    "\n",
    "# Strings\n",
    "console.rule(\"Characters\", style=\"orchid\")\n",
    "s1 = \"aF\"\n",
    "s2 = \"Bye\"\n",
    "s2 = \"HelloWorld\"\n",
    "s4 = \"aF\"\n",
    "print(\" - s1 is equal to s2:\", s1 == s2)\n",
    "print(\"s1 < s2:\", s1 < s2)\n",
    "print(\"s1 == s4:\", s1 == s4)\n",
    "print(len(\"s1wet\") < len(\"s23\"))\n"
   ]
  },
  {
   "cell_type": "markdown",
   "metadata": {
    "id": "G-7cWzdTUk6x"
   },
   "source": [
    "## Execution Loops\n",
    "### Execution Loops in Python\n",
    "\n",
    "Loops are fundamental tools in programming that allow a block of code to be repeated multiple times. In Python, there are two main types of loops:\n",
    "\n",
    "**1. `for` Loop:**\n",
    "   - The `for` loop is used to iterate over a sequence of elements, such as lists, tuples, dictionaries, or ranges.\n",
    "   - It runs a predefined number of times, once for each element in the sequence.\n",
    "   - The basic syntax of the `for` loop is:\n",
    "     ```python\n",
    "     for element in sequence:\n",
    "         # Indented block of code that executes for each element\n",
    "     ```\n",
    "   - Within the `for` loop, `element` refers to each successive item in the sequence during each iteration.\n",
    "\n",
    "**2. `while` Loop:**\n",
    "   - The `while` loop is used to repeat a block of code as long as a specific condition is true.\n",
    "   - The condition is evaluated before each iteration. If it's true, the block of code executes; if false, the loop stops.\n",
    "   - The basic syntax of the `while` loop is:\n",
    "     ```python\n",
    "     while condition:\n",
    "         # Indented block of code that executes as long as the condition is true\n",
    "     ```\n",
    "   - Care should be taken with `while` loops to avoid infinite loops if the condition never becomes false.\n",
    "\n",
    "These loops provide flexibility to control a program's execution flow, allowing controlled repetition of code based on the specific logic requirements. They are essential for tasks such as data processing, iterating over data structures, and executing repetitive operations.\n"
   ]
  },
  {
   "cell_type": "code",
   "execution_count": 54,
   "metadata": {
    "colab": {
     "base_uri": "https://localhost:8080/",
     "height": 331
    },
    "id": "psi0f9VRU1fp",
    "outputId": "f112b4ff-f56c-45f7-ed5c-f1dfd95581ea"
   },
   "outputs": [
    {
     "data": {
      "text/html": [
       "<pre style=\"white-space:pre;overflow-x:auto;line-height:normal;font-family:Menlo,'DejaVu Sans Mono',consolas,'Courier New',monospace\"><span style=\"color: #d75fd7; text-decoration-color: #d75fd7\">╭─────────────────────────────────────────────────────────────────────────────────────────────────────────────────╮</span>\n",
       "<span style=\"color: #d75fd7; text-decoration-color: #d75fd7\">│ Execution Loops                                                                                                 │</span>\n",
       "<span style=\"color: #d75fd7; text-decoration-color: #d75fd7\">╰─────────────────────────────────────────────────────────────────────────────────────────────────────────────────╯</span>\n",
       "</pre>\n"
      ],
      "text/plain": [
       "\u001b[38;5;170m╭─────────────────────────────────────────────────────────────────────────────────────────────────────────────────╮\u001b[0m\n",
       "\u001b[38;5;170m│\u001b[0m\u001b[38;5;170m \u001b[0m\u001b[38;5;170mExecution Loops\u001b[0m\u001b[38;5;170m                                                                                                \u001b[0m\u001b[38;5;170m \u001b[0m\u001b[38;5;170m│\u001b[0m\n",
       "\u001b[38;5;170m╰─────────────────────────────────────────────────────────────────────────────────────────────────────────────────╯\u001b[0m\n"
      ]
     },
     "metadata": {},
     "output_type": "display_data"
    },
    {
     "data": {
      "text/html": [
       "<pre style=\"white-space:pre;overflow-x:auto;line-height:normal;font-family:Menlo,'DejaVu Sans Mono',consolas,'Courier New',monospace\"><span style=\"color: #d75fd7; text-decoration-color: #d75fd7\">────────────────────────────────────────────────── </span>While Loop<span style=\"color: #808000; text-decoration-color: #808000\">...</span><span style=\"color: #d75fd7; text-decoration-color: #d75fd7\"> ──────────────────────────────────────────────────</span>\n",
       "</pre>\n"
      ],
      "text/plain": [
       "\u001b[38;5;170m────────────────────────────────────────────────── \u001b[0mWhile Loop\u001b[33m...\u001b[0m\u001b[38;5;170m ──────────────────────────────────────────────────\u001b[0m\n"
      ]
     },
     "metadata": {},
     "output_type": "display_data"
    },
    {
     "data": {
      "text/html": [
       "<pre style=\"white-space:pre;overflow-x:auto;line-height:normal;font-family:Menlo,'DejaVu Sans Mono',consolas,'Courier New',monospace\">The value of count is: <span style=\"color: #008080; text-decoration-color: #008080; font-weight: bold\">0</span>\n",
       "</pre>\n"
      ],
      "text/plain": [
       "The value of count is: \u001b[1;36m0\u001b[0m\n"
      ]
     },
     "metadata": {},
     "output_type": "display_data"
    },
    {
     "data": {
      "text/html": [
       "<pre style=\"white-space:pre;overflow-x:auto;line-height:normal;font-family:Menlo,'DejaVu Sans Mono',consolas,'Courier New',monospace\">The value of count is: <span style=\"color: #008080; text-decoration-color: #008080; font-weight: bold\">1</span>\n",
       "</pre>\n"
      ],
      "text/plain": [
       "The value of count is: \u001b[1;36m1\u001b[0m\n"
      ]
     },
     "metadata": {},
     "output_type": "display_data"
    },
    {
     "data": {
      "text/html": [
       "<pre style=\"white-space:pre;overflow-x:auto;line-height:normal;font-family:Menlo,'DejaVu Sans Mono',consolas,'Courier New',monospace\">The value of count is: <span style=\"color: #008080; text-decoration-color: #008080; font-weight: bold\">2</span>\n",
       "</pre>\n"
      ],
      "text/plain": [
       "The value of count is: \u001b[1;36m2\u001b[0m\n"
      ]
     },
     "metadata": {},
     "output_type": "display_data"
    },
    {
     "data": {
      "text/html": [
       "<pre style=\"white-space:pre;overflow-x:auto;line-height:normal;font-family:Menlo,'DejaVu Sans Mono',consolas,'Courier New',monospace\">The value of count is: <span style=\"color: #008080; text-decoration-color: #008080; font-weight: bold\">3</span>\n",
       "</pre>\n"
      ],
      "text/plain": [
       "The value of count is: \u001b[1;36m3\u001b[0m\n"
      ]
     },
     "metadata": {},
     "output_type": "display_data"
    },
    {
     "data": {
      "text/html": [
       "<pre style=\"white-space:pre;overflow-x:auto;line-height:normal;font-family:Menlo,'DejaVu Sans Mono',consolas,'Courier New',monospace\">The value of count is: <span style=\"color: #008080; text-decoration-color: #008080; font-weight: bold\">4</span>\n",
       "</pre>\n"
      ],
      "text/plain": [
       "The value of count is: \u001b[1;36m4\u001b[0m\n"
      ]
     },
     "metadata": {},
     "output_type": "display_data"
    },
    {
     "data": {
      "text/html": [
       "<pre style=\"white-space:pre;overflow-x:auto;line-height:normal;font-family:Menlo,'DejaVu Sans Mono',consolas,'Courier New',monospace\">The value of count is: <span style=\"color: #008080; text-decoration-color: #008080; font-weight: bold\">5</span>\n",
       "</pre>\n"
      ],
      "text/plain": [
       "The value of count is: \u001b[1;36m5\u001b[0m\n"
      ]
     },
     "metadata": {},
     "output_type": "display_data"
    },
    {
     "data": {
      "text/html": [
       "<pre style=\"white-space:pre;overflow-x:auto;line-height:normal;font-family:Menlo,'DejaVu Sans Mono',consolas,'Courier New',monospace\">The value of count is: <span style=\"color: #008080; text-decoration-color: #008080; font-weight: bold\">6</span>\n",
       "</pre>\n"
      ],
      "text/plain": [
       "The value of count is: \u001b[1;36m6\u001b[0m\n"
      ]
     },
     "metadata": {},
     "output_type": "display_data"
    },
    {
     "data": {
      "text/html": [
       "<pre style=\"white-space:pre;overflow-x:auto;line-height:normal;font-family:Menlo,'DejaVu Sans Mono',consolas,'Courier New',monospace\">The value of count is: <span style=\"color: #008080; text-decoration-color: #008080; font-weight: bold\">7</span>\n",
       "</pre>\n"
      ],
      "text/plain": [
       "The value of count is: \u001b[1;36m7\u001b[0m\n"
      ]
     },
     "metadata": {},
     "output_type": "display_data"
    },
    {
     "data": {
      "text/html": [
       "<pre style=\"white-space:pre;overflow-x:auto;line-height:normal;font-family:Menlo,'DejaVu Sans Mono',consolas,'Courier New',monospace\">The value of count is: <span style=\"color: #008080; text-decoration-color: #008080; font-weight: bold\">8</span>\n",
       "</pre>\n"
      ],
      "text/plain": [
       "The value of count is: \u001b[1;36m8\u001b[0m\n"
      ]
     },
     "metadata": {},
     "output_type": "display_data"
    },
    {
     "data": {
      "text/html": [
       "<pre style=\"white-space:pre;overflow-x:auto;line-height:normal;font-family:Menlo,'DejaVu Sans Mono',consolas,'Courier New',monospace\">The value of count is: <span style=\"color: #008080; text-decoration-color: #008080; font-weight: bold\">9</span>\n",
       "</pre>\n"
      ],
      "text/plain": [
       "The value of count is: \u001b[1;36m9\u001b[0m\n"
      ]
     },
     "metadata": {},
     "output_type": "display_data"
    },
    {
     "data": {
      "text/html": [
       "<pre style=\"white-space:pre;overflow-x:auto;line-height:normal;font-family:Menlo,'DejaVu Sans Mono',consolas,'Courier New',monospace\">The value of count is: <span style=\"color: #008080; text-decoration-color: #008080; font-weight: bold\">10</span>\n",
       "</pre>\n"
      ],
      "text/plain": [
       "The value of count is: \u001b[1;36m10\u001b[0m\n"
      ]
     },
     "metadata": {},
     "output_type": "display_data"
    }
   ],
   "source": [
    "console.print(Panel(\"Execution Loops\"), style=\"orchid\")\n",
    "\n",
    "# While loop: executes while a condition is met\n",
    "console.rule(\"While Loop...\", style=\"orchid\")\n",
    "\n",
    "count = 0\n",
    "while count <= 10:\n",
    "    print(\"The value of count is:\", count)\n",
    "    count += 1\n"
   ]
  },
  {
   "cell_type": "code",
   "execution_count": 56,
   "metadata": {
    "colab": {
     "base_uri": "https://localhost:8080/",
     "height": 310
    },
    "id": "3GLR7zfC4SUg",
    "outputId": "56b20cd9-7c0f-45ef-c724-3b6edec9ac7a"
   },
   "outputs": [
    {
     "data": {
      "text/html": [
       "<pre style=\"white-space:pre;overflow-x:auto;line-height:normal;font-family:Menlo,'DejaVu Sans Mono',consolas,'Courier New',monospace\"><span style=\"color: #d75fd7; text-decoration-color: #d75fd7\">─────────────────────────────────────────────────── </span>For Loop<span style=\"color: #808000; text-decoration-color: #808000\">...</span><span style=\"color: #d75fd7; text-decoration-color: #d75fd7\"> ───────────────────────────────────────────────────</span>\n",
       "</pre>\n"
      ],
      "text/plain": [
       "\u001b[38;5;170m─────────────────────────────────────────────────── \u001b[0mFor Loop\u001b[33m...\u001b[0m\u001b[38;5;170m ───────────────────────────────────────────────────\u001b[0m\n"
      ]
     },
     "metadata": {},
     "output_type": "display_data"
    },
    {
     "data": {
      "text/html": [
       "<pre style=\"white-space:pre;overflow-x:auto;line-height:normal;font-family:Menlo,'DejaVu Sans Mono',consolas,'Courier New',monospace\">The fruit is: apple\n",
       "</pre>\n"
      ],
      "text/plain": [
       "The fruit is: apple\n"
      ]
     },
     "metadata": {},
     "output_type": "display_data"
    },
    {
     "data": {
      "text/html": [
       "<pre style=\"white-space:pre;overflow-x:auto;line-height:normal;font-family:Menlo,'DejaVu Sans Mono',consolas,'Courier New',monospace\">The fruit is: banana\n",
       "</pre>\n"
      ],
      "text/plain": [
       "The fruit is: banana\n"
      ]
     },
     "metadata": {},
     "output_type": "display_data"
    },
    {
     "data": {
      "text/html": [
       "<pre style=\"white-space:pre;overflow-x:auto;line-height:normal;font-family:Menlo,'DejaVu Sans Mono',consolas,'Courier New',monospace\">The value of i is: <span style=\"color: #008080; text-decoration-color: #008080; font-weight: bold\">1</span>\n",
       "</pre>\n"
      ],
      "text/plain": [
       "The value of i is: \u001b[1;36m1\u001b[0m\n"
      ]
     },
     "metadata": {},
     "output_type": "display_data"
    },
    {
     "data": {
      "text/html": [
       "<pre style=\"white-space:pre;overflow-x:auto;line-height:normal;font-family:Menlo,'DejaVu Sans Mono',consolas,'Courier New',monospace\">The value of i is: <span style=\"color: #008080; text-decoration-color: #008080; font-weight: bold\">2</span>\n",
       "</pre>\n"
      ],
      "text/plain": [
       "The value of i is: \u001b[1;36m2\u001b[0m\n"
      ]
     },
     "metadata": {},
     "output_type": "display_data"
    },
    {
     "data": {
      "text/html": [
       "<pre style=\"white-space:pre;overflow-x:auto;line-height:normal;font-family:Menlo,'DejaVu Sans Mono',consolas,'Courier New',monospace\">The value of i is: <span style=\"color: #008080; text-decoration-color: #008080; font-weight: bold\">3</span>\n",
       "</pre>\n"
      ],
      "text/plain": [
       "The value of i is: \u001b[1;36m3\u001b[0m\n"
      ]
     },
     "metadata": {},
     "output_type": "display_data"
    },
    {
     "data": {
      "text/html": [
       "<pre style=\"white-space:pre;overflow-x:auto;line-height:normal;font-family:Menlo,'DejaVu Sans Mono',consolas,'Courier New',monospace\">The value of i is: <span style=\"color: #008080; text-decoration-color: #008080; font-weight: bold\">4</span>\n",
       "</pre>\n"
      ],
      "text/plain": [
       "The value of i is: \u001b[1;36m4\u001b[0m\n"
      ]
     },
     "metadata": {},
     "output_type": "display_data"
    },
    {
     "data": {
      "text/html": [
       "<pre style=\"white-space:pre;overflow-x:auto;line-height:normal;font-family:Menlo,'DejaVu Sans Mono',consolas,'Courier New',monospace\">The value of i is: <span style=\"color: #008080; text-decoration-color: #008080; font-weight: bold\">5</span>\n",
       "</pre>\n"
      ],
      "text/plain": [
       "The value of i is: \u001b[1;36m5\u001b[0m\n"
      ]
     },
     "metadata": {},
     "output_type": "display_data"
    },
    {
     "data": {
      "text/html": [
       "<pre style=\"white-space:pre;overflow-x:auto;line-height:normal;font-family:Menlo,'DejaVu Sans Mono',consolas,'Courier New',monospace\">The value of i is: <span style=\"color: #008080; text-decoration-color: #008080; font-weight: bold\">6</span>\n",
       "</pre>\n"
      ],
      "text/plain": [
       "The value of i is: \u001b[1;36m6\u001b[0m\n"
      ]
     },
     "metadata": {},
     "output_type": "display_data"
    },
    {
     "data": {
      "text/html": [
       "<pre style=\"white-space:pre;overflow-x:auto;line-height:normal;font-family:Menlo,'DejaVu Sans Mono',consolas,'Courier New',monospace\">The value of i is: <span style=\"color: #008080; text-decoration-color: #008080; font-weight: bold\">7</span>\n",
       "</pre>\n"
      ],
      "text/plain": [
       "The value of i is: \u001b[1;36m7\u001b[0m\n"
      ]
     },
     "metadata": {},
     "output_type": "display_data"
    },
    {
     "data": {
      "text/html": [
       "<pre style=\"white-space:pre;overflow-x:auto;line-height:normal;font-family:Menlo,'DejaVu Sans Mono',consolas,'Courier New',monospace\">The value of i is: <span style=\"color: #008080; text-decoration-color: #008080; font-weight: bold\">8</span>\n",
       "</pre>\n"
      ],
      "text/plain": [
       "The value of i is: \u001b[1;36m8\u001b[0m\n"
      ]
     },
     "metadata": {},
     "output_type": "display_data"
    },
    {
     "data": {
      "text/html": [
       "<pre style=\"white-space:pre;overflow-x:auto;line-height:normal;font-family:Menlo,'DejaVu Sans Mono',consolas,'Courier New',monospace\">The value of i is: <span style=\"color: #008080; text-decoration-color: #008080; font-weight: bold\">9</span>\n",
       "</pre>\n"
      ],
      "text/plain": [
       "The value of i is: \u001b[1;36m9\u001b[0m\n"
      ]
     },
     "metadata": {},
     "output_type": "display_data"
    },
    {
     "data": {
      "text/html": [
       "<pre style=\"white-space:pre;overflow-x:auto;line-height:normal;font-family:Menlo,'DejaVu Sans Mono',consolas,'Courier New',monospace\">The value of i is: <span style=\"color: #008080; text-decoration-color: #008080; font-weight: bold\">10</span>\n",
       "</pre>\n"
      ],
      "text/plain": [
       "The value of i is: \u001b[1;36m10\u001b[0m\n"
      ]
     },
     "metadata": {},
     "output_type": "display_data"
    },
    {
     "data": {
      "text/html": [
       "<pre style=\"white-space:pre;overflow-x:auto;line-height:normal;font-family:Menlo,'DejaVu Sans Mono',consolas,'Courier New',monospace\">\n",
       "\n",
       "</pre>\n"
      ],
      "text/plain": [
       "\n",
       "\n"
      ]
     },
     "metadata": {},
     "output_type": "display_data"
    }
   ],
   "source": [
    "# For loop: used to iterate over a sequence or collection\n",
    "console.rule(\"For Loop...\", style=\"orchid\")\n",
    "\n",
    "fruits = [\"apple\", \"banana\", \"cherry\"]\n",
    "for fruit in fruits[:2]:\n",
    "    print(\"The fruit is:\", fruit)\n",
    "\n",
    "# Using the range function in a for loop\n",
    "for i in range(1, 11, 1):  # Iterates from 1 to 10 (does not include 11)\n",
    "    print(\"The value of i is:\", i)\n",
    "\n",
    "print(\"\\n\")\n"
   ]
  },
  {
   "cell_type": "code",
   "execution_count": 58,
   "metadata": {
    "colab": {
     "base_uri": "https://localhost:8080/",
     "height": 310
    },
    "id": "9HhMHRAZZ-bc",
    "outputId": "29b6193c-9f1d-4d06-b239-78b72b2d9aba"
   },
   "outputs": [
    {
     "data": {
      "text/html": [
       "<pre style=\"white-space:pre;overflow-x:auto;line-height:normal;font-family:Menlo,'DejaVu Sans Mono',consolas,'Courier New',monospace\"><span style=\"color: #d75fd7; text-decoration-color: #d75fd7\">────────────────────────────────────────── </span>For Loop with Break Statement<span style=\"color: #d75fd7; text-decoration-color: #d75fd7\"> ──────────────────────────────────────────</span>\n",
       "</pre>\n"
      ],
      "text/plain": [
       "\u001b[38;5;170m────────────────────────────────────────── \u001b[0mFor Loop with Break Statement\u001b[38;5;170m ──────────────────────────────────────────\u001b[0m\n"
      ]
     },
     "metadata": {},
     "output_type": "display_data"
    },
    {
     "data": {
      "text/html": [
       "<pre style=\"white-space:pre;overflow-x:auto;line-height:normal;font-family:Menlo,'DejaVu Sans Mono',consolas,'Courier New',monospace\"> =&gt; The value of i is: <span style=\"color: #008080; text-decoration-color: #008080; font-weight: bold\">73</span>\n",
       "</pre>\n"
      ],
      "text/plain": [
       " => The value of i is: \u001b[1;36m73\u001b[0m\n"
      ]
     },
     "metadata": {},
     "output_type": "display_data"
    },
    {
     "data": {
      "text/html": [
       "<pre style=\"white-space:pre;overflow-x:auto;line-height:normal;font-family:Menlo,'DejaVu Sans Mono',consolas,'Courier New',monospace\"> - The value of i is: <span style=\"color: #008080; text-decoration-color: #008080; font-weight: bold\">1</span>\n",
       "</pre>\n"
      ],
      "text/plain": [
       " - The value of i is: \u001b[1;36m1\u001b[0m\n"
      ]
     },
     "metadata": {},
     "output_type": "display_data"
    },
    {
     "data": {
      "text/html": [
       "<pre style=\"white-space:pre;overflow-x:auto;line-height:normal;font-family:Menlo,'DejaVu Sans Mono',consolas,'Courier New',monospace\"> - The value of i is: <span style=\"color: #008080; text-decoration-color: #008080; font-weight: bold\">2</span>\n",
       "</pre>\n"
      ],
      "text/plain": [
       " - The value of i is: \u001b[1;36m2\u001b[0m\n"
      ]
     },
     "metadata": {},
     "output_type": "display_data"
    },
    {
     "data": {
      "text/html": [
       "<pre style=\"white-space:pre;overflow-x:auto;line-height:normal;font-family:Menlo,'DejaVu Sans Mono',consolas,'Courier New',monospace\"> - The value of i is: <span style=\"color: #008080; text-decoration-color: #008080; font-weight: bold\">4</span>\n",
       "</pre>\n"
      ],
      "text/plain": [
       " - The value of i is: \u001b[1;36m4\u001b[0m\n"
      ]
     },
     "metadata": {},
     "output_type": "display_data"
    },
    {
     "data": {
      "text/html": [
       "<pre style=\"white-space:pre;overflow-x:auto;line-height:normal;font-family:Menlo,'DejaVu Sans Mono',consolas,'Courier New',monospace\"> - The value of i is: <span style=\"color: #008080; text-decoration-color: #008080; font-weight: bold\">5</span>\n",
       "</pre>\n"
      ],
      "text/plain": [
       " - The value of i is: \u001b[1;36m5\u001b[0m\n"
      ]
     },
     "metadata": {},
     "output_type": "display_data"
    },
    {
     "data": {
      "text/html": [
       "<pre style=\"white-space:pre;overflow-x:auto;line-height:normal;font-family:Menlo,'DejaVu Sans Mono',consolas,'Courier New',monospace\">\n",
       "-------------------\n",
       "\n",
       "</pre>\n"
      ],
      "text/plain": [
       "\n",
       "-------------------\n",
       "\n"
      ]
     },
     "metadata": {},
     "output_type": "display_data"
    },
    {
     "data": {
      "text/html": [
       "<pre style=\"white-space:pre;overflow-x:auto;line-height:normal;font-family:Menlo,'DejaVu Sans Mono',consolas,'Courier New',monospace\"> - The value of i is: <span style=\"color: #008080; text-decoration-color: #008080; font-weight: bold\">1</span>\n",
       "</pre>\n"
      ],
      "text/plain": [
       " - The value of i is: \u001b[1;36m1\u001b[0m\n"
      ]
     },
     "metadata": {},
     "output_type": "display_data"
    },
    {
     "data": {
      "text/html": [
       "<pre style=\"white-space:pre;overflow-x:auto;line-height:normal;font-family:Menlo,'DejaVu Sans Mono',consolas,'Courier New',monospace\"> - The value of i is: <span style=\"color: #008080; text-decoration-color: #008080; font-weight: bold\">2</span>\n",
       "</pre>\n"
      ],
      "text/plain": [
       " - The value of i is: \u001b[1;36m2\u001b[0m\n"
      ]
     },
     "metadata": {},
     "output_type": "display_data"
    },
    {
     "data": {
      "text/html": [
       "<pre style=\"white-space:pre;overflow-x:auto;line-height:normal;font-family:Menlo,'DejaVu Sans Mono',consolas,'Courier New',monospace\"> - The value of i is: <span style=\"color: #008080; text-decoration-color: #008080; font-weight: bold\">3</span>\n",
       "</pre>\n"
      ],
      "text/plain": [
       " - The value of i is: \u001b[1;36m3\u001b[0m\n"
      ]
     },
     "metadata": {},
     "output_type": "display_data"
    },
    {
     "data": {
      "text/html": [
       "<pre style=\"white-space:pre;overflow-x:auto;line-height:normal;font-family:Menlo,'DejaVu Sans Mono',consolas,'Courier New',monospace\"> - The value of i is: <span style=\"color: #008080; text-decoration-color: #008080; font-weight: bold\">4</span>\n",
       "</pre>\n"
      ],
      "text/plain": [
       " - The value of i is: \u001b[1;36m4\u001b[0m\n"
      ]
     },
     "metadata": {},
     "output_type": "display_data"
    },
    {
     "data": {
      "text/html": [
       "<pre style=\"white-space:pre;overflow-x:auto;line-height:normal;font-family:Menlo,'DejaVu Sans Mono',consolas,'Courier New',monospace\"> - The value of i is: <span style=\"color: #008080; text-decoration-color: #008080; font-weight: bold\">5</span>\n",
       "</pre>\n"
      ],
      "text/plain": [
       " - The value of i is: \u001b[1;36m5\u001b[0m\n"
      ]
     },
     "metadata": {},
     "output_type": "display_data"
    },
    {
     "data": {
      "text/html": [
       "<pre style=\"white-space:pre;overflow-x:auto;line-height:normal;font-family:Menlo,'DejaVu Sans Mono',consolas,'Courier New',monospace\"> =&gt; The value of i is: <span style=\"color: #008080; text-decoration-color: #008080; font-weight: bold\">5</span>\n",
       "</pre>\n"
      ],
      "text/plain": [
       " => The value of i is: \u001b[1;36m5\u001b[0m\n"
      ]
     },
     "metadata": {},
     "output_type": "display_data"
    }
   ],
   "source": [
    "# For loop with break statement\n",
    "console.rule(\"For Loop with Break Statement\", style=\"orchid\")\n",
    "\n",
    "for i in range(1, 100):\n",
    "    if i == 73:\n",
    "        break  # Exits the loop when i equals 73\n",
    "print(\" => The value of i is:\", i)\n",
    "\n",
    "# For loop with continue statement\n",
    "for i in range(1, 6):\n",
    "    if i == 3:\n",
    "        continue  # Skips to the next iteration when i equals 3\n",
    "    print(\" - The value of i is:\", i)\n",
    "\n",
    "print(\"\\n-------------------\\n\")\n",
    "\n",
    "# For loop with pass statement\n",
    "for i in range(1, 6):\n",
    "    print(\" - The value of i is:\", i)\n",
    "\n",
    "    if i == 3:\n",
    "        pass  # Does nothing for this condition\n",
    "\n",
    "print(\" => The value of i is:\", i)\n"
   ]
  },
  {
   "cell_type": "markdown",
   "metadata": {
    "id": "iNRkBKgMhr86"
   },
   "source": [
    "### Using Enums and Switchers\n",
    "\n",
    "An enum (enumeration) is a collection of named constant values. It allows you to define a specific set of options or categories that can be used in a program. Enums are useful when you want to represent a fixed and limited set of possible values.\n"
   ]
  },
  {
   "cell_type": "code",
   "execution_count": 61,
   "metadata": {
    "colab": {
     "base_uri": "https://localhost:8080/",
     "height": 80
    },
    "id": "FxBQIzeB5iCN",
    "outputId": "75080093-83fd-43c7-a709-af23f989a5db"
   },
   "outputs": [
    {
     "data": {
      "text/html": [
       "<pre style=\"white-space:pre;overflow-x:auto;line-height:normal;font-family:Menlo,'DejaVu Sans Mono',consolas,'Courier New',monospace\"><span style=\"color: #00ff00; text-decoration-color: #00ff00\">────────────────────────────────────────────────── </span><span style=\"font-weight: bold\"> Enumerators </span><span style=\"color: #00ff00; text-decoration-color: #00ff00\"> ──────────────────────────────────────────────────</span>\n",
       "</pre>\n"
      ],
      "text/plain": [
       "\u001b[92m────────────────────────────────────────────────── \u001b[0m\u001b[1m Enumerators \u001b[0m\u001b[92m ──────────────────────────────────────────────────\u001b[0m\n"
      ]
     },
     "metadata": {},
     "output_type": "display_data"
    },
    {
     "data": {
      "text/html": [
       "<pre style=\"white-space:pre;overflow-x:auto;line-height:normal;font-family:Menlo,'DejaVu Sans Mono',consolas,'Courier New',monospace\">Element: Colors.RED\n",
       "</pre>\n"
      ],
      "text/plain": [
       "Element: Colors.RED\n"
      ]
     },
     "metadata": {},
     "output_type": "display_data"
    },
    {
     "data": {
      "text/html": [
       "<pre style=\"white-space:pre;overflow-x:auto;line-height:normal;font-family:Menlo,'DejaVu Sans Mono',consolas,'Courier New',monospace\">Value: <span style=\"color: #008080; text-decoration-color: #008080; font-weight: bold\">4</span>\n",
       "</pre>\n"
      ],
      "text/plain": [
       "Value: \u001b[1;36m4\u001b[0m\n"
      ]
     },
     "metadata": {},
     "output_type": "display_data"
    }
   ],
   "source": [
    "console.rule(\"[bold] Enumerators [/bold]\")\n",
    "\n",
    "from enum import Enum\n",
    "\n",
    "class Colors(Enum):\n",
    "    RED = 4\n",
    "    GREEN = 2\n",
    "    BLUE = 1\n",
    "\n",
    "color = Colors.RED\n",
    "print(\"Element:\", color)  # Prints: Colors.RED\n",
    "print(\"Value:\", color.value)  # Prints: 4\n"
   ]
  },
  {
   "cell_type": "code",
   "execution_count": null,
   "metadata": {
    "colab": {
     "base_uri": "https://localhost:8080/"
    },
    "id": "9R4y_sr16C4M",
    "outputId": "cc66b9a2-0746-4111-f75b-b39d259d7873"
   },
   "outputs": [
    {
     "name": "stdout",
     "output_type": "stream",
     "text": [
      "Python 3.10.12\n"
     ]
    },
    {
     "data": {
      "text/plain": [
       "['',\n",
       " 'Reading package lists... 0%',\n",
       " '',\n",
       " 'Reading package lists... 0%',\n",
       " '',\n",
       " 'Reading package lists... 0%',\n",
       " '',\n",
       " 'Reading package lists... 3%',\n",
       " '',\n",
       " 'Reading package lists... 3%',\n",
       " '',\n",
       " 'Reading package lists... 4%',\n",
       " '',\n",
       " 'Reading package lists... 4%',\n",
       " '',\n",
       " 'Reading package lists... 34%',\n",
       " '',\n",
       " 'Reading package lists... 40%',\n",
       " '',\n",
       " 'Reading package lists... 40%',\n",
       " '',\n",
       " 'Reading package lists... 41%',\n",
       " '',\n",
       " 'Reading package lists... 41%',\n",
       " '',\n",
       " 'Reading package lists... 47%',\n",
       " '',\n",
       " 'Reading package lists... 47%',\n",
       " '',\n",
       " 'Reading package lists... 56%',\n",
       " '',\n",
       " 'Reading package lists... 56%',\n",
       " '',\n",
       " 'Reading package lists... 59%',\n",
       " '',\n",
       " 'Reading package lists... 59%',\n",
       " '',\n",
       " 'Reading package lists... 60%',\n",
       " '',\n",
       " 'Reading package lists... 60%',\n",
       " '',\n",
       " 'Reading package lists... 60%',\n",
       " '',\n",
       " 'Reading package lists... 60%',\n",
       " '',\n",
       " 'Reading package lists... 60%',\n",
       " '',\n",
       " 'Reading package lists... 60%',\n",
       " '',\n",
       " 'Reading package lists... 66%',\n",
       " '',\n",
       " 'Reading package lists... 66%',\n",
       " '',\n",
       " 'Reading package lists... 74%',\n",
       " '',\n",
       " 'Reading package lists... 74%',\n",
       " '',\n",
       " 'Reading package lists... 77%',\n",
       " '',\n",
       " 'Reading package lists... 77%',\n",
       " '',\n",
       " 'Reading package lists... 77%',\n",
       " '',\n",
       " 'Reading package lists... 77%',\n",
       " '',\n",
       " 'Reading package lists... 77%',\n",
       " '',\n",
       " 'Reading package lists... 77%',\n",
       " '',\n",
       " 'Reading package lists... 82%',\n",
       " '',\n",
       " 'Reading package lists... 82%',\n",
       " '',\n",
       " 'Reading package lists... 82%',\n",
       " '',\n",
       " 'Reading package lists... 95%',\n",
       " '',\n",
       " 'Reading package lists... 95%',\n",
       " '',\n",
       " 'Reading package lists... 98%',\n",
       " '',\n",
       " 'Reading package lists... 98%',\n",
       " '',\n",
       " 'Reading package lists... 98%',\n",
       " '',\n",
       " 'Reading package lists... 98%',\n",
       " '',\n",
       " 'Reading package lists... 99%',\n",
       " '',\n",
       " 'Reading package lists... 99%',\n",
       " '',\n",
       " 'Reading package lists... 99%',\n",
       " '',\n",
       " 'Reading package lists... 99%',\n",
       " '',\n",
       " 'Reading package lists... Done',\n",
       " '',\n",
       " 'Building dependency tree... 0%',\n",
       " '',\n",
       " 'Building dependency tree... 0%',\n",
       " '',\n",
       " 'Building dependency tree... 50%',\n",
       " '',\n",
       " 'Building dependency tree... 50%',\n",
       " '',\n",
       " 'Building dependency tree... 85%',\n",
       " '',\n",
       " 'Building dependency tree... Done',\n",
       " '',\n",
       " 'Reading state information... 0% ',\n",
       " '',\n",
       " 'Reading state information... 0%',\n",
       " '',\n",
       " 'Reading state information... Done',\n",
       " 'The following additional packages will be installed:',\n",
       " '  libpython3.9-minimal libpython3.9-stdlib mailcap mime-support',\n",
       " '  python3.9-minimal',\n",
       " 'Suggested packages:',\n",
       " '  python3.9-venv binfmt-support',\n",
       " 'The following NEW packages will be installed:',\n",
       " '  libpython3.9-minimal libpython3.9-stdlib mailcap mime-support python3.9',\n",
       " '  python3.9-minimal',\n",
       " '0 upgraded, 6 newly installed, 0 to remove and 49 not upgraded.',\n",
       " 'Need to get 5,284 kB of archives.',\n",
       " 'After this operation, 19.4 MB of additional disk space will be used.',\n",
       " '',\n",
       " '0% [Working]',\n",
       " '            ',\n",
       " 'Get:1 http://archive.ubuntu.com/ubuntu jammy/main amd64 mailcap all 3.70+nmu1ubuntu1 [23.8 kB]',\n",
       " '',\n",
       " '0% [Connecting to ppa.launchpadcontent.net (185.125.190.80)] [1 mailcap 12.3 kB',\n",
       " '                                                                               ',\n",
       " '4% [Connecting to ppa.launchpadcontent.net (185.125.190.80)]',\n",
       " '                                                            ',\n",
       " 'Get:2 http://archive.ubuntu.com/ubuntu jammy/main amd64 mime-support all 3.66 [3,696 B]',\n",
       " '',\n",
       " '4% [Connected to ppa.launchpadcontent.net (185.125.190.80)] [2 mime-support 2,6',\n",
       " '                                                                               ',\n",
       " '7% [Connected to ppa.launchpadcontent.net (185.125.190.80)]',\n",
       " '7% [Connected to ppa.launchpadcontent.net (185.125.190.80)]',\n",
       " '7% [Connected to ppa.launchpadcontent.net (185.125.190.80)]',\n",
       " '7% [Connected to ppa.launchpadcontent.net (185.125.190.80)]',\n",
       " '                                                           ',\n",
       " 'Get:3 https://ppa.launchpadcontent.net/deadsnakes/ppa/ubuntu jammy/main amd64 libpython3.9-minimal amd64 3.9.20-1+jammy1 [837 kB]',\n",
       " '',\n",
       " '                                                           ',\n",
       " '7% [3 libpython3.9-minimal 0 B/837 kB 0%]',\n",
       " '10% [3 libpython3.9-minimal 169 kB/837 kB 20%]',\n",
       " '15% [3 libpython3.9-minimal 496 kB/837 kB 59%]',\n",
       " '18% [3 libpython3.9-minimal 720 kB/837 kB 86%]',\n",
       " '                                              ',\n",
       " '23% [Waiting for headers]',\n",
       " '                         ',\n",
       " 'Get:4 https://ppa.launchpadcontent.net/deadsnakes/ppa/ubuntu jammy/main amd64 python3.9-minimal amd64 3.9.20-1+jammy1 [2,080 kB]',\n",
       " '',\n",
       " '23% [4 python3.9-minimal 14.6 kB/2,080 kB 1%]',\n",
       " '28% [4 python3.9-minimal 320 kB/2,080 kB 15%]',\n",
       " '32% [4 python3.9-minimal 582 kB/2,080 kB 28%]',\n",
       " '37% [4 python3.9-minimal 892 kB/2,080 kB 43%]',\n",
       " '41% [4 python3.9-minimal 1,202 kB/2,080 kB 58%]                     342 kB/s 9s',\n",
       " '46% [4 python3.9-minimal 1,512 kB/2,080 kB 73%]                     342 kB/s 8s',\n",
       " '51% [4 python3.9-minimal 1,822 kB/2,080 kB 88%]                     342 kB/s 7s',\n",
       " '58% [Waiting for headers]                                           342 kB/s 6s',\n",
       " '                                                                               ',\n",
       " 'Get:5 https://ppa.launchpadcontent.net/deadsnakes/ppa/ubuntu jammy/main amd64 libpython3.9-stdlib amd64 3.9.20-1+jammy1 [1,841 kB]',\n",
       " '',\n",
       " '58% [5 libpython3.9-stdlib 15.0 kB/1,841 kB 1%]                     342 kB/s 6s',\n",
       " '63% [5 libpython3.9-stdlib 308 kB/1,841 kB 17%]                     342 kB/s 5s',\n",
       " '68% [5 libpython3.9-stdlib 634 kB/1,841 kB 34%]                     342 kB/s 4s',\n",
       " '72% [5 libpython3.9-stdlib 928 kB/1,841 kB 50%]                     342 kB/s 4s',\n",
       " '77% [5 libpython3.9-stdlib 1,268 kB/1,841 kB 69%]                   342 kB/s 3s',\n",
       " '80% [5 libpython3.9-stdlib 1,474 kB/1,841 kB 80%]                   342 kB/s 2s',\n",
       " '85% [5 libpython3.9-stdlib 1,771 kB/1,841 kB 96%]                   342 kB/s 1s',\n",
       " '89% [Working]                                                       342 kB/s 1s',\n",
       " '                                                                               ',\n",
       " 'Get:6 https://ppa.launchpadcontent.net/deadsnakes/ppa/ubuntu jammy/main amd64 python3.9 amd64 3.9.20-1+jammy1 [499 kB]',\n",
       " '',\n",
       " '89% [6 python3.9 16.1 kB/499 kB 3%]                                 342 kB/s 1s',\n",
       " '94% [6 python3.9 326 kB/499 kB 65%]                                 342 kB/s 0s',\n",
       " '100% [Working]                                                      342 kB/s 0s',\n",
       " '                                                                               ',\n",
       " 'Fetched 5,284 kB in 11s (463 kB/s)',\n",
       " 'debconf: unable to initialize frontend: Dialog',\n",
       " 'debconf: (No usable dialog-like program is installed, so the dialog based frontend cannot be used. at /usr/share/perl5/Debconf/FrontEnd/Dialog.pm line 78, <> line 6.)',\n",
       " 'debconf: falling back to frontend: Readline',\n",
       " 'debconf: unable to initialize frontend: Readline',\n",
       " 'debconf: (This frontend requires a controlling tty.)',\n",
       " 'debconf: falling back to frontend: Teletype',\n",
       " 'dpkg-preconfigure: unable to re-open stdin: ',\n",
       " 'Selecting previously unselected package libpython3.9-minimal:amd64.',\n",
       " '(Reading database ... ',\n",
       " '(Reading database ... 5%',\n",
       " '(Reading database ... 10%',\n",
       " '(Reading database ... 15%',\n",
       " '(Reading database ... 20%',\n",
       " '(Reading database ... 25%',\n",
       " '(Reading database ... 30%',\n",
       " '(Reading database ... 35%',\n",
       " '(Reading database ... 40%',\n",
       " '(Reading database ... 45%',\n",
       " '(Reading database ... 50%',\n",
       " '(Reading database ... 55%',\n",
       " '(Reading database ... 60%',\n",
       " '(Reading database ... 65%',\n",
       " '(Reading database ... 70%',\n",
       " '(Reading database ... 75%',\n",
       " '(Reading database ... 80%',\n",
       " '(Reading database ... 85%',\n",
       " '(Reading database ... 90%',\n",
       " '(Reading database ... 95%',\n",
       " '(Reading database ... 100%',\n",
       " '(Reading database ... 123605 files and directories currently installed.)',\n",
       " 'Preparing to unpack .../0-libpython3.9-minimal_3.9.20-1+jammy1_amd64.deb ...',\n",
       " 'Unpacking libpython3.9-minimal:amd64 (3.9.20-1+jammy1) ...',\n",
       " 'Selecting previously unselected package python3.9-minimal.',\n",
       " 'Preparing to unpack .../1-python3.9-minimal_3.9.20-1+jammy1_amd64.deb ...',\n",
       " 'Unpacking python3.9-minimal (3.9.20-1+jammy1) ...',\n",
       " 'Selecting previously unselected package mailcap.',\n",
       " 'Preparing to unpack .../2-mailcap_3.70+nmu1ubuntu1_all.deb ...',\n",
       " 'Unpacking mailcap (3.70+nmu1ubuntu1) ...',\n",
       " 'Selecting previously unselected package mime-support.',\n",
       " 'Preparing to unpack .../3-mime-support_3.66_all.deb ...',\n",
       " 'Unpacking mime-support (3.66) ...',\n",
       " 'Selecting previously unselected package libpython3.9-stdlib:amd64.',\n",
       " 'Preparing to unpack .../4-libpython3.9-stdlib_3.9.20-1+jammy1_amd64.deb ...',\n",
       " 'Unpacking libpython3.9-stdlib:amd64 (3.9.20-1+jammy1) ...',\n",
       " 'Selecting previously unselected package python3.9.',\n",
       " 'Preparing to unpack .../5-python3.9_3.9.20-1+jammy1_amd64.deb ...',\n",
       " 'Unpacking python3.9 (3.9.20-1+jammy1) ...',\n",
       " 'Setting up libpython3.9-minimal:amd64 (3.9.20-1+jammy1) ...',\n",
       " 'Setting up python3.9-minimal (3.9.20-1+jammy1) ...',\n",
       " 'Setting up mailcap (3.70+nmu1ubuntu1) ...',\n",
       " 'Setting up mime-support (3.66) ...',\n",
       " 'Setting up libpython3.9-stdlib:amd64 (3.9.20-1+jammy1) ...',\n",
       " 'Setting up python3.9 (3.9.20-1+jammy1) ...',\n",
       " 'Processing triggers for man-db (2.10.2-1) ...']"
      ]
     },
     "execution_count": 26,
     "metadata": {},
     "output_type": "execute_result"
    }
   ],
   "source": [
    "# Check Python version\n",
    "!python --version\n",
    "\n",
    "# Install another Python version\n",
    "!sudo apt-get install python3.9\n"
   ]
  },
  {
   "cell_type": "code",
   "execution_count": 63,
   "metadata": {
    "colab": {
     "base_uri": "https://localhost:8080/",
     "height": 80
    },
    "id": "V-1QQ0H5hwA0",
    "outputId": "6ce49aaa-be6f-4467-d3bb-281ed0060cff"
   },
   "outputs": [
    {
     "data": {
      "text/html": [
       "<pre style=\"white-space:pre;overflow-x:auto;line-height:normal;font-family:Menlo,'DejaVu Sans Mono',consolas,'Courier New',monospace\"><span style=\"color: #00ff00; text-decoration-color: #00ff00\">────────────────────────────────────────────────── </span><span style=\"font-weight: bold\"> Switch-case </span><span style=\"color: #00ff00; text-decoration-color: #00ff00\"> ──────────────────────────────────────────────────</span>\n",
       "</pre>\n"
      ],
      "text/plain": [
       "\u001b[92m────────────────────────────────────────────────── \u001b[0m\u001b[1m Switch-case \u001b[0m\u001b[92m ──────────────────────────────────────────────────\u001b[0m\n"
      ]
     },
     "metadata": {},
     "output_type": "display_data"
    },
    {
     "data": {
      "text/html": [
       "<pre style=\"white-space:pre;overflow-x:auto;line-height:normal;font-family:Menlo,'DejaVu Sans Mono',consolas,'Courier New',monospace\">Option <span style=\"color: #008080; text-decoration-color: #008080; font-weight: bold\">2</span> selected\n",
       "</pre>\n"
      ],
      "text/plain": [
       "Option \u001b[1;36m2\u001b[0m selected\n"
      ]
     },
     "metadata": {},
     "output_type": "display_data"
    },
    {
     "data": {
      "text/html": [
       "<pre style=\"white-space:pre;overflow-x:auto;line-height:normal;font-family:Menlo,'DejaVu Sans Mono',consolas,'Courier New',monospace\">EQUAL!\n",
       "</pre>\n"
      ],
      "text/plain": [
       "EQUAL!\n"
      ]
     },
     "metadata": {},
     "output_type": "display_data"
    }
   ],
   "source": [
    "console.rule(\"[bold] Switch-case [/bold]\")\n",
    "\n",
    "# Example of switch-case usage in Python using dictionaries\n",
    "\n",
    "def process_case_1():\n",
    "    print(\"Option 1 selected\")\n",
    "\n",
    "def process_case_2():\n",
    "    print(\"Option 2 selected\")\n",
    "\n",
    "def process_case_3():\n",
    "    print(\"Option 3 selected\")\n",
    "\n",
    "def process_default():\n",
    "    print(\"Invalid option\")\n",
    "\n",
    "def selector(case):\n",
    "    switcher = {\n",
    "        1: process_case_1,\n",
    "        2: process_case_2,\n",
    "        3: process_case_3\n",
    "    }\n",
    "    # Execute the corresponding function for the case or the default case\n",
    "    switcher.get(case, process_default)()\n",
    "\n",
    "# Example usage of the switch-case\n",
    "selector(2)\n",
    "\n",
    "value = 5\n",
    "match value:\n",
    "    case 3:\n",
    "        print(\"It's three\")\n",
    "    case 5:\n",
    "        print(\"EQUAL!\")\n",
    "    case _:\n",
    "        print(\"Other\")\n"
   ]
  }
 ],
 "metadata": {
  "colab": {
   "include_colab_link": true,
   "provenance": []
  },
  "kernelspec": {
   "display_name": "Python 3 (ipykernel)",
   "language": "python",
   "name": "python3"
  },
  "language_info": {
   "codemirror_mode": {
    "name": "ipython",
    "version": 3
   },
   "file_extension": ".py",
   "mimetype": "text/x-python",
   "name": "python",
   "nbconvert_exporter": "python",
   "pygments_lexer": "ipython3",
   "version": "3.12.4"
  }
 },
 "nbformat": 4,
 "nbformat_minor": 4
}
