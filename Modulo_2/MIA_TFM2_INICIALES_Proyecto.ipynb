{
  "nbformat": 4,
  "nbformat_minor": 0,
  "metadata": {
    "colab": {
      "provenance": [],
      "authorship_tag": "ABX9TyNacujMCtpWXxfgGU7+UvCW",
      "include_colab_link": true
    },
    "kernelspec": {
      "name": "python3",
      "display_name": "Python 3"
    },
    "language_info": {
      "name": "python"
    }
  },
  "cells": [
    {
      "cell_type": "markdown",
      "metadata": {
        "id": "view-in-github",
        "colab_type": "text"
      },
      "source": [
        "<a href=\"https://colab.research.google.com/github/CEMPAplicaciones/MIA/blob/main/Modulo_2/MIA_TFM2_INICIALES_Proyecto.ipynb\" target=\"_parent\"><img src=\"https://colab.research.google.com/assets/colab-badge.svg\" alt=\"Open In Colab\"/></a>"
      ]
    },
    {
      "cell_type": "markdown",
      "source": [
        "# Trabajo de fin de Módulo 2 MIA\n",
        "\n",
        "* Trabajo realizado por: Iniciales/Nombre\n",
        "\n",
        "\n",
        "\n"
      ],
      "metadata": {
        "id": "TgkJ_oATTRav"
      }
    },
    {
      "cell_type": "markdown",
      "source": [
        "# **Bloque 1**"
      ],
      "metadata": {
        "id": "hO0ykM7dJr9c"
      }
    },
    {
      "cell_type": "markdown",
      "source": [
        "## 1. Realiza una exploración del conjunto de datos utilizando métodos de la librería Pandas para cargar, filtrar y listar tablas de datos."
      ],
      "metadata": {
        "id": "qnLG3hb2Tit-"
      }
    },
    {
      "cell_type": "code",
      "execution_count": null,
      "metadata": {
        "id": "0q-_L5qtMkPH"
      },
      "outputs": [],
      "source": [
        "# Importamos las librerías para exploración de datos\n",
        "import pandas as pd\n",
        "#... código"
      ]
    },
    {
      "cell_type": "code",
      "source": [
        "# Resolvemos o ejecutamos otra rutina\n",
        "data_file = \"heart_disease.csv\"\n",
        "df = pd.read(data_file)"
      ],
      "metadata": {
        "id": "3pSJIeCdTzRh"
      },
      "execution_count": null,
      "outputs": []
    },
    {
      "cell_type": "code",
      "source": [
        "# Métodos de estadística descriptiva\n",
        "print(df.describe())"
      ],
      "metadata": {
        "id": "DyGkWHsJ3Y0G"
      },
      "execution_count": null,
      "outputs": []
    },
    {
      "cell_type": "markdown",
      "source": [
        "## 2.Prepara una o más funciones que permitan realizar una exploración visual de los datos más relevantes utilizando las librerías python de tu elección."
      ],
      "metadata": {
        "id": "kKi4Rsy1UAre"
      }
    },
    {
      "cell_type": "code",
      "source": [
        "# Código para la tarea"
      ],
      "metadata": {
        "id": "3jv9V5iqUDzs"
      },
      "execution_count": null,
      "outputs": []
    },
    {
      "cell_type": "code",
      "source": [
        "# Resolvemos otra tarea con un gráfico"
      ],
      "metadata": {
        "id": "37MiCj1HRYe-"
      },
      "execution_count": null,
      "outputs": []
    },
    {
      "cell_type": "markdown",
      "source": [
        "## Conclusiones - Bloque 1\n",
        "\n",
        "Hemos visto que..."
      ],
      "metadata": {
        "id": "ijO5-D3A3sx7"
      }
    },
    {
      "cell_type": "markdown",
      "source": [
        "# **Bloque 2**"
      ],
      "metadata": {
        "id": "nu3k0Vs6J4NG"
      }
    },
    {
      "cell_type": "markdown",
      "source": [
        "## 3. Si lo estimas necesario, ejecuta métodos de imputación y normalización de datos explicando explicando brevemente tus decisiones."
      ],
      "metadata": {
        "id": "I1RHL0uoRed1"
      }
    },
    {
      "cell_type": "code",
      "source": [
        "# Código de trabajo"
      ],
      "metadata": {
        "id": "pIcbxzKXRpXy"
      },
      "execution_count": null,
      "outputs": []
    },
    {
      "cell_type": "markdown",
      "source": [
        "## 4. Realiza un análisis básico de selección de características siguiendo alguna de las técnicas vistas a lo largo del módulo que te permita obtener una submuestra depurada del dataset original.\n"
      ],
      "metadata": {
        "id": "pLHMZZXI303V"
      }
    },
    {
      "cell_type": "code",
      "source": [
        "# Tareas de imputación"
      ],
      "metadata": {
        "id": "Qb9peeSM35uf"
      },
      "execution_count": null,
      "outputs": []
    },
    {
      "cell_type": "code",
      "source": [
        "# Tareas de estandarización"
      ],
      "metadata": {
        "id": "d1Lbl0Dd373A"
      },
      "execution_count": null,
      "outputs": []
    },
    {
      "cell_type": "code",
      "source": [
        "# Otras tareas"
      ],
      "metadata": {
        "id": "-Vgrj7QS3-lo"
      },
      "execution_count": null,
      "outputs": []
    },
    {
      "cell_type": "markdown",
      "source": [
        "## Comentarios - Bloque 2"
      ],
      "metadata": {
        "id": "o-_2ZjGS4GY6"
      }
    },
    {
      "cell_type": "markdown",
      "source": [
        "## 5. Partiendo de esta submuestra final, genera los grupos de entrenamiento y validación e imprime pos pantalla alguna características del mismo.\n"
      ],
      "metadata": {
        "id": "Znag5SBE4Bd6"
      }
    },
    {
      "cell_type": "code",
      "source": [
        "# Selección de características"
      ],
      "metadata": {
        "id": "9qLf-Oie4DXM"
      },
      "execution_count": null,
      "outputs": []
    },
    {
      "cell_type": "code",
      "source": [
        "# Características seleccionadas y su importancia"
      ],
      "metadata": {
        "id": "iUJsFIPUL4KZ"
      },
      "execution_count": null,
      "outputs": []
    },
    {
      "cell_type": "markdown",
      "source": [
        "# **Bloque 3**"
      ],
      "metadata": {
        "id": "T2QfJRrJKKRi"
      }
    },
    {
      "cell_type": "markdown",
      "source": [
        "## 6. Partiendo de esta submuestra final, genera los grupos de entrenamiento y validación e imprime pos pantalla alguna características del mismo."
      ],
      "metadata": {
        "id": "M5K0LfDXKMTv"
      }
    },
    {
      "cell_type": "code",
      "source": [
        "# Creamos los train, test splits de los datos depurados"
      ],
      "metadata": {
        "id": "p4Y03vvzLLFX"
      },
      "execution_count": null,
      "outputs": []
    },
    {
      "cell_type": "markdown",
      "source": [
        "## 7. Calcula y muestra por pantalla información (métricas) sobre el desempeño del modelo frente al conjunto de validación."
      ],
      "metadata": {
        "id": "5npBJd-7LiKR"
      }
    },
    {
      "cell_type": "code",
      "source": [
        "# Calculamos las métricas de desempeño"
      ],
      "metadata": {
        "id": "BXudDx42Lmho"
      },
      "execution_count": null,
      "outputs": []
    },
    {
      "cell_type": "code",
      "source": [
        "# Visualizamos los resultados del modelo o mdelos (Matriz de Confusión, Curva ROC...)"
      ],
      "metadata": {
        "id": "X8n0m4TcNR2X"
      },
      "execution_count": null,
      "outputs": []
    },
    {
      "cell_type": "markdown",
      "source": [
        "## Comentarios - Bloque 3\n",
        "\n",
        "Ver ejemplos en las diapositvas de la S21"
      ],
      "metadata": {
        "id": "fB8DdQTILwZM"
      }
    },
    {
      "cell_type": "markdown",
      "source": [
        "## 8. Compartir Cuaderno de trabajo:\n",
        "https://colab.research.google.com/drive/1oNtE_f2mgRFTcBU9YGA50IBNf0FXu1Cv?usp=sharing\n"
      ],
      "metadata": {
        "id": "20psFuWEUZjO"
      }
    }
  ]
}