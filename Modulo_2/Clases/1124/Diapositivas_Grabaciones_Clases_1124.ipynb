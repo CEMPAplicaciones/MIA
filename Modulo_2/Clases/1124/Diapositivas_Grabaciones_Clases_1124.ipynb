{
  "nbformat": 4,
  "nbformat_minor": 0,
  "metadata": {
    "colab": {
      "provenance": [],
      "authorship_tag": "ABX9TyP2eNONB+0M4lIp/85kqb5L",
      "include_colab_link": true
    },
    "kernelspec": {
      "name": "python3",
      "display_name": "Python 3"
    },
    "language_info": {
      "name": "python"
    }
  },
  "cells": [
    {
      "cell_type": "markdown",
      "metadata": {
        "id": "view-in-github",
        "colab_type": "text"
      },
      "source": [
        "<a href=\"https://colab.research.google.com/github/CEMPAplicaciones/MIA/blob/main/Modulo_2/Clases/1124/Diapositivas_Grabaciones_Clases_1124.ipynb\" target=\"_parent\"><img src=\"https://colab.research.google.com/assets/colab-badge.svg\" alt=\"Open In Colab\"/></a>"
      ]
    },
    {
      "cell_type": "markdown",
      "source": [
        "# Diapositivas clases Máster en aplicaciones de la Inteligencia Artificial en Sanidad:\n",
        "\n",
        "* ### Módulo 2\n",
        "* ### Edición 124"
      ],
      "metadata": {
        "id": "feaXkQpoIsr4"
      }
    },
    {
      "cell_type": "markdown",
      "source": [
        "## Clase 2.1 - S11\n",
        "\n",
        "[Sistemas expertos basados en reglas](https://drive.google.com/file/d/1VhtE8MT_XwVseK80dnUAB3-x9KvqbA2F/view?usp=sharing)"
      ],
      "metadata": {
        "id": "SAp6JlTzvDHN"
      }
    },
    {
      "cell_type": "markdown",
      "source": [
        "## Clase 2.2 - S12\n",
        "\n",
        "[Aprendizaje Máquina o Machine Learning modelos de regresión, clasificación y agrupamiento](https://drive.google.com/file/d/1E-BESlwJCMR3QRp2bqI7T1mr8oJyQm0U/view?usp=sharing)\n"
      ],
      "metadata": {
        "id": "2E5fNzdw1Q5U"
      }
    },
    {
      "cell_type": "markdown",
      "source": [
        "## Clase 2.3 - S13\n",
        "\n",
        "[Redes neuronales y aprendizaje profundo](https://drive.google.com/file/d/1sfqIQT1cneAZJUiHQjE2zIt-Ro-V6V3d/view?usp=sharing)"
      ],
      "metadata": {
        "id": "frwJWgmY1klW"
      }
    },
    {
      "cell_type": "markdown",
      "source": [
        "## Clase 2.4 - S14\n",
        "\n",
        "[Selección de características y optimización de modelos](https://drive.google.com/file/d/1J7O_TFNYLfiIdjNiig_ogbjy3XXolWSt/view?usp=sharing)"
      ],
      "metadata": {
        "id": "S_ZXURbHv6TN"
      }
    },
    {
      "cell_type": "markdown",
      "source": [
        "## Clase 2.5 - S15\n",
        "\n",
        "[Introducción a Python](https://drive.google.com/file/d/17Bcb4WucqCRymI1eP7V8s40rdW-cKmJ1/view?usp=sharing)\n"
      ],
      "metadata": {
        "id": "zIVXdNZB1-Ux"
      }
    },
    {
      "cell_type": "markdown",
      "source": [
        "## Clase 2.6 - S16\n",
        "\n",
        "[Introducción a Python (Continuación)](https://drive.google.com/file/d/1Y4yJjhrbJOLLHxqGlJLoD1gt7wtVUxgL/view?usp=sharing)"
      ],
      "metadata": {
        "id": "V4U47wsN2MIX"
      }
    },
    {
      "cell_type": "markdown",
      "source": [
        "## Clase 2.7 - S17\n",
        "\n",
        "[Orientación a objetos](https://drive.google.com/file/d/1ay4FCfJGgmrr1yCZCuZxsNWf4ECNB3vU/view?usp=sharing)"
      ],
      "metadata": {
        "id": "sghmcU0l2X1_"
      }
    },
    {
      "cell_type": "markdown",
      "source": [
        "## Clase 2.8 - S18\n",
        "\n",
        "[Librerias Ciencia de Datos Numpy Pandas](https://drive.google.com/file/d/1-3p0J9E8iQLaepWsveAou8BvtXQDj_jb/view?usp=drive_link)"
      ],
      "metadata": {
        "id": "KNc7SkIcBd4w"
      }
    },
    {
      "cell_type": "markdown",
      "source": [
        "## Clase 2.9 - S19\n",
        "\n",
        "[Introducción a la IA en Python](https://drive.google.com/file/d/1RC3-NquigbtzSmsE_drrTqjTj_xQsXOJ/view?usp=sharing)\n"
      ],
      "metadata": {
        "id": "HBnltZ8dBrYj"
      }
    },
    {
      "cell_type": "markdown",
      "source": [
        "## Clase 2.10 - S20\n",
        "\n",
        "[Análisis de datos en Python](https://drive.google.com/file/d/1tP0JWNfbjdd-23Ir2xdNtE1Hb-UGxQgZ/view?usp=sharing)"
      ],
      "metadata": {
        "id": "-6qQkB_JB47o"
      }
    },
    {
      "cell_type": "markdown",
      "source": [
        "## Clase 2.11 - S21\n",
        "\n",
        "[Estructuración de datos](https://drive.google.com/file/d/1IQf1ND8B20wHjHRSEg_rkrPxKOXAuGjC/view?usp=sharing)"
      ],
      "metadata": {
        "id": "Q0B1mj6bCA_W"
      }
    },
    {
      "cell_type": "markdown",
      "source": [
        "## Clase 2.12 - S22\n",
        "\n",
        "[Machine Learning y Deep Learning en Python](https://drive.google.com/file/d/1ZFb0Rw7IB6Hj1JBRi6TK5ML3mE-NKOQX/view?usp=sharing)\n"
      ],
      "metadata": {
        "id": "vb0GRIZiCD_i"
      }
    },
    {
      "cell_type": "markdown",
      "source": [
        "## Trabajo Fin de Módulo - S23\n",
        "\n",
        "[Comentarios e indicaciones](https://drive.google.com/file/d/15XrNj9snSr5ubNzxBX6zTNdfCzcD7LD3/view?usp=sharing)"
      ],
      "metadata": {
        "id": "AbcGY_1PCFzl"
      }
    }
  ]
}